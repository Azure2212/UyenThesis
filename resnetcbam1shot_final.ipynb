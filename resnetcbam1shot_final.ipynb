{
 "cells": [
  {
   "cell_type": "markdown",
   "id": "45b97ec4",
   "metadata": {
    "_cell_guid": "b1076dfc-b9ad-4769-8c92-a6c4dae69d19",
    "_uuid": "8f2839f25d086af736a60e9eeb907d3b93b6e0e5",
    "papermill": {
     "duration": 0.005323,
     "end_time": "2025-03-01T09:14:04.286525",
     "exception": false,
     "start_time": "2025-03-01T09:14:04.281202",
     "status": "completed"
    },
    "tags": []
   },
   "source": [
    "<h1>1) Import All Library</h1>"
   ]
  },
  {
   "cell_type": "code",
   "execution_count": 1,
   "id": "c9a3de17",
   "metadata": {
    "execution": {
     "iopub.execute_input": "2025-03-01T09:14:04.296325Z",
     "iopub.status.busy": "2025-03-01T09:14:04.296102Z",
     "iopub.status.idle": "2025-03-01T09:14:15.851402Z",
     "shell.execute_reply": "2025-03-01T09:14:15.850473Z"
    },
    "papermill": {
     "duration": 11.561561,
     "end_time": "2025-03-01T09:14:15.852762",
     "exception": false,
     "start_time": "2025-03-01T09:14:04.291201",
     "status": "completed"
    },
    "tags": []
   },
   "outputs": [
    {
     "name": "stderr",
     "output_type": "stream",
     "text": [
      "/usr/local/lib/python3.10/dist-packages/albumentations/__init__.py:24: UserWarning: A new version of Albumentations is available: 2.0.5 (you have 1.4.20). Upgrade using: pip install -U albumentations. To disable automatic update checks, set the environment variable NO_ALBUMENTATIONS_UPDATE to 1.\n",
      "  check_for_updates()\n"
     ]
    }
   ],
   "source": [
    "import os\n",
    "import json\n",
    "import random\n",
    "import warnings\n",
    "\n",
    "warnings.simplefilter(action=\"ignore\", category=FutureWarning)\n",
    "\n",
    "import tqdm\n",
    "import torch\n",
    "import imgaug\n",
    "import numpy as np\n",
    "import pandas as pd\n",
    "import torch.nn as nn\n",
    "import torch.multiprocessing as mp\n",
    "import matplotlib.pyplot as plt\n",
    "\n",
    "import datetime\n",
    "import traceback\n",
    "import shutil\n",
    "\n",
    "import torch\n",
    "import torchvision\n",
    "import torch.nn as nn\n",
    "from torch import Tensor\n",
    "import torch.nn.functional as F\n",
    "from torch.utils.data import DataLoader\n",
    "\n",
    "\n",
    "import torch.optim as optim\n",
    "from torch.autograd import Variable\n",
    "from torch.optim.lr_scheduler import MultiplicativeLR, StepLR, MultiStepLR, ConstantLR, LinearLR, PolynomialLR, CosineAnnealingLR, LambdaLR, ChainedScheduler, ExponentialLR, SequentialLR, ReduceLROnPlateau, CyclicLR, CosineAnnealingWarmRestarts\n",
    "\n",
    "\n",
    "import torch.nn.functional as F\n",
    "from sklearn.metrics import confusion_matrix, classification_report\n",
    "import matplotlib.pyplot as plt\n",
    "import seaborn as sns\n",
    "\n",
    "\n",
    "import cv2\n",
    "from PIL import Image\n",
    "from torchvision.transforms import transforms\n",
    "from torch.utils.data import Dataset\n",
    "import albumentations as A\n",
    "from imgaug import augmenters as iaa\n",
    "\n",
    "from albumentations.pytorch import ToTensorV2\n",
    "\n",
    "seed = 113\n",
    "random.seed(seed)\n",
    "imgaug.seed(seed)\n",
    "torch.manual_seed(seed)\n",
    "torch.cuda.manual_seed_all(seed)\n",
    "np.random.seed(seed)\n",
    "torch.backends.cudnn.deterministic = True\n",
    "torch.backends.cudnn.benchmark = False"
   ]
  },
  {
   "cell_type": "markdown",
   "id": "01db1737",
   "metadata": {
    "papermill": {
     "duration": 0.00446,
     "end_time": "2025-03-01T09:14:15.862158",
     "exception": false,
     "start_time": "2025-03-01T09:14:15.857698",
     "status": "completed"
    },
    "tags": []
   },
   "source": [
    "<h1>2. Set up baseline for training, validation, testing stage</h1>\n",
    "<h1>2.1. Create Data loader for Rafdb dataset!</h1>"
   ]
  },
  {
   "cell_type": "code",
   "execution_count": 2,
   "id": "12b663a4",
   "metadata": {
    "execution": {
     "iopub.execute_input": "2025-03-01T09:14:15.872536Z",
     "iopub.status.busy": "2025-03-01T09:14:15.872159Z",
     "iopub.status.idle": "2025-03-01T09:14:15.884479Z",
     "shell.execute_reply": "2025-03-01T09:14:15.883623Z"
    },
    "papermill": {
     "duration": 0.018818,
     "end_time": "2025-03-01T09:14:15.885714",
     "exception": false,
     "start_time": "2025-03-01T09:14:15.866896",
     "status": "completed"
    },
    "tags": []
   },
   "outputs": [],
   "source": [
    "seg_raf = iaa.Sometimes(\n",
    "        0.5,\n",
    "\tiaa.Sequential([iaa.Fliplr(p=0.5), iaa.Affine(rotate=(-25, 25))]),\n",
    "        iaa.Sequential([iaa.RemoveSaturation(1),iaa.Affine(scale=(1.0, 1.05)) ])\n",
    ")\n",
    "seg_raftest2 = iaa.Sequential([iaa.RemoveSaturation(1),iaa.Affine(scale=(1.0, 1.05))])\n",
    "seg_raftest1 = iaa.Sequential([iaa.Fliplr(p=0.5), iaa.Affine(rotate=(-25, 25))])\n",
    "\n",
    "\n",
    "class RafDataSet(Dataset):\n",
    "    def __init__(self, data_type, configs,  ttau = False, len_tta = 48, use_albumentation = True):\n",
    "        self.use_albumentation = use_albumentation\n",
    "        self.data_type = data_type\n",
    "        self.configs = configs\n",
    "        self.ttau = ttau\n",
    "        self.len_tta = len_tta\n",
    "        self.shape = (configs[\"image_size\"], configs[\"image_size\"])\n",
    "\n",
    "        df = pd.read_csv(os.path.join(self.configs[\"raf_path\"],configs[\"label_path\"]), sep=' ', header=None,names=['name','label'])\n",
    "\n",
    "        if data_type == 'train':\n",
    "            self.data = df[df['name'].str.startswith('train')]\n",
    "        else:\n",
    "            self.data = df[df['name'].str.startswith('test')]\n",
    "\n",
    "        #self.data = self.data[:100]\n",
    "\n",
    "        file_names = self.data.loc[:, 'name'].values\n",
    "        self.label = self.data.loc[:, 'label'].values - 1 # 0:Surprise, 1:Fear, 2:Disgust, 3:Happiness, 4:Sadness, 5:Anger, 6:Neutral\n",
    "\n",
    "        _, self.sample_counts = np.unique(self.label, return_counts=True)\n",
    "        # print(f' distribution of {data_type} samples: {self.sample_counts}')\n",
    "\n",
    "        self.file_paths = []\n",
    "        for f in file_names:\n",
    "            f = f.split(\".\")[0]\n",
    "            f = f +\"_aligned.jpg\"\n",
    "            path = os.path.join(self.configs[\"raf_path\"], self.configs[\"image_path\"], f)\n",
    "            self.file_paths.append(path)\n",
    "\n",
    "        self.transform = transforms.Compose(\n",
    "        [\n",
    "            transforms.ToPILImage(),\n",
    "            transforms.Resize((224, 224)),\n",
    "            transforms.ToTensor(),\n",
    "            transforms.Normalize(mean=[0.485, 0.456, 0.406], std=[0.229, 0.224, 0.225]), # Imagenet\n",
    "            #transforms.Normalize(mean=[0.5071, 0.4865, 0.4409], std=[0.2675, 0.2565, 0.2761]), # VGGface2\n",
    "\n",
    "        ]\n",
    "        )\n",
    "    def __len__(self):\n",
    "        return len(self.file_paths)\n",
    "    \n",
    "    def is_ttau(self):\n",
    "        return self.ttau == True\n",
    "\n",
    "    def __getitem__(self, idx):\n",
    "        path = self.file_paths[idx]\n",
    "        image = cv2.imread(path)\n",
    "        image = image[:, :, ::-1]\n",
    "#         print(image.shape)\n",
    "        image = cv2.resize(image, self.shape)\n",
    "        \n",
    "        if self.data_type == \"train\":\n",
    "            image = seg_raf(image = image)\n",
    "            #image = my_data_augmentation(image.copy())\n",
    "        if self.data_type == \"test\" and self.ttau == True:\n",
    "            images1 = [seg_raftest1(image=image) for i in range(self.len_tta)]\n",
    "            images2 = [seg_raftest2(image=image) for i in range(self.len_tta)]\n",
    "\n",
    "            images = images1 + images2\n",
    "            # images = [image for i in range(self._tta_size)]\n",
    "            images = list(map(self.transform, images))\n",
    "            label = self.label[idx]\n",
    "        \n",
    "            return images, label\n",
    "\n",
    "        image = self.transform(image)\n",
    "        label = self.label[idx]\n",
    "        \n",
    "        return image, label"
   ]
  },
  {
   "cell_type": "markdown",
   "id": "71734100",
   "metadata": {
    "papermill": {
     "duration": 0.004385,
     "end_time": "2025-03-01T09:14:15.894815",
     "exception": false,
     "start_time": "2025-03-01T09:14:15.890430",
     "status": "completed"
    },
    "tags": []
   },
   "source": [
    "<h1>2.2. Create format for Train stage(include validation stage)</h1>"
   ]
  },
  {
   "cell_type": "code",
   "execution_count": 3,
   "id": "b7294d81",
   "metadata": {
    "execution": {
     "iopub.execute_input": "2025-03-01T09:14:15.904960Z",
     "iopub.status.busy": "2025-03-01T09:14:15.904711Z",
     "iopub.status.idle": "2025-03-01T09:14:15.943316Z",
     "shell.execute_reply": "2025-03-01T09:14:15.942518Z"
    },
    "papermill": {
     "duration": 0.04529,
     "end_time": "2025-03-01T09:14:15.944558",
     "exception": false,
     "start_time": "2025-03-01T09:14:15.899268",
     "status": "completed"
    },
    "tags": []
   },
   "outputs": [],
   "source": [
    "def accuracy(y_pred, labels):\n",
    "    with torch.no_grad():\n",
    "        batch_size = labels.size(0)\n",
    "        pred = torch.argmax(y_pred, dim=1)\n",
    "        correct = pred.eq(labels).float().sum(0)\n",
    "        acc = correct * 100 / batch_size\n",
    "    return [acc]\n",
    "\n",
    "def make_batch(images):\n",
    "    if not isinstance(images, list):\n",
    "        images = [images]\n",
    "    return torch.stack(images, 0)\n",
    "\n",
    "def get_lr(optimizer):\n",
    "    for param_group in optimizer.param_groups:\n",
    "        return param_group['lr']\n",
    "\n",
    "def create_CSV(output_csv_path):\n",
    "  df = pd.DataFrame(columns=['epoch', 'learning_rate','accuracy', 'loss', 'val_accuracy', 'val_loss'])\n",
    "  df.to_csv(output_csv_path, index=False)\n",
    "\n",
    "def update_output_csv(output_csv_path, epoch, lr, accuracy, loss, val_accuracy, val_loss):\n",
    "  df = pd.read_csv(output_csv_path)\n",
    "  new_line = pd.DataFrame({'epoch':[epoch], 'learning_rate':[lr],'accuracy':[accuracy], 'loss':[loss], 'val_accuracy':[val_accuracy], 'val_loss':[val_loss]})\n",
    "  new_line = new_line[df.columns]\n",
    "  df = pd.concat([df, new_line], ignore_index=True)\n",
    "  df.to_csv(output_csv_path, index=False)\n",
    "\n",
    "class Trainer(object):\n",
    "    \"\"\"base class for trainers\"\"\"\n",
    "\n",
    "    def __init__(self):\n",
    "        pass\n",
    "\n",
    "\n",
    "class RAFDB_Trainer(Trainer):\n",
    "  def __init__(self, model, train_loader, val_loader, test_loader,test_loader_ttau, configs, wb = False, output_csv_path = '/kaggle/working/out.csv', initial_best_val_acc = 0.0):\n",
    "\n",
    "    self.train_loader = train_loader\n",
    "    self.val_loader = val_loader\n",
    "    self.test_loader = test_loader\n",
    "    self.test_loader_ttau = test_loader_ttau\n",
    "    self.output_csv_path = output_csv_path\n",
    "    create_CSV(output_csv_path = self.output_csv_path)\n",
    "    self.configs = configs\n",
    "\n",
    "    self.batch_size = configs[\"batch_size\"]\n",
    "    # self.epochs = configs[\"epochs\"]\n",
    "    self.learning_rate = configs[\"lr\"]\n",
    "    self.min_lr = configs[\"min_lr\"]\n",
    "    self.num_workers = configs[\"num_workers\"]\n",
    "    self.momentum = configs[\"momentum\"]\n",
    "    self.weight_decay = configs[\"weight_decay\"]\n",
    "    self.device = torch.device(configs[\"device\"])\n",
    "    self.max_plateau_count = configs[\"max_plateau_count\"]\n",
    "    self.max_epoch_num = configs[\"max_epoch_num\"]\n",
    "    self.distributed = configs[\"distributed\"]\n",
    "    self.optimizer_chose = configs[\"optimizer_chose\"]\n",
    "    self.lr_scheduler_chose = configs[\"lr_scheduler\"]\n",
    "    self.name_run_wandb = configs[\"name_run_wandb\"]\n",
    "    self.wb = wb\n",
    "\n",
    "    #self.model = model.to(self.device)'cpu'\n",
    "    '''if torch.cuda.is_available():\n",
    "      self.device = torch.device('cuda:0')  # Use CUDA device \n",
    "    else:\n",
    "      self.device = torch.device('cpu')\n",
    "      print(\"CUDA is not available, falling back to CPU.\")'''\n",
    "    self.model = model.to(self.device)\n",
    "\n",
    "# Move the model to the device\n",
    "    '''try:\n",
    "      model = model.to(self.device)\n",
    "    except Exception as e:\n",
    "      print(\"Error:\", e)'''\n",
    "\n",
    "    self.train_loss_list = []\n",
    "    self.train_acc_list = []\n",
    "    self.val_loss_list = []\n",
    "    self.val_acc_list = []\n",
    "    self.best_train_acc = 0.0\n",
    "    self.best_val_acc = initial_best_val_acc\n",
    "    self.best_train_loss = 0.0\n",
    "    self.best_val_loss = 0.0\n",
    "    self.test_acc = 0.0\n",
    "    self.test_acc_ttau = 0.0\n",
    "    self.plateau_count = 0\n",
    "    #self.current_epoch_num = 0\n",
    "    self.current_epoch_num = configs[\"current_epoch_num\"]\n",
    "    # Set information for training\n",
    "    self.start_time = datetime.datetime.now()\n",
    "\n",
    "    self.checkpoint_dir = \"/kaggle/working/\"\n",
    "\n",
    "    '''self.checkpoint_path = os.path.join(self.checkpoint_dir, \"{}_{}_{}\".format\n",
    "                                        (self.configs[\"project_name\"], self.configs[\"model\"], self.start_time.strftime(\"%Y%b%d_%H.%M\"),))'''\n",
    "\n",
    "    self.checkpoint_path = os.path.join(self.checkpoint_dir,\"ResnetDuck_Cbam_cuaTuan\")\n",
    "\n",
    "    if self.distributed == 1:\n",
    "            torch.distributed.init_process_group(backend=\"nccl\")\n",
    "            self.model = nn.parallel.DistributedDataParallel(self.model)\n",
    "            print(\"Let's use\", torch.cuda.device_count(), \"GPUs!\")\n",
    "\n",
    "            self.train_ds = DataLoader(\n",
    "                self.train_loader,\n",
    "                batch_size=self.batch_size,\n",
    "                num_workers=self.num_workers,\n",
    "                pin_memory=True,\n",
    "                shuffle=True,\n",
    "                worker_init_fn=lambda x: np.random.seed(x),\n",
    "            )\n",
    "            self.val_ds = DataLoader(\n",
    "                self.val_loader,\n",
    "                batch_size=self.batch_size,\n",
    "                num_workers=self.num_workers,\n",
    "                pin_memory=True,\n",
    "                shuffle=False,\n",
    "                worker_init_fn=lambda x: np.random.seed(x),\n",
    "            )\n",
    "\n",
    "            self.test_ds = DataLoader(\n",
    "                self.test_loader,\n",
    "                batch_size=1,\n",
    "                num_workers=self.num_workers,\n",
    "                pin_memory=True,\n",
    "                shuffle=False,\n",
    "                worker_init_fn=lambda x: np.random.seed(x),\n",
    "            )\n",
    "    else:\n",
    "\n",
    "      self.train_ds = DataLoader(self.train_loader,batch_size=self.batch_size,num_workers=self.num_workers,\n",
    "                        pin_memory=True, shuffle=True)\n",
    "      self.val_ds = DataLoader(self.val_loader, batch_size = self.batch_size, num_workers=self.num_workers,\n",
    "                      pin_memory=True, shuffle=False)\n",
    "      self.test_ds = DataLoader(self.test_loader, batch_size= 1,num_workers=self.num_workers,\n",
    "                      pin_memory=True, shuffle=False)\n",
    "    \n",
    "    \n",
    "    self.criterion = nn.CrossEntropyLoss().to(self.device)\n",
    "\n",
    "    if self.optimizer_chose == \"RAdam\":\n",
    "      print(\"The selected optimizer is RAdam\")\n",
    "      self.optimizer = torch.optim.RAdam(\n",
    "        params=self.model.parameters(),\n",
    "        lr=self.learning_rate,\n",
    "        weight_decay=self.weight_decay,\n",
    "#       amsgrad = True,\n",
    "    )\n",
    "    elif self.optimizer_chose == \"SGD\":\n",
    "      print(\"The selected optimizer is SGD\")\n",
    "      self.optimizer = torch.optim.SGD(model.parameters(), lr=self.learning_rate, momentum=0.9)\n",
    "    elif self.optimizer_chose == \"RMSprop\":\n",
    "      print(\"The selected optimizer is RMSprop\")\n",
    "      self.optimizer = torch.optim.RMSprop(\n",
    "        params=model.parameters(),\n",
    "        lr=self.learning_rate,\n",
    "        weight_decay=self.weight_decay,\n",
    "        momentum=0.9,\n",
    "        alpha=0.99,\n",
    "        eps=1e-8)\n",
    "    elif self.optimizer_chose == \"Adam\":\n",
    "      print(\"The selected optimizer is Adam\")\n",
    "      self.optimizer = torch.optim.Adam(\n",
    "        params=model.parameters(),\n",
    "        lr=self.learning_rate,\n",
    "        betas=(0.9, 0.999),\n",
    "        eps=1e-8,\n",
    "        weight_decay=self.weight_decay)\n",
    "    elif self.optimizer_chose == \"AdamW\":\n",
    "      print(\"The selected optimizer is AdamW\")\n",
    "      self.optimizer = torch.optim.AdamW(\n",
    "          params=self.model.parameters(),\n",
    "          lr=self.learning_rate,\n",
    "          betas=(0.9, 0.999),\n",
    "          eps=1e-8,\n",
    "          weight_decay=self.weight_decay)\n",
    "    elif self.optimizer_chose == \"Adamax\":\n",
    "      print(\"The selected optimizer is Adamax\")\n",
    "      self.optimizer = torch.optim.Adamax(\n",
    "          params=self.model.parameters(),\n",
    "          lr=self.learning_rate,\n",
    "          betas=(0.9, 0.999),\n",
    "          eps=1e-8,\n",
    "          weight_decay=self.weight_decay)\n",
    "    elif self.optimizer_chose == \"Adagrad\":\n",
    "      print(\"The selected optimizer is Adagrad\")\n",
    "      self.optimizer = torch.optim.Adagrad(\n",
    "          params=self.model.parameters(),\n",
    "          lr=self.learning_rate,\n",
    "          lr_decay=0.001,  \n",
    "          weight_decay=self.weight_decay,  \n",
    "          initial_accumulator_value=0.1,  \n",
    "          eps=1e-8\n",
    "      )\n",
    "    else:  #default =\"RAdam\"\n",
    "      print(\"The selected optimizer is RAdam\")\n",
    "      self.optimizer = torch.optim.RAdam(\n",
    "        params=self.model.parameters(),\n",
    "        lr=self.learning_rate,\n",
    "        weight_decay=self.weight_decay,\n",
    "#       amsgrad = True,\n",
    "    )\n",
    "      \n",
    "      \n",
    "    if self.lr_scheduler_chose == \"ReduceLROnPlateau\":\n",
    "      self.scheduler = ReduceLROnPlateau(\n",
    "        self.optimizer,\n",
    "        patience=self.configs[\"plateau_patience\"],\n",
    "        min_lr=self.min_lr,\n",
    "        # factor = torch.exp(torch.Tensor([-0.1])),\n",
    "        factor = 0.5,\n",
    "      )\n",
    "      print(\"The selected learning_rate scheduler strategy is ReduceLROnPlateau\")\n",
    "    elif self.lr_scheduler_chose == \"MultiStepLR\":\n",
    "      milestones = [x for x in range(5, 120, 5)]\n",
    "      self.scheduler = MultiStepLR(self.optimizer, milestones=milestones, gamma=0.5,  verbose=True)\n",
    "      print(\"The selected learning_rate scheduler strategy is MultiStepLR\")\n",
    "\n",
    "    elif self.lr_scheduler_chose == \"ExponentialLR\":\n",
    "      self.scheduler = ExponentialLR(self.optimizer, gamma = 0.8,  verbose=True)\n",
    "      print(\"The selected learning_rate scheduler strategy is ExponentialLR\")\n",
    "\n",
    "    elif self.lr_scheduler_chose == \"PolynomialLR\":\n",
    "      self.scheduler = PolynomialLR(self.optimizer, total_iters=30, power=2,  verbose=True)\n",
    "      print(\"The selected learning_rate scheduler strategy is PolynomialLR\")\n",
    "\n",
    "    elif self.lr_scheduler_chose == \"CosineAnnealingLR\":\n",
    "      self.scheduler = CosineAnnealingLR(self.optimizer, T_max=10, eta_min=self.min_lr,  verbose=True)\n",
    "      print(\"The selected learning_rate scheduler strategy is CosineAnnealingLR\")\n",
    "\n",
    "    elif self.lr_scheduler_chose == \"CosineAnnealingWarmRestarts\":\n",
    "      self.scheduler = CosineAnnealingWarmRestarts(self.optimizer, T_0=5, T_mult=2, eta_min=self.min_lr,  verbose=True)\n",
    "      print(\"The selected learning_rate scheduler strategy is CosineAnnealingWarmRestarts\")\n",
    "\n",
    "    else: #default =\"ReduceLROnPlateau\"\n",
    "      self.lr_scheduler_chose = 'None'\n",
    "      lambda_lr = lambda epoch: 1.0  # Không thay đổi learning rate\n",
    "      self.scheduler = LambdaLR(self.optimizer, lr_lambda=lambda_lr)\n",
    "      print(f\"No choosing Learning rate scheduler(lr={self.learning_rate})\")\n",
    "\n",
    "       \n",
    "  def init_wandb(self):\n",
    "    #set up wandb for training\n",
    "    if self.wb == True:\n",
    "      try:\n",
    "        print(\"------------SETTING UP WANDB--------------\")\n",
    "        import wandb\n",
    "        self.wandb = wandb\n",
    "        self.wandb.login(key=self.configs[\"wandb_api_key\"])\n",
    "        print(\"------Wandb Init-------\")\n",
    "\n",
    "        self.wandb.init(\n",
    "            project = self.configs[\"project_name\"],\n",
    "            name = self.name_run_wandb,\n",
    "            config = self.configs\n",
    "        )\n",
    "        self.wandb.watch(self.model, self.criterion, log=\"all\", log_freq=10)\n",
    "        print()\n",
    "        print(\"-----------------------TRAINING MODEL-----------------------\")\n",
    "      except:\n",
    "          print(\"--------Can not import wandb-------\")\n",
    "\n",
    "    # return wandb\n",
    "  def step_per_train(self):\n",
    "    # if self.wb == True:\n",
    "    #   self.wandb.watch(model)\n",
    "\n",
    "    self.model.train()\n",
    "    train_loss = 0.0\n",
    "    train_acc = 0.0\n",
    "\n",
    "    for i, (images, labels) in tqdm.tqdm(\n",
    "        enumerate(self.train_ds), total = len(self.train_ds), leave = True, colour = \"blue\", desc = f\"Epoch {self.current_epoch_num}\",\n",
    "        bar_format=\"{desc}: {percentage:3.0f}%|{bar:50}| {n_fmt}/{total_fmt} [{elapsed}<{remaining}]\"\n",
    "    ):\n",
    "\n",
    "      # Move images to GPU before feeding them to the model, to fix error happen : Input type (torch.cuda.FloatTensor) and weight type (torch.FloatTensor) should be the same\n",
    "      self.model = self.model.cuda()\n",
    "      \n",
    "      images = images.cuda(non_blocking = True)\n",
    "      labels = labels.cuda(non_blocking = True)\n",
    "\n",
    "      # compute output, accuracy and get loss\n",
    "      y_pred = self.model(images)\n",
    "    \n",
    "      loss = self.criterion(y_pred, labels)\n",
    "      acc = accuracy(y_pred, labels)[0]\n",
    "      \n",
    "\n",
    "      train_loss += loss.item()\n",
    "      train_acc += acc.item()\n",
    "\n",
    "      # compute gradient and do SGD step\n",
    "      self.optimizer.zero_grad()\n",
    "      loss.backward()\n",
    "      self.optimizer.step()\n",
    "\n",
    "      # write wandb\n",
    "      metric = {\n",
    "          \" Loss\" : train_loss / (i+1),\n",
    "          \" Accuracy\" :train_acc / (i+1),\n",
    "          \" epochs\" : self.current_epoch_num,\n",
    "          \" Learning_rate\" : get_lr(self.optimizer)\n",
    "      }\n",
    "      if self.wb == True and i <= len(self.train_ds):\n",
    "            self.wandb.log(metric)\n",
    "\n",
    "      \n",
    "    i += 1\n",
    "    self.train_loss_list.append(train_loss / i)\n",
    "    self.train_acc_list.append(train_acc / i)\n",
    "\n",
    "\n",
    "    print(\" Loss: {:.4f}\".format(self.train_loss_list[-1]), \", Accuracy: {:.2f}%\".format(self.train_acc_list[-1]))\n",
    "\n",
    "  def step_per_val(self):\n",
    "    self.model.eval()\n",
    "    val_loss = 0.0\n",
    "    val_acc = 0.0\n",
    "\n",
    "    with torch.no_grad():\n",
    "      for i, (images, labels) in tqdm.tqdm(\n",
    "          enumerate(self.val_ds), total = len(self.val_ds), leave = True, colour = \"green\", desc = \"        \",\n",
    "          bar_format=\"{desc} {percentage:3.0f}%|{bar:30}| {n_fmt}/{total_fmt} [{elapsed}<{remaining}]\"\n",
    "      ):\n",
    "        images = images.cuda(non_blocking = True)\n",
    "        labels = labels.cuda(non_blocking = True)\n",
    "\n",
    "        # compute output, accuracy and get loss\n",
    "        y_pred = self.model(images)\n",
    "\n",
    "        loss = self.criterion(y_pred, labels)\n",
    "        acc = accuracy(y_pred, labels)[0]\n",
    "\n",
    "        val_loss += loss.item()\n",
    "        val_acc += acc.item()\n",
    "\n",
    "      i += 1\n",
    "      self.val_loss_list.append(val_loss / i)\n",
    "      self.val_acc_list.append(val_acc / i)\n",
    "\n",
    "      print(\" Val_Loss: {:.4f}\".format(self.val_loss_list[-1]),\", Val_Accuracy: {:.2f}%\".format(self.val_acc_list[-1]),\", Learning_rate: {:.7}\".format(self.optimizer.param_groups[0]['lr']))\n",
    "\n",
    "      # write wandb\n",
    "      if self.wb == True:\n",
    "        metric = {\n",
    "            \" Val_Loss\" : self.val_loss_list[-1],\n",
    "            \" Val_Accuracy\" :self.val_acc_list[-1],\n",
    "            # \"Learning_rate\" : self.learning_rate\n",
    "        }\n",
    "        self.wandb.log(metric)\n",
    "\n",
    "      \n",
    "\n",
    "  def acc_on_test(self):\n",
    "    self.model.eval()\n",
    "    test_loss = 0.0\n",
    "    test_acc = 0.0\n",
    "\n",
    "    with torch.no_grad():\n",
    "      for i, (images, labels) in tqdm.tqdm(\n",
    "          enumerate(self.test_ds), total = len(self.test_ds), leave = True, colour = \"green\", desc = \"        \",\n",
    "          bar_format=\"{desc} {percentage:3.0f}%|{bar:30}| {n_fmt}/{total_fmt} [{elapsed}<{remaining}]\"\n",
    "      ):\n",
    "        images = images.cuda(non_blocking = True)\n",
    "        labels = labels.cuda(non_blocking = True)\n",
    "\n",
    "        # compute output, accuracy and get loss\n",
    "        y_pred = self.model(images)\n",
    "\n",
    "        loss = self.criterion(y_pred, labels)\n",
    "        acc = accuracy(y_pred, labels)[0]\n",
    "\n",
    "        test_loss += loss.item()\n",
    "        test_acc += acc.item()\n",
    "\n",
    "        # print(i)\n",
    "      i += 1\n",
    "      test_loss = (test_loss / i)\n",
    "      test_acc = (test_acc / i)\n",
    "\n",
    "      print(\"Accuracy on Test_ds: {:.3f}\".format(test_acc))\n",
    "      if self.wb == True:\n",
    "        self.wandb.log({\"Test_accuracy\": test_acc})\n",
    "      return test_acc\n",
    "\n",
    "  def acc_on_test_ttau(self):\n",
    "    self.model.eval()\n",
    "    test_acc = 0.0\n",
    "    # print(\" Calculate accuracy on Test_ds with TTAU...!\")\n",
    "\n",
    "    # write log for testting\n",
    "\n",
    "    with torch.no_grad():\n",
    "      for idx in tqdm.tqdm(\n",
    "          range(len(self.test_loader_ttau)), total = len(self.test_loader_ttau), leave = False\n",
    "      ):\n",
    "\n",
    "        images, labels = self.test_loader_ttau[idx]\n",
    "        labels = torch.LongTensor([labels])\n",
    "\n",
    "        images = make_batch(images)\n",
    "        images = images.cuda(non_blocking=True)\n",
    "        labels = labels.cuda(non_blocking=True)\n",
    "\n",
    "        y_pred = self.model(images)\n",
    "        y_pred = F.softmax(y_pred, 1)\n",
    "\n",
    "        y_pred = torch.sum(y_pred, 0)\n",
    "\n",
    "        y_pred = torch.unsqueeze(y_pred, 0)\n",
    "\n",
    "        acc = accuracy(y_pred, labels)[0]\n",
    "\n",
    "        test_acc += acc.item()\n",
    "\n",
    "      test_acc = test_acc / (idx + 1)\n",
    "    print(\"Accuracy on Test_ds with TTAU: {:.3f}\".format(test_acc))\n",
    "    if self.wb == True:\n",
    "      self.wandb.log({\"Testta_accuracy\": test_acc})\n",
    "\n",
    "    return test_acc\n",
    "\n",
    "  def Train_model(self):\n",
    "    self.init_wandb()\n",
    "    #self.scheduler.step(100 - self.best_val_acc)\n",
    "    try:\n",
    "      while not self.stop_train():\n",
    "        self.update_epoch_num()\n",
    "        self.step_per_train()\n",
    "        self.step_per_val()\n",
    "\n",
    "        self.update_state_training()\n",
    "\n",
    "    except KeyboardInterrupt:\n",
    "      traceback.print_exc()\n",
    "      pass\n",
    "    # Stop training\n",
    "    try:\n",
    "      #loading best model\n",
    "      state = torch.load(self.checkpoint_path)\n",
    "      self.model.load_state_dict(state[\"net\"])\n",
    "      print(\"----------------------Cal on Test-----------------------\")\n",
    "      self.test_acc = self.acc_on_test()\n",
    "      self.test_acc_ttau = self.acc_on_test_ttau()\n",
    "      self.save_weights()\n",
    "\n",
    "    except Exception as e:\n",
    "      traceback.prtin_exc()\n",
    "      pass\n",
    "\n",
    "    consume_time = str(datetime.datetime.now() - self.start_time)\n",
    "    print(\"----------------------SUMMARY-----------------------\")\n",
    "    print(\" After {} epochs and {} plateau count, consume {}\".format((self.current_epoch_num), (self.plateau_count),consume_time[:-7]))\n",
    "    print(\" Best Accuracy on Train: {:.3f} \".format(self.best_train_acc))\n",
    "    print(\" Best Accuracy on Val: {:.3f} \".format(self.best_val_acc))\n",
    "    print(\" Best Accuracy on Test: {:.3f} \".format(self.test_acc))\n",
    "    print(\" Best Accuracy on Test with tta: {:.3f} \".format(self.test_acc_ttau))\n",
    "    return self.model, self.best_val_acc\n",
    "\n",
    "  #set up for training (update epoch, stopping training, write logging)\n",
    "  def update_epoch_num(self):\n",
    "    self.current_epoch_num += 1\n",
    "\n",
    "  def stop_train(self):\n",
    "    return (\n",
    "        self.plateau_count > self.max_plateau_count or\n",
    "        self.current_epoch_num > self.max_epoch_num\n",
    "    )\n",
    "  \n",
    "  def update_state_training(self):\n",
    "    if self.val_acc_list[-1] > self.best_val_acc:\n",
    "      self.save_weights()\n",
    "      self.plateau_count = 0\n",
    "      self.best_val_acc = self.val_acc_list[-1]\n",
    "      self.best_val_loss = self.val_loss_list[-1]\n",
    "      self.best_train_acc = self.train_acc_list[-1]\n",
    "      self.best_train_loss = self.train_loss_list[-1]\n",
    "      print(f'Weight was updated because val_accuracy get highest(={self.val_acc_list[-1]})')\n",
    "    else:\n",
    "      self.plateau_count += 1\n",
    "    \n",
    "    #update CSV\n",
    "    update_output_csv(output_csv_path = self.output_csv_path, \n",
    "                      epoch=len(self.val_acc_list),\n",
    "                      lr = self.optimizer.param_groups[0]['lr'], \n",
    "                      accuracy = self.train_acc_list[-1],\n",
    "                      loss = self.train_loss_list[-1],\n",
    "                      val_accuracy = self.val_acc_list[-1],\n",
    "                      val_loss = self.val_loss_list[-1])\n",
    "\n",
    "# 100 - self.best_val_acc\n",
    "    if self.lr_scheduler_chose == \"ReduceLROnPlateau\":\n",
    "      self.scheduler.step(self.val_acc_list[-1])\n",
    "    else:\n",
    "      self.scheduler.step()\n",
    "\n",
    "    if self.optimizer.param_groups[0]['lr'] < self.min_lr:\n",
    "      self.optimizer.param_groups[0]['lr'] = self.min_lr\n",
    "#100 - self.best_val_acc\n",
    "\n",
    "  def save_weights(self):\n",
    "    state_dict = self.model.state_dict()\n",
    "\n",
    "    state = {\n",
    "        **self.configs,\n",
    "        \"net\": state_dict,\n",
    "        \"best_val_loss\": self.best_val_loss,\n",
    "        \"best_val_acc\": self.best_val_acc,\n",
    "        \"best_train_loss\": self.best_train_loss,\n",
    "        \"best_train_acc\": self.best_train_acc,\n",
    "        \"train_loss_list\": self.train_loss_list,\n",
    "        \"val_loss_list\": self.val_loss_list,\n",
    "        \"train_acc_list\": self.train_acc_list,\n",
    "        \"val_acc_list\": self.val_acc_list,\n",
    "        \"test_acc\": self.test_acc,\n",
    "        \"optimizer\": self.optimizer.state_dict(),\n",
    "    }\n",
    "\n",
    "    torch.save(state, self.checkpoint_path)"
   ]
  },
  {
   "cell_type": "markdown",
   "id": "1c860625",
   "metadata": {
    "papermill": {
     "duration": 0.004382,
     "end_time": "2025-03-01T09:14:15.953407",
     "exception": false,
     "start_time": "2025-03-01T09:14:15.949025",
     "status": "completed"
    },
    "tags": []
   },
   "source": [
    "<h1>2.3. Setup Baseline for Testing Stage</h1>\n"
   ]
  },
  {
   "cell_type": "code",
   "execution_count": 4,
   "id": "f1de2ed6",
   "metadata": {
    "execution": {
     "iopub.execute_input": "2025-03-01T09:14:15.963216Z",
     "iopub.status.busy": "2025-03-01T09:14:15.962974Z",
     "iopub.status.idle": "2025-03-01T09:14:15.973249Z",
     "shell.execute_reply": "2025-03-01T09:14:15.972444Z"
    },
    "papermill": {
     "duration": 0.01677,
     "end_time": "2025-03-01T09:14:15.974591",
     "exception": false,
     "start_time": "2025-03-01T09:14:15.957821",
     "status": "completed"
    },
    "tags": []
   },
   "outputs": [],
   "source": [
    "def plot_confusion_matrix(model, testloader,title = \"My model\"):\n",
    "    model.cuda()\n",
    "    model.eval()\n",
    "\n",
    "    correct = 0\n",
    "    total = 0\n",
    "    all_target = []\n",
    "    all_output = []\n",
    "\n",
    "    # test_set = fer2013(\"test\", configs, tta=True, tta_size=8)\n",
    "    # test_set = fer2013('test', configs, tta=False, tta_size=0)\n",
    "\n",
    "    with torch.no_grad():\n",
    "        for idx in tqdm.tqdm(range(len(testloader)), total=len(testloader), leave=False):\n",
    "            images, labels = testloader[idx]\n",
    "\n",
    "            images = make_batch(images)\n",
    "            images = images.cuda(non_blocking=True)\n",
    "\n",
    "            preds = model(images).cpu()\n",
    "            preds = F.softmax(preds, 1)\n",
    "\n",
    "            # preds.shape [tta_size, 7]\n",
    "            preds = torch.sum(preds, 0)\n",
    "            preds = torch.argmax(preds, 0)\n",
    "            preds = preds.item()\n",
    "            labels = labels.item()\n",
    "            total += 1\n",
    "            correct += preds == labels\n",
    "\n",
    "            all_target.append(labels)\n",
    "            all_output.append(preds)\n",
    "\n",
    "    \n",
    "    cf_matrix = confusion_matrix(all_target, all_output)\n",
    "    cmn = cf_matrix.astype('float') / cf_matrix.sum(axis=1)[:, np.newaxis]\n",
    "    class_names = [\"Surprise\", \"Fear\", \"Disgust\", \"Happy\", \"Sad\", \"Anger\", \"Neutral\"]\n",
    "    #0:Surprise, 1:Fear, 2:Disgust, 3:Happiness, 4:Sadness, 5:Anger, 6:Neutral\n",
    "\n",
    "    # Create pandas dataframe\n",
    "    dataframe = pd.DataFrame(cmn, index=class_names, columns=class_names)\n",
    "    plt.figure(figsize=(8, 6))\n",
    "    \n",
    "    # Create heatmap\n",
    "    sns.heatmap(dataframe, annot=True, cbar=True,cmap=\"Blues\",fmt=\".2f\")\n",
    "    \n",
    "    plt.title(title), plt.tight_layout()\n",
    "    \n",
    "    plt.ylabel(\"True Class\", fontsize=12), \n",
    "    plt.xlabel(\"Predicted Class\", fontsize=12)\n",
    "    plt.show()\n",
    "\n",
    "    plt.savefig(\"DuckAttention_imagenet_RAFDB_CM.pdf\")\n",
    "    plt.close()\n",
    "\n",
    "    print(classification_report(all_target, all_output, target_names=class_names))\n",
    "\n",
    "def training_process_statistic(rs_path):\n",
    "    import pandas as pd\n",
    "    result = pd.read_csv(rs_path)\n",
    "    plt.figure(figsize=(10, 8))\n",
    "    \n",
    "    # Plotting Accuracy\n",
    "    plt.subplot(3, 3, 1)\n",
    "    plt.plot(result['epoch'], result['accuracy'], label='Training Accuracy', color='red')\n",
    "    plt.xlabel('Epoch')\n",
    "    plt.ylabel('Accuracy')\n",
    "    plt.legend()\n",
    "    \n",
    "    plt.subplot(3, 3, 2)\n",
    "    plt.plot(result['epoch'], result['val_accuracy'], label='Validation Accuracy', color='red')\n",
    "    plt.xlabel('Epoch')\n",
    "    plt.ylabel('val_accuracy')\n",
    "    plt.legend()\n",
    "    \n",
    "    plt.subplot(3, 3, 3)\n",
    "    plt.plot(result['epoch'], result['loss'], label='Training Loss', color='red')\n",
    "    plt.xlabel('Epoch')\n",
    "    plt.ylabel('loss')\n",
    "    plt.legend()\n",
    "    \n",
    "    plt.subplot(3, 3, 4)\n",
    "    plt.plot(result['epoch'], result['val_loss'], label='Validation Loss', color='red')\n",
    "    plt.xlabel('Epoch')\n",
    "    plt.ylabel('val_loss')\n",
    "    plt.legend()\n",
    "\n",
    "    plt.subplot(3, 3, 5)\n",
    "    plt.plot(result['epoch'], result['epoch'], label='epoch', color='red')\n",
    "    plt.xlabel('Epoch')\n",
    "    plt.ylabel('Epoch')\n",
    "    plt.legend()\n",
    "    \n",
    "    plt.subplot(3, 3, 6)\n",
    "    plt.plot(result['epoch'], result['learning_rate'], label='Learning Rate', color='red')\n",
    "    plt.xlabel('Epoch')\n",
    "    plt.ylabel('Learning Rate')\n",
    "    plt.legend()\n",
    "   "
   ]
  },
  {
   "cell_type": "markdown",
   "id": "8194fe72",
   "metadata": {
    "papermill": {
     "duration": 0.004275,
     "end_time": "2025-03-01T09:14:15.983432",
     "exception": false,
     "start_time": "2025-03-01T09:14:15.979157",
     "status": "completed"
    },
    "tags": []
   },
   "source": [
    "<h1>3. Create Resnet50, Resnet50+Cbam model</h1>"
   ]
  },
  {
   "cell_type": "code",
   "execution_count": 5,
   "id": "d0b997cc",
   "metadata": {
    "execution": {
     "iopub.execute_input": "2025-03-01T09:14:15.993392Z",
     "iopub.status.busy": "2025-03-01T09:14:15.993164Z",
     "iopub.status.idle": "2025-03-01T09:14:16.191921Z",
     "shell.execute_reply": "2025-03-01T09:14:16.191074Z"
    },
    "papermill": {
     "duration": 0.205628,
     "end_time": "2025-03-01T09:14:16.193506",
     "exception": false,
     "start_time": "2025-03-01T09:14:15.987878",
     "status": "completed"
    },
    "tags": []
   },
   "outputs": [],
   "source": [
    "import torch\n",
    "import torch.nn as nn\n",
    "import torch.nn.functional as F\n",
    "import math\n",
    "import pickle\n",
    "try:\n",
    "    from torch.hub import load_state_dict_from_url\n",
    "except ImportError:\n",
    "    from torch.utils.model_zoo import load_url as load_state_dict_from_url\n",
    "\n",
    "__all__ = [\n",
    "    \"ResNet\",\n",
    "    \"resnet18\",\n",
    "    \"resnet34\",\n",
    "    \"resnet50\",\n",
    "    \"resnet101\",\n",
    "    \"resnet152\",\n",
    "    \"resnext50_32x4d\",\n",
    "    \"resnext101_32x8d\",\n",
    "    \"wide_resnet50_2\",\n",
    "    \"wide_resnet101_2\",\n",
    "]\n",
    "\n",
    "\n",
    "model_urls = {\n",
    "    \"resnet18\": \"https://download.pytorch.org/models/resnet18-5c106cde.pth\",\n",
    "    \"resnet34\": \"https://download.pytorch.org/models/resnet34-333f7ec4.pth\",\n",
    "    \"resnet50\": \"https://download.pytorch.org/models/resnet50-19c8e357.pth\",\n",
    "    \"resnet101\": \"https://download.pytorch.org/models/resnet101-5d3b4d8f.pth\",\n",
    "    \"resnet152\": \"https://download.pytorch.org/models/resnet152-b121ed2d.pth\",\n",
    "    \"resnext50_32x4d\": \"https://download.pytorch.org/models/resnext50_32x4d-7cdf4587.pth\",\n",
    "    \"resnext101_32x8d\": \"https://download.pytorch.org/models/resnext101_32x8d-8ba56ff5.pth\",\n",
    "    \"wide_resnet50_2\": \"https://download.pytorch.org/models/wide_resnet50_2-95faca4d.pth\",\n",
    "    \"wide_resnet101_2\": \"https://download.pytorch.org/models/wide_resnet101_2-32ee1156.pth\",\n",
    "    #\"vggface2\": \"https://onedrive.live.com/download?cid=D07B627FBE5CFFFA&resid=D07B627FBE5CFFFA%21587&authkey=APXT_JMvytW7cgk\",\n",
    "    ##\"vggface2\": \"/kaggle/input/resnet50-vggface2-weight/resnet50_scratch_weight.pkl\",\n",
    "    \"vggface2_ft\": \"/kaggle/input/resnet50-vggface2-weight/resnet50_ft_weight123.pkl\",\n",
    "    #\"vggface2_ft\": \"/kaggle/input/resnet50-vggface2-freezed-except-cbam/Resnet50_trained_FER2013\"\n",
    "}\n",
    "\n",
    "def conv3x3(in_planes, out_planes, stride=1, groups=1, dilation=1):\n",
    "    \"\"\"3x3 convolution with padding\"\"\"\n",
    "    return nn.Conv2d(\n",
    "        in_planes,\n",
    "        out_planes,\n",
    "        kernel_size=3,\n",
    "        stride=stride,\n",
    "        padding=dilation,\n",
    "        groups=groups,\n",
    "        bias=False,\n",
    "        dilation=dilation,\n",
    "    )\n",
    "\n",
    "\n",
    "def conv1x1(in_planes, out_planes, stride=1):\n",
    "    \"\"\"1x1 convolution\"\"\"\n",
    "    return nn.Conv2d(in_planes, out_planes, kernel_size=1, stride=stride, bias=False)\n",
    "\n",
    "class ConvBlock(nn.Module):\n",
    "    \"\"\"\n",
    "    Standard convolution block with Batch normalization and activation.\n",
    "\n",
    "    Parameters\n",
    "    ----------\n",
    "    in_channels : int\n",
    "        Number of input channels.\n",
    "    out_channels : int\n",
    "        Number of output channels.\n",
    "    kernel_size : int or tuple(int, int)\n",
    "        Convolution window size.\n",
    "    stride : int or tuple(int, int)\n",
    "        Strides of the convolution.\n",
    "    padding : int or tuple(int, int) or tuple(int, int, int, int)\n",
    "        Padding value for convolution layer.\n",
    "    dilation : int or tuple(int, int), default 1\n",
    "        Dilation value for convolution layer.\n",
    "    groups : int, default 1\n",
    "        Number of groups.\n",
    "    bias : bool, default False\n",
    "        Whether the layer uses a bias vector.\n",
    "    use_bn : bool, default True\n",
    "        Whether to use BatchNorm layer.\n",
    "    bn_eps : float, default 1e-5\n",
    "        Small float added to variance in Batch norm.\n",
    "    activation : function or str or None, default nn.ReLU(inplace=True)\n",
    "        Activation function or name of activation function.\n",
    "    \"\"\"\n",
    "    def __init__(self,\n",
    "                 in_channels: int,\n",
    "                 out_channels: int,\n",
    "                 kernel_size: int | tuple[int, int],\n",
    "                 stride: int | tuple[int, int],\n",
    "                 padding: int | tuple[int, int] | tuple[int, int, int, int],\n",
    "                 dilation: int | tuple[int, int] = 1,\n",
    "                 groups: int = 1,\n",
    "                 bias: bool = False,\n",
    "                 use_bn: bool = True,\n",
    "                 bn_eps: float = 1e-5,\n",
    "                 activation = None):\n",
    "        super(ConvBlock, self).__init__()\n",
    "        self.activate = (activation is not None)\n",
    "        self.use_bn = use_bn\n",
    "        self.use_pad = (isinstance(padding, (list, tuple)) and (len(padding) == 4))\n",
    "\n",
    "        if self.use_pad:\n",
    "            self.pad = nn.ZeroPad2d(padding=padding)\n",
    "            padding = 0\n",
    "        self.conv = nn.Conv2d(\n",
    "            in_channels=in_channels,\n",
    "            out_channels=out_channels,\n",
    "            kernel_size=kernel_size,\n",
    "            stride=stride,\n",
    "            padding=padding,\n",
    "            dilation=dilation,\n",
    "            groups=groups,\n",
    "            bias=bias)\n",
    "        if self.use_bn:\n",
    "            self.bn = nn.BatchNorm2d(\n",
    "                num_features=out_channels,\n",
    "                eps=bn_eps)\n",
    "        if self.activate:\n",
    "            self.activ = get_activation_layer(activation)\n",
    "\n",
    "    def forward(self, x):\n",
    "        if self.use_pad:\n",
    "            x = self.pad(x)\n",
    "        x = self.conv(x)\n",
    "        if self.use_bn:\n",
    "            x = self.bn(x)\n",
    "        if self.activate:\n",
    "            x = self.activ(x)\n",
    "        return x\n",
    "\n",
    "def conv7x7_block(in_channels: int,\n",
    "                  out_channels: int,\n",
    "                  stride: int | tuple[int, int] = 1,\n",
    "                  padding: int | tuple[int, int] | tuple[int, int, int, int] = 3,\n",
    "                  dilation: int | tuple[int, int] = 1,\n",
    "                  groups: int = 1,\n",
    "                  bias: bool = False,\n",
    "                  use_bn: bool = True,\n",
    "                  bn_eps: float = 1e-5,\n",
    "                  activation = None) -> nn.Module:\n",
    "    \n",
    "    return ConvBlock(\n",
    "        in_channels=in_channels,\n",
    "        out_channels=out_channels,\n",
    "        kernel_size=7,\n",
    "        stride=stride,\n",
    "        padding=padding,\n",
    "        dilation=dilation,\n",
    "        groups=groups,\n",
    "        bias=bias,\n",
    "        use_bn=use_bn,\n",
    "        bn_eps=bn_eps,\n",
    "        activation=activation)\n",
    "\n",
    "\n",
    "class MLP(nn.Module):\n",
    "    \"\"\"\n",
    "    Multilayer perceptron block.\n",
    "\n",
    "    Parameters\n",
    "    ----------\n",
    "    channels : int\n",
    "        Number of input/output channels.\n",
    "    reduction_ratio : int, default 16\n",
    "        Channel reduction ratio.\n",
    "    \"\"\"\n",
    "    def __init__(self,\n",
    "                 channels: int,\n",
    "                 reduction_ratio: int = 16):\n",
    "        super(MLP, self).__init__()\n",
    "        mid_channels = channels // reduction_ratio\n",
    "\n",
    "        self.fc1 = nn.Linear(\n",
    "            in_features=channels,\n",
    "            out_features=mid_channels)\n",
    "        self.activ = nn.ReLU(inplace=True)\n",
    "        self.fc2 = nn.Linear(\n",
    "            in_features=mid_channels,\n",
    "            out_features=channels)\n",
    "\n",
    "    def forward(self, x):\n",
    "        x = x.view(x.size(0), -1)\n",
    "        x = self.fc1(x)\n",
    "        x = self.activ(x)\n",
    "        x = self.fc2(x)\n",
    "        return x\n",
    "\n",
    "\n",
    "class ChannelGate(nn.Module):\n",
    "    \"\"\"\n",
    "    CBAM channel gate block.\n",
    "\n",
    "    Parameters\n",
    "    ----------\n",
    "    channels : int\n",
    "        Number of input/output channels.\n",
    "    reduction_ratio : int, default 16\n",
    "        Channel reduction ratio.\n",
    "    \"\"\"\n",
    "    def __init__(self,\n",
    "                 channels: int,\n",
    "                 reduction_ratio: int = 16):\n",
    "        super(ChannelGate, self).__init__()\n",
    "\n",
    "        self.avg_pool = nn.AdaptiveAvgPool2d(output_size=(1, 1))\n",
    "        self.max_pool = nn.AdaptiveMaxPool2d(output_size=(1, 1))\n",
    "        self.mlp = MLP(\n",
    "            channels=channels,\n",
    "            reduction_ratio=reduction_ratio)\n",
    "        self.sigmoid = nn.Sigmoid()\n",
    "\n",
    "    def forward(self, x):\n",
    "        att1 = self.avg_pool(x)\n",
    "        att1 = self.mlp(att1)\n",
    "        att2 = self.max_pool(x)\n",
    "        att2 = self.mlp(att2)\n",
    "        att = att1 + att2\n",
    "        att = self.sigmoid(att)\n",
    "        att = att.unsqueeze(2).unsqueeze(3).expand_as(x)\n",
    "        x = x * att\n",
    "        return x\n",
    "\n",
    "\n",
    "class SpatialGate(nn.Module):\n",
    "    \"\"\"\n",
    "    CBAM spatial gate block.\n",
    "    \"\"\"\n",
    "    def __init__(self):\n",
    "        super(SpatialGate, self).__init__()\n",
    "        self.conv = conv7x7_block(\n",
    "            in_channels=2,\n",
    "            out_channels=1,\n",
    "            activation=None)\n",
    "        self.sigmoid = nn.Sigmoid()\n",
    "\n",
    "    def forward(self, x):\n",
    "        att1 = x.max(dim=1)[0].unsqueeze(1)\n",
    "        att2 = x.mean(dim=1).unsqueeze(1)\n",
    "        att = torch.cat((att1, att2), dim=1)\n",
    "        att = self.conv(att)\n",
    "        att = self.sigmoid(att)\n",
    "        x = x * att\n",
    "        return x\n",
    "\n",
    "\n",
    "class CbamBlock(nn.Module):\n",
    "    \"\"\"\n",
    "    CBAM attention block for CBAM-ResNet.\n",
    "\n",
    "    Parameters\n",
    "    ----------\n",
    "    channels : int\n",
    "        Number of input/output channels.\n",
    "    reduction_ratio : int, default 16\n",
    "        Channel reduction ratio.\n",
    "    \"\"\"\n",
    "    def __init__(self,\n",
    "                 channels: int,\n",
    "                 reduction_ratio: int = 16):\n",
    "        super(CbamBlock, self).__init__()\n",
    "        self.ch_gate = ChannelGate(\n",
    "            channels=channels,\n",
    "            reduction_ratio=reduction_ratio)\n",
    "        self.sp_gate = SpatialGate()\n",
    "\n",
    "    def forward(self, x):\n",
    "        x = self.ch_gate(x)\n",
    "        x = self.sp_gate(x)\n",
    "        return x\n",
    "\n",
    "\n",
    "class BasicBlock(nn.Module):\n",
    "    expansion = 1\n",
    "\n",
    "    def __init__(self, inplanes, planes, stride=1, downsample=None):\n",
    "        super(BasicBlock, self).__init__()\n",
    "        self.conv1 = conv3x3(inplanes, planes, stride)\n",
    "        self.bn1 = nn.BatchNorm2d(planes)\n",
    "        self.relu = nn.ReLU(inplace=True)\n",
    "        self.conv2 = conv3x3(planes, planes)\n",
    "        self.bn2 = nn.BatchNorm2d(planes)\n",
    "        self.downsample = downsample\n",
    "        self.stride = stride\n",
    "\n",
    "    def forward(self, x):\n",
    "        residual = x\n",
    "\n",
    "        out = self.conv1(x)\n",
    "        out = self.bn1(out)\n",
    "        out = self.relu(out)\n",
    "\n",
    "        out = self.conv2(out)\n",
    "        out = self.bn2(out)\n",
    "\n",
    "        if self.downsample is not None:\n",
    "            residual = self.downsample(x)\n",
    "\n",
    "        out += residual\n",
    "        out = self.relu(out)\n",
    "\n",
    "        return out\n",
    "\n",
    "\n",
    "class Bottleneck(nn.Module):\n",
    "    expansion = 4\n",
    "\n",
    "    def __init__(self, inplanes, planes, stride=1, downsample=None, use_cbam = False):\n",
    "        super(Bottleneck, self).__init__()\n",
    "        self.conv1 = nn.Conv2d(inplanes, planes, kernel_size=1, stride=stride, bias=False)\n",
    "        self.bn1 = nn.BatchNorm2d(planes)\n",
    "        self.conv2 = nn.Conv2d(planes, planes, kernel_size=3, stride=1, padding=1, bias=False)\n",
    "        self.bn2 = nn.BatchNorm2d(planes)\n",
    "        self.conv3 = nn.Conv2d(planes, planes * 4, kernel_size=1, bias=False)\n",
    "        self.bn3 = nn.BatchNorm2d(planes * 4)\n",
    "        self.relu = nn.ReLU(inplace=True)\n",
    "        self.downsample = downsample\n",
    "        self.stride = stride\n",
    "\n",
    "        self.use_cbam = use_cbam\n",
    "        if self.use_cbam == True:\n",
    "            self.CbamBlock = CbamBlock(channels = planes * 4)\n",
    "\n",
    "    def forward(self, x):\n",
    "        residual = x\n",
    "\n",
    "        out = self.conv1(x)\n",
    "        out = self.bn1(out)\n",
    "        out = self.relu(out)\n",
    "        out = self.conv2(out)\n",
    "        out = self.bn2(out)\n",
    "        out = self.relu(out)\n",
    "\n",
    "        out = self.conv3(out)\n",
    "        out = self.bn3(out)\n",
    "\n",
    "        if self.downsample is not None:\n",
    "            residual = self.downsample(x)\n",
    "\n",
    "        if self.use_cbam == True:\n",
    "            out = self.CbamBlock(out)\n",
    "        out += residual\n",
    "        out = self.relu(out)\n",
    "\n",
    "        return out\n",
    "\n",
    "\n",
    "class ResNet(nn.Module):\n",
    "\n",
    "    def __init__(self, block, layers, num_classes=1000, include_top=True, use_cbam = False):\n",
    "        self.inplanes = 64\n",
    "        super(ResNet, self).__init__()\n",
    "        self.include_top = include_top\n",
    "\n",
    "        self.use_cbam = use_cbam\n",
    "        \n",
    "        self.conv1 = nn.Conv2d(3, 64, kernel_size=7, stride=2, padding=3, bias=False)\n",
    "        self.bn1 = nn.BatchNorm2d(64)\n",
    "        self.relu = nn.ReLU(inplace=True)\n",
    "        self.maxpool = nn.MaxPool2d(kernel_size=3, stride=2, padding=0, ceil_mode=True)\n",
    "        self.layer1 = self._make_layer(block, 64, layers[0])\n",
    "        self.layer2 = self._make_layer(block, 128, layers[1], stride=2)\n",
    "        self.layer3 = self._make_layer(block, 256, layers[2], stride=2)\n",
    "        self.layer4 = self._make_layer(block, 512, layers[3], stride=2)\n",
    "        self.dropout = nn.Dropout(p=0.5)\n",
    "        self.avgpool = nn.AvgPool2d(7, stride=1)\n",
    "        self.fc = nn.Linear(512 * block.expansion, num_classes)\n",
    "\n",
    "\n",
    "        for m in self.modules():\n",
    "            if isinstance(m, nn.Conv2d):\n",
    "                n = m.kernel_size[0] * m.kernel_size[1] * m.out_channels\n",
    "                m.weight.data.normal_(0, math.sqrt(2. / n))\n",
    "            elif isinstance(m, nn.BatchNorm2d):\n",
    "                m.weight.data.fill_(1)\n",
    "                m.bias.data.zero_()\n",
    "\n",
    "    def _make_layer(self, block, planes, blocks, stride=1):\n",
    "        downsample = None\n",
    "        if stride != 1 or self.inplanes != planes * block.expansion:\n",
    "            downsample = nn.Sequential(\n",
    "                nn.Conv2d(self.inplanes, planes * block.expansion,\n",
    "                          kernel_size=1, stride=stride, bias=False),\n",
    "                nn.BatchNorm2d(planes * block.expansion),\n",
    "            )\n",
    "\n",
    "        layers = []\n",
    "        layers.append(block(self.inplanes, planes, stride, downsample, use_cbam = self.use_cbam ))\n",
    "        self.inplanes = planes * block.expansion\n",
    "        for i in range(1, blocks):\n",
    "            layers.append(block(self.inplanes, planes, use_cbam = self.use_cbam ))\n",
    "\n",
    "        return nn.Sequential(*layers)\n",
    "\n",
    "    def forward(self, x):\n",
    "        x = self.conv1(x)\n",
    "        x = self.bn1(x)\n",
    "        x = self.relu(x)\n",
    "        x = self.maxpool(x)\n",
    "\n",
    "        x = self.layer1(x)\n",
    "        x = self.layer2(x)\n",
    "        x = self.layer3(x)\n",
    "        x = self.layer4(x)\n",
    "        \n",
    "        x = self.avgpool(x)\n",
    "        x = self.dropout(x)\n",
    "        \n",
    "        if not self.include_top:\n",
    "            return x\n",
    "        \n",
    "        x = x.view(x.size(0), -1)\n",
    "        #x = self.dropout(x)\n",
    "        x = self.fc(x)\n",
    "        return x\n",
    "\n",
    "\n",
    "def _resnet(arch, block, layers, pretrained, progress, use_cbam = False, **kwargs):\n",
    "    model = ResNet(block, layers, use_cbam = use_cbam, **kwargs)\n",
    "    if pretrained == True:\n",
    "        print(f'load weight in {model_urls[arch]}')\n",
    "        if 'vggface2' in arch:\n",
    "            with open(model_urls[arch], 'rb') as f:\n",
    "                state_dict = pickle.load(f)\n",
    "                \n",
    "            for key in state_dict.keys():\n",
    "                state_dict[key] = torch.from_numpy(state_dict[key])\n",
    "        else:\n",
    "            state_dict = load_state_dict_from_url(model_urls[arch], progress=progress)\n",
    "        model.load_state_dict(state_dict, strict=False)\n",
    "    return model\n",
    "\n",
    "\n",
    "def resnet18(pretrained=False, progress=True, **kwargs):\n",
    "    r\"\"\"ResNet-18 model from\n",
    "    `\"Deep Residual Learning for Image Recognition\" <https://arxiv.org/pdf/1512.03385.pdf>`_\n",
    "    Args:\n",
    "        pretrained (bool): If True, returns a model pre-trained on ImageNet\n",
    "        progress (bool): If True, displays a progress bar of the download to stderr\n",
    "    \"\"\"\n",
    "    model = _resnet(\n",
    "        \"resnet18\", BasicBlock, [2, 2, 2, 2], pretrained, progress,num_classes = 1000, **kwargs\n",
    "    )\n",
    "\n",
    "    # model.fc = nn.Linear(512, kwargs['num_classes'])\n",
    "    model.fc = nn.Linear(512, 7)\n",
    "    return model\n",
    "\n",
    "\n",
    "def resnet34(pretrained=True, progress=True, out_classes = 7, **kwargs):\n",
    "    r\"\"\"ResNet-34 model from\n",
    "    `\"Deep Residual Learning for Image Recognition\" <https://arxiv.org/pdf/1512.03385.pdf>`_\n",
    "    Args:\n",
    "        pretrained (bool): If True, returns a model pre-trained on ImageNet\n",
    "        progress (bool): If True, displays a progress bar of the download to stderr\n",
    "    \"\"\"\n",
    "    model = _resnet(\n",
    "        \"resnet34\", BasicBlock, [3, 4, 6, 3], pretrained, progress,num_classes = 1000 ,**kwargs\n",
    "    )\n",
    "    model.fc = nn.Linear(512, out_classes)\n",
    "    return model\n",
    "\n",
    "\n",
    "def resnet50(pretrained=True, progress=True, out_classes = 7, use_cbam = False, **kwargs):\n",
    "    r\"\"\"ResNet-50 model from\n",
    "    `\"Deep Residual Learning for Image Recognition\" <https://arxiv.org/pdf/1512.03385.pdf>`_\n",
    "    Args:\n",
    "        pretrained (bool): If True, returns a model pre-trained on ImageNet\n",
    "        progress (bool): If True, displays a progress bar of the download to stderr\n",
    "    \"\"\"\n",
    "    model = _resnet(\n",
    "        \"resnet50\", Bottleneck, [3, 4, 6, 3], pretrained, progress,num_classes = 1000, use_cbam = use_cbam, **kwargs\n",
    "    )\n",
    "    model.fc = nn.Linear(2048, out_classes)\n",
    "    return model\n",
    "\n",
    "def resnet50_vggface2_ft(pretrained=True, progress=True,out_classes = 7,  use_cbam = False, **kwargs):\n",
    "    r\"\"\"ResNet-50 model from\n",
    "    `\"Deep Residual Learning for Image Recognition\" <https://arxiv.org/pdf/1512.03385.pdf>`_\n",
    "    Args:\n",
    "        pretrained (bool): If True, returns a model pre-trained on ImageNet\n",
    "        progress (bool): If True, displays a progress bar of the download to stderr\n",
    "    \"\"\"\n",
    "    model = _resnet(\n",
    "        \"vggface2_ft\", Bottleneck, [3, 4, 6, 3], pretrained, progress,num_classes=8631, use_cbam = use_cbam, **kwargs\n",
    "    )\n",
    "    model.fc = nn.Linear(2048, out_classes)\n",
    "    print('model resnet50 with pre-train on vggface2(trained on MS1M, and then fine-tuned on VGGFace2) is done!')\n",
    "    return model"
   ]
  },
  {
   "cell_type": "code",
   "execution_count": 6,
   "id": "65af1dc5",
   "metadata": {
    "execution": {
     "iopub.execute_input": "2025-03-01T09:14:16.203830Z",
     "iopub.status.busy": "2025-03-01T09:14:16.203612Z",
     "iopub.status.idle": "2025-03-01T09:14:16.207394Z",
     "shell.execute_reply": "2025-03-01T09:14:16.206770Z"
    },
    "papermill": {
     "duration": 0.010208,
     "end_time": "2025-03-01T09:14:16.208612",
     "exception": false,
     "start_time": "2025-03-01T09:14:16.198404",
     "status": "completed"
    },
    "tags": []
   },
   "outputs": [],
   "source": [
    "def get_model_resnet(name='ResNet50', pretrained = False):\n",
    "    if name == 'ResNet50_CBAM':\n",
    "         model = resnet50_vggface2_ft(pretrained = pretrained, use_cbam = True)\n",
    "         print('actived trained_weight')\n",
    "         state = torch.load('/kaggle/input/resnet50-vggface2-freezed-except-cbam/ResnetDuck_Cbam_cuaTuan84', weights_only=True)\n",
    "         model.load_state_dict(state['net'])\n",
    "    else: #resnet50(default)\n",
    "        model = resnet50_vggface2_ft(pretrained = pretrained, use_cbam = False)\n",
    "    return model"
   ]
  },
  {
   "cell_type": "markdown",
   "id": "49c7aa4f",
   "metadata": {
    "papermill": {
     "duration": 0.004277,
     "end_time": "2025-03-01T09:14:16.217403",
     "exception": false,
     "start_time": "2025-03-01T09:14:16.213126",
     "status": "completed"
    },
    "tags": []
   },
   "source": [
    "<h1>4. Setup Baseline(preparing Train stage)</h1>\n",
    "<h1>4.1 Initial hyperparameter</h1>"
   ]
  },
  {
   "cell_type": "code",
   "execution_count": 7,
   "id": "cee59074",
   "metadata": {
    "execution": {
     "iopub.execute_input": "2025-03-01T09:14:16.226985Z",
     "iopub.status.busy": "2025-03-01T09:14:16.226791Z",
     "iopub.status.idle": "2025-03-01T09:14:16.230746Z",
     "shell.execute_reply": "2025-03-01T09:14:16.230127Z"
    },
    "papermill": {
     "duration": 0.00995,
     "end_time": "2025-03-01T09:14:16.231803",
     "exception": false,
     "start_time": "2025-03-01T09:14:16.221853",
     "status": "completed"
    },
    "tags": []
   },
   "outputs": [],
   "source": [
    "configs = {\n",
    "    \"raf_path\": \"/kaggle/input/rafdb-basic\",\n",
    "    \"image_path\": \"rafdb_basic/Image/aligned/\",\n",
    "    \"label_path\": \"rafdb_basic/EmoLabel/list_patition_label.txt\",\n",
    "    \"image_size\": 224,\n",
    "    \"n_channels\": 3,\n",
    "    \"n_classes\": 7,\n",
    "    \"model\": \"ResNet50_CBAM\", \n",
    "    \"lr\": 1e-04,\n",
    "    \"min_lr\": 1e-07,\n",
    "    \"weighted_loss\": 0,\n",
    "    \"device\": \"cuda:0\",\n",
    "    \"momentum\": 0.9,\n",
    "    \"weight_decay\": 0.0001,\n",
    "    \"distributed\": 0,\n",
    "    \"batch_size\": 64,\n",
    "    \"num_workers\": 2,\n",
    "    \"max_plateau_count\": 50,\n",
    "    \"max_epoch_num\": 1000,\n",
    "    \"plateau_patience\": 10,\n",
    "    \"steplr\": 50,\n",
    "    \"optimizer_chose\":\"RAdam\",\n",
    "    \"lr_scheduler\":\"ReduceLROnPlateau\",\n",
    "    \"project_name\": \"residual_cbam_resnet2024\",\n",
    "    \"wandb_api_key\": \"\",\n",
    "    \"use_pretrained\":False,\n",
    "    \"current_epoch_num\":0,\n",
    "    \"rs_dir\":\"/kaggle/working/ResnetDuck_Cbam_cuaTuan\",\n",
    "    \"name_run_wandb\":\"Tuan_dep_trai_ne\",\n",
    "    \"freeze_cbam\":False,\n",
    "}"
   ]
  },
  {
   "cell_type": "markdown",
   "id": "6a713ef0",
   "metadata": {
    "papermill": {
     "duration": 0.004292,
     "end_time": "2025-03-01T09:14:16.240676",
     "exception": false,
     "start_time": "2025-03-01T09:14:16.236384",
     "status": "completed"
    },
    "tags": []
   },
   "source": [
    "<h1>4.2. Activating and checking model</h1>"
   ]
  },
  {
   "cell_type": "code",
   "execution_count": 8,
   "id": "88edacf8",
   "metadata": {
    "execution": {
     "iopub.execute_input": "2025-03-01T09:14:16.250370Z",
     "iopub.status.busy": "2025-03-01T09:14:16.250161Z",
     "iopub.status.idle": "2025-03-01T09:14:19.021524Z",
     "shell.execute_reply": "2025-03-01T09:14:19.020369Z"
    },
    "papermill": {
     "duration": 2.778648,
     "end_time": "2025-03-01T09:14:19.023723",
     "exception": false,
     "start_time": "2025-03-01T09:14:16.245075",
     "status": "completed"
    },
    "tags": []
   },
   "outputs": [
    {
     "name": "stdout",
     "output_type": "stream",
     "text": [
      "model resnet50 with pre-train on vggface2(trained on MS1M, and then fine-tuned on VGGFace2) is done!\n",
      "actived trained_weight\n",
      "conv1.weight: True\n",
      "bn1.weight: True\n",
      "bn1.bias: True\n",
      "layer1.0.conv1.weight: True\n",
      "layer1.0.bn1.weight: True\n",
      "layer1.0.bn1.bias: True\n",
      "layer1.0.conv2.weight: True\n",
      "layer1.0.bn2.weight: True\n",
      "layer1.0.bn2.bias: True\n",
      "layer1.0.conv3.weight: True\n",
      "layer1.0.bn3.weight: True\n",
      "layer1.0.bn3.bias: True\n",
      "layer1.0.downsample.0.weight: True\n",
      "layer1.0.downsample.1.weight: True\n",
      "layer1.0.downsample.1.bias: True\n",
      "layer1.0.CbamBlock.ch_gate.mlp.fc1.weight: True\n",
      "layer1.0.CbamBlock.ch_gate.mlp.fc1.bias: True\n",
      "layer1.0.CbamBlock.ch_gate.mlp.fc2.weight: True\n",
      "layer1.0.CbamBlock.ch_gate.mlp.fc2.bias: True\n",
      "layer1.0.CbamBlock.sp_gate.conv.conv.weight: True\n",
      "layer1.0.CbamBlock.sp_gate.conv.bn.weight: True\n",
      "layer1.0.CbamBlock.sp_gate.conv.bn.bias: True\n",
      "layer1.1.conv1.weight: True\n",
      "layer1.1.bn1.weight: True\n",
      "layer1.1.bn1.bias: True\n",
      "layer1.1.conv2.weight: True\n",
      "layer1.1.bn2.weight: True\n",
      "layer1.1.bn2.bias: True\n",
      "layer1.1.conv3.weight: True\n",
      "layer1.1.bn3.weight: True\n",
      "layer1.1.bn3.bias: True\n",
      "layer1.1.CbamBlock.ch_gate.mlp.fc1.weight: True\n",
      "layer1.1.CbamBlock.ch_gate.mlp.fc1.bias: True\n",
      "layer1.1.CbamBlock.ch_gate.mlp.fc2.weight: True\n",
      "layer1.1.CbamBlock.ch_gate.mlp.fc2.bias: True\n",
      "layer1.1.CbamBlock.sp_gate.conv.conv.weight: True\n",
      "layer1.1.CbamBlock.sp_gate.conv.bn.weight: True\n",
      "layer1.1.CbamBlock.sp_gate.conv.bn.bias: True\n",
      "layer1.2.conv1.weight: True\n",
      "layer1.2.bn1.weight: True\n",
      "layer1.2.bn1.bias: True\n",
      "layer1.2.conv2.weight: True\n",
      "layer1.2.bn2.weight: True\n",
      "layer1.2.bn2.bias: True\n",
      "layer1.2.conv3.weight: True\n",
      "layer1.2.bn3.weight: True\n",
      "layer1.2.bn3.bias: True\n",
      "layer1.2.CbamBlock.ch_gate.mlp.fc1.weight: True\n",
      "layer1.2.CbamBlock.ch_gate.mlp.fc1.bias: True\n",
      "layer1.2.CbamBlock.ch_gate.mlp.fc2.weight: True\n",
      "layer1.2.CbamBlock.ch_gate.mlp.fc2.bias: True\n",
      "layer1.2.CbamBlock.sp_gate.conv.conv.weight: True\n",
      "layer1.2.CbamBlock.sp_gate.conv.bn.weight: True\n",
      "layer1.2.CbamBlock.sp_gate.conv.bn.bias: True\n",
      "layer2.0.conv1.weight: True\n",
      "layer2.0.bn1.weight: True\n",
      "layer2.0.bn1.bias: True\n",
      "layer2.0.conv2.weight: True\n",
      "layer2.0.bn2.weight: True\n",
      "layer2.0.bn2.bias: True\n",
      "layer2.0.conv3.weight: True\n",
      "layer2.0.bn3.weight: True\n",
      "layer2.0.bn3.bias: True\n",
      "layer2.0.downsample.0.weight: True\n",
      "layer2.0.downsample.1.weight: True\n",
      "layer2.0.downsample.1.bias: True\n",
      "layer2.0.CbamBlock.ch_gate.mlp.fc1.weight: True\n",
      "layer2.0.CbamBlock.ch_gate.mlp.fc1.bias: True\n",
      "layer2.0.CbamBlock.ch_gate.mlp.fc2.weight: True\n",
      "layer2.0.CbamBlock.ch_gate.mlp.fc2.bias: True\n",
      "layer2.0.CbamBlock.sp_gate.conv.conv.weight: True\n",
      "layer2.0.CbamBlock.sp_gate.conv.bn.weight: True\n",
      "layer2.0.CbamBlock.sp_gate.conv.bn.bias: True\n",
      "layer2.1.conv1.weight: True\n",
      "layer2.1.bn1.weight: True\n",
      "layer2.1.bn1.bias: True\n",
      "layer2.1.conv2.weight: True\n",
      "layer2.1.bn2.weight: True\n",
      "layer2.1.bn2.bias: True\n",
      "layer2.1.conv3.weight: True\n",
      "layer2.1.bn3.weight: True\n",
      "layer2.1.bn3.bias: True\n",
      "layer2.1.CbamBlock.ch_gate.mlp.fc1.weight: True\n",
      "layer2.1.CbamBlock.ch_gate.mlp.fc1.bias: True\n",
      "layer2.1.CbamBlock.ch_gate.mlp.fc2.weight: True\n",
      "layer2.1.CbamBlock.ch_gate.mlp.fc2.bias: True\n",
      "layer2.1.CbamBlock.sp_gate.conv.conv.weight: True\n",
      "layer2.1.CbamBlock.sp_gate.conv.bn.weight: True\n",
      "layer2.1.CbamBlock.sp_gate.conv.bn.bias: True\n",
      "layer2.2.conv1.weight: True\n",
      "layer2.2.bn1.weight: True\n",
      "layer2.2.bn1.bias: True\n",
      "layer2.2.conv2.weight: True\n",
      "layer2.2.bn2.weight: True\n",
      "layer2.2.bn2.bias: True\n",
      "layer2.2.conv3.weight: True\n",
      "layer2.2.bn3.weight: True\n",
      "layer2.2.bn3.bias: True\n",
      "layer2.2.CbamBlock.ch_gate.mlp.fc1.weight: True\n",
      "layer2.2.CbamBlock.ch_gate.mlp.fc1.bias: True\n",
      "layer2.2.CbamBlock.ch_gate.mlp.fc2.weight: True\n",
      "layer2.2.CbamBlock.ch_gate.mlp.fc2.bias: True\n",
      "layer2.2.CbamBlock.sp_gate.conv.conv.weight: True\n",
      "layer2.2.CbamBlock.sp_gate.conv.bn.weight: True\n",
      "layer2.2.CbamBlock.sp_gate.conv.bn.bias: True\n",
      "layer2.3.conv1.weight: True\n",
      "layer2.3.bn1.weight: True\n",
      "layer2.3.bn1.bias: True\n",
      "layer2.3.conv2.weight: True\n",
      "layer2.3.bn2.weight: True\n",
      "layer2.3.bn2.bias: True\n",
      "layer2.3.conv3.weight: True\n",
      "layer2.3.bn3.weight: True\n",
      "layer2.3.bn3.bias: True\n",
      "layer2.3.CbamBlock.ch_gate.mlp.fc1.weight: True\n",
      "layer2.3.CbamBlock.ch_gate.mlp.fc1.bias: True\n",
      "layer2.3.CbamBlock.ch_gate.mlp.fc2.weight: True\n",
      "layer2.3.CbamBlock.ch_gate.mlp.fc2.bias: True\n",
      "layer2.3.CbamBlock.sp_gate.conv.conv.weight: True\n",
      "layer2.3.CbamBlock.sp_gate.conv.bn.weight: True\n",
      "layer2.3.CbamBlock.sp_gate.conv.bn.bias: True\n",
      "layer3.0.conv1.weight: True\n",
      "layer3.0.bn1.weight: True\n",
      "layer3.0.bn1.bias: True\n",
      "layer3.0.conv2.weight: True\n",
      "layer3.0.bn2.weight: True\n",
      "layer3.0.bn2.bias: True\n",
      "layer3.0.conv3.weight: True\n",
      "layer3.0.bn3.weight: True\n",
      "layer3.0.bn3.bias: True\n",
      "layer3.0.downsample.0.weight: True\n",
      "layer3.0.downsample.1.weight: True\n",
      "layer3.0.downsample.1.bias: True\n",
      "layer3.0.CbamBlock.ch_gate.mlp.fc1.weight: True\n",
      "layer3.0.CbamBlock.ch_gate.mlp.fc1.bias: True\n",
      "layer3.0.CbamBlock.ch_gate.mlp.fc2.weight: True\n",
      "layer3.0.CbamBlock.ch_gate.mlp.fc2.bias: True\n",
      "layer3.0.CbamBlock.sp_gate.conv.conv.weight: True\n",
      "layer3.0.CbamBlock.sp_gate.conv.bn.weight: True\n",
      "layer3.0.CbamBlock.sp_gate.conv.bn.bias: True\n",
      "layer3.1.conv1.weight: True\n",
      "layer3.1.bn1.weight: True\n",
      "layer3.1.bn1.bias: True\n",
      "layer3.1.conv2.weight: True\n",
      "layer3.1.bn2.weight: True\n",
      "layer3.1.bn2.bias: True\n",
      "layer3.1.conv3.weight: True\n",
      "layer3.1.bn3.weight: True\n",
      "layer3.1.bn3.bias: True\n",
      "layer3.1.CbamBlock.ch_gate.mlp.fc1.weight: True\n",
      "layer3.1.CbamBlock.ch_gate.mlp.fc1.bias: True\n",
      "layer3.1.CbamBlock.ch_gate.mlp.fc2.weight: True\n",
      "layer3.1.CbamBlock.ch_gate.mlp.fc2.bias: True\n",
      "layer3.1.CbamBlock.sp_gate.conv.conv.weight: True\n",
      "layer3.1.CbamBlock.sp_gate.conv.bn.weight: True\n",
      "layer3.1.CbamBlock.sp_gate.conv.bn.bias: True\n",
      "layer3.2.conv1.weight: True\n",
      "layer3.2.bn1.weight: True\n",
      "layer3.2.bn1.bias: True\n",
      "layer3.2.conv2.weight: True\n",
      "layer3.2.bn2.weight: True\n",
      "layer3.2.bn2.bias: True\n",
      "layer3.2.conv3.weight: True\n",
      "layer3.2.bn3.weight: True\n",
      "layer3.2.bn3.bias: True\n",
      "layer3.2.CbamBlock.ch_gate.mlp.fc1.weight: True\n",
      "layer3.2.CbamBlock.ch_gate.mlp.fc1.bias: True\n",
      "layer3.2.CbamBlock.ch_gate.mlp.fc2.weight: True\n",
      "layer3.2.CbamBlock.ch_gate.mlp.fc2.bias: True\n",
      "layer3.2.CbamBlock.sp_gate.conv.conv.weight: True\n",
      "layer3.2.CbamBlock.sp_gate.conv.bn.weight: True\n",
      "layer3.2.CbamBlock.sp_gate.conv.bn.bias: True\n",
      "layer3.3.conv1.weight: True\n",
      "layer3.3.bn1.weight: True\n",
      "layer3.3.bn1.bias: True\n",
      "layer3.3.conv2.weight: True\n",
      "layer3.3.bn2.weight: True\n",
      "layer3.3.bn2.bias: True\n",
      "layer3.3.conv3.weight: True\n",
      "layer3.3.bn3.weight: True\n",
      "layer3.3.bn3.bias: True\n",
      "layer3.3.CbamBlock.ch_gate.mlp.fc1.weight: True\n",
      "layer3.3.CbamBlock.ch_gate.mlp.fc1.bias: True\n",
      "layer3.3.CbamBlock.ch_gate.mlp.fc2.weight: True\n",
      "layer3.3.CbamBlock.ch_gate.mlp.fc2.bias: True\n",
      "layer3.3.CbamBlock.sp_gate.conv.conv.weight: True\n",
      "layer3.3.CbamBlock.sp_gate.conv.bn.weight: True\n",
      "layer3.3.CbamBlock.sp_gate.conv.bn.bias: True\n",
      "layer3.4.conv1.weight: True\n",
      "layer3.4.bn1.weight: True\n",
      "layer3.4.bn1.bias: True\n",
      "layer3.4.conv2.weight: True\n",
      "layer3.4.bn2.weight: True\n",
      "layer3.4.bn2.bias: True\n",
      "layer3.4.conv3.weight: True\n",
      "layer3.4.bn3.weight: True\n",
      "layer3.4.bn3.bias: True\n",
      "layer3.4.CbamBlock.ch_gate.mlp.fc1.weight: True\n",
      "layer3.4.CbamBlock.ch_gate.mlp.fc1.bias: True\n",
      "layer3.4.CbamBlock.ch_gate.mlp.fc2.weight: True\n",
      "layer3.4.CbamBlock.ch_gate.mlp.fc2.bias: True\n",
      "layer3.4.CbamBlock.sp_gate.conv.conv.weight: True\n",
      "layer3.4.CbamBlock.sp_gate.conv.bn.weight: True\n",
      "layer3.4.CbamBlock.sp_gate.conv.bn.bias: True\n",
      "layer3.5.conv1.weight: True\n",
      "layer3.5.bn1.weight: True\n",
      "layer3.5.bn1.bias: True\n",
      "layer3.5.conv2.weight: True\n",
      "layer3.5.bn2.weight: True\n",
      "layer3.5.bn2.bias: True\n",
      "layer3.5.conv3.weight: True\n",
      "layer3.5.bn3.weight: True\n",
      "layer3.5.bn3.bias: True\n",
      "layer3.5.CbamBlock.ch_gate.mlp.fc1.weight: True\n",
      "layer3.5.CbamBlock.ch_gate.mlp.fc1.bias: True\n",
      "layer3.5.CbamBlock.ch_gate.mlp.fc2.weight: True\n",
      "layer3.5.CbamBlock.ch_gate.mlp.fc2.bias: True\n",
      "layer3.5.CbamBlock.sp_gate.conv.conv.weight: True\n",
      "layer3.5.CbamBlock.sp_gate.conv.bn.weight: True\n",
      "layer3.5.CbamBlock.sp_gate.conv.bn.bias: True\n",
      "layer4.0.conv1.weight: True\n",
      "layer4.0.bn1.weight: True\n",
      "layer4.0.bn1.bias: True\n",
      "layer4.0.conv2.weight: True\n",
      "layer4.0.bn2.weight: True\n",
      "layer4.0.bn2.bias: True\n",
      "layer4.0.conv3.weight: True\n",
      "layer4.0.bn3.weight: True\n",
      "layer4.0.bn3.bias: True\n",
      "layer4.0.downsample.0.weight: True\n",
      "layer4.0.downsample.1.weight: True\n",
      "layer4.0.downsample.1.bias: True\n",
      "layer4.0.CbamBlock.ch_gate.mlp.fc1.weight: True\n",
      "layer4.0.CbamBlock.ch_gate.mlp.fc1.bias: True\n",
      "layer4.0.CbamBlock.ch_gate.mlp.fc2.weight: True\n",
      "layer4.0.CbamBlock.ch_gate.mlp.fc2.bias: True\n",
      "layer4.0.CbamBlock.sp_gate.conv.conv.weight: True\n",
      "layer4.0.CbamBlock.sp_gate.conv.bn.weight: True\n",
      "layer4.0.CbamBlock.sp_gate.conv.bn.bias: True\n",
      "layer4.1.conv1.weight: True\n",
      "layer4.1.bn1.weight: True\n",
      "layer4.1.bn1.bias: True\n",
      "layer4.1.conv2.weight: True\n",
      "layer4.1.bn2.weight: True\n",
      "layer4.1.bn2.bias: True\n",
      "layer4.1.conv3.weight: True\n",
      "layer4.1.bn3.weight: True\n",
      "layer4.1.bn3.bias: True\n",
      "layer4.1.CbamBlock.ch_gate.mlp.fc1.weight: True\n",
      "layer4.1.CbamBlock.ch_gate.mlp.fc1.bias: True\n",
      "layer4.1.CbamBlock.ch_gate.mlp.fc2.weight: True\n",
      "layer4.1.CbamBlock.ch_gate.mlp.fc2.bias: True\n",
      "layer4.1.CbamBlock.sp_gate.conv.conv.weight: True\n",
      "layer4.1.CbamBlock.sp_gate.conv.bn.weight: True\n",
      "layer4.1.CbamBlock.sp_gate.conv.bn.bias: True\n",
      "layer4.2.conv1.weight: True\n",
      "layer4.2.bn1.weight: True\n",
      "layer4.2.bn1.bias: True\n",
      "layer4.2.conv2.weight: True\n",
      "layer4.2.bn2.weight: True\n",
      "layer4.2.bn2.bias: True\n",
      "layer4.2.conv3.weight: True\n",
      "layer4.2.bn3.weight: True\n",
      "layer4.2.bn3.bias: True\n",
      "layer4.2.CbamBlock.ch_gate.mlp.fc1.weight: True\n",
      "layer4.2.CbamBlock.ch_gate.mlp.fc1.bias: True\n",
      "layer4.2.CbamBlock.ch_gate.mlp.fc2.weight: True\n",
      "layer4.2.CbamBlock.ch_gate.mlp.fc2.bias: True\n",
      "layer4.2.CbamBlock.sp_gate.conv.conv.weight: True\n",
      "layer4.2.CbamBlock.sp_gate.conv.bn.weight: True\n",
      "layer4.2.CbamBlock.sp_gate.conv.bn.bias: True\n",
      "fc.weight: True\n",
      "fc.bias: True\n"
     ]
    }
   ],
   "source": [
    "train_loader = RafDataSet( \"train\", configs)\n",
    "test_loader_ttau = RafDataSet(\"test\", configs, ttau = True, len_tta = 10) \n",
    "test_loader = RafDataSet(\"test\", configs, ttau = False, len_tta = 48) \n",
    "\n",
    "model = get_model_resnet(name = configs['model'], pretrained = configs['use_pretrained'])\n",
    "\n",
    "# for name, layer in model.named_children():\n",
    "#     print(f\"{name}: {layer}\")\n",
    "\n",
    "if configs['freeze_cbam'] == True:\n",
    "    print(\"go freeze\")\n",
    "    layers = [3, 4, 6, 3]  \n",
    "    layer_names = ['layer1', 'layer2', 'layer3', 'layer4']\n",
    "    \n",
    "    for name, layer in model.named_children():\n",
    "        if isinstance(layer, torch.nn.Module):  # Only consider actual layers\n",
    "            if name == 'fc':\n",
    "                continue\n",
    "            for param in layer.parameters():\n",
    "                param.requires_grad = False\n",
    "\n",
    "    # Unfreeze CBAM blocks as specified by the layers\n",
    "    for i, layer_name in enumerate(layer_names):\n",
    "        if hasattr(model, layer_name):\n",
    "            layer = getattr(model, layer_name)\n",
    "            for idx in range(layers[i]):\n",
    "                for param in layer[idx].CbamBlock.parameters():\n",
    "                    param.requires_grad = True\n",
    "            \n",
    "for name, param in model.named_parameters():\n",
    "    print(f\"{name}: {param.requires_grad}\")\n"
   ]
  },
  {
   "cell_type": "markdown",
   "id": "3605389b",
   "metadata": {
    "papermill": {
     "duration": 0.004786,
     "end_time": "2025-03-01T09:14:19.033883",
     "exception": false,
     "start_time": "2025-03-01T09:14:19.029097",
     "status": "completed"
    },
    "tags": []
   },
   "source": [
    "<h1>4.3. Training stage is running</h1>"
   ]
  },
  {
   "cell_type": "code",
   "execution_count": 9,
   "id": "4bfc2c9b",
   "metadata": {
    "execution": {
     "iopub.execute_input": "2025-03-01T09:14:19.044140Z",
     "iopub.status.busy": "2025-03-01T09:14:19.043866Z",
     "iopub.status.idle": "2025-03-01T14:58:15.154987Z",
     "shell.execute_reply": "2025-03-01T14:58:15.153951Z"
    },
    "papermill": {
     "duration": 20636.117735,
     "end_time": "2025-03-01T14:58:15.156330",
     "exception": false,
     "start_time": "2025-03-01T09:14:19.038595",
     "status": "completed"
    },
    "tags": []
   },
   "outputs": [
    {
     "name": "stdout",
     "output_type": "stream",
     "text": [
      "The selected optimizer is RAdam\n",
      "The selected learning_rate scheduler strategy is ReduceLROnPlateau\n"
     ]
    },
    {
     "name": "stderr",
     "output_type": "stream",
     "text": [
      "Epoch 1: 100%|\u001b[34m██████████████████████████████████████████████████\u001b[0m| 192/192 [01:34<00:00]"
     ]
    },
    {
     "name": "stdout",
     "output_type": "stream",
     "text": [
      " Loss: 0.4661 , Accuracy: 83.54%\n"
     ]
    },
    {
     "name": "stderr",
     "output_type": "stream",
     "text": [
      "\n",
      "         100%|\u001b[32m██████████████████████████████\u001b[0m| 48/48 [00:18<00:00]\n"
     ]
    },
    {
     "name": "stdout",
     "output_type": "stream",
     "text": [
      " Val_Loss: 0.4833 , Val_Accuracy: 83.53% , Learning_rate: 0.0001\n",
      "Weight was updated because val_accuracy get highest(=83.53081607818604)\n"
     ]
    },
    {
     "name": "stderr",
     "output_type": "stream",
     "text": [
      "Epoch 2: 100%|\u001b[34m██████████████████████████████████████████████████\u001b[0m| 192/192 [01:32<00:00]"
     ]
    },
    {
     "name": "stdout",
     "output_type": "stream",
     "text": [
      " Loss: 0.3834 , Accuracy: 86.79%\n"
     ]
    },
    {
     "name": "stderr",
     "output_type": "stream",
     "text": [
      "\n",
      "         100%|\u001b[32m██████████████████████████████\u001b[0m| 48/48 [00:07<00:00]\n"
     ]
    },
    {
     "name": "stdout",
     "output_type": "stream",
     "text": [
      " Val_Loss: 0.5211 , Val_Accuracy: 83.75% , Learning_rate: 0.0001\n",
      "Weight was updated because val_accuracy get highest(=83.7521702448527)\n"
     ]
    },
    {
     "name": "stderr",
     "output_type": "stream",
     "text": [
      "Epoch 3: 100%|\u001b[34m██████████████████████████████████████████████████\u001b[0m| 192/192 [01:32<00:00]"
     ]
    },
    {
     "name": "stdout",
     "output_type": "stream",
     "text": [
      " Loss: 0.3288 , Accuracy: 88.57%\n"
     ]
    },
    {
     "name": "stderr",
     "output_type": "stream",
     "text": [
      "\n",
      "         100%|\u001b[32m██████████████████████████████\u001b[0m| 48/48 [00:07<00:00]"
     ]
    },
    {
     "name": "stdout",
     "output_type": "stream",
     "text": [
      " Val_Loss: 0.5860 , Val_Accuracy: 82.13% , Learning_rate: 0.0001\n"
     ]
    },
    {
     "name": "stderr",
     "output_type": "stream",
     "text": [
      "\n",
      "Epoch 4: 100%|\u001b[34m██████████████████████████████████████████████████\u001b[0m| 192/192 [01:32<00:00]"
     ]
    },
    {
     "name": "stdout",
     "output_type": "stream",
     "text": [
      " Loss: 0.2652 , Accuracy: 90.43%\n"
     ]
    },
    {
     "name": "stderr",
     "output_type": "stream",
     "text": [
      "\n",
      "         100%|\u001b[32m██████████████████████████████\u001b[0m| 48/48 [00:07<00:00]"
     ]
    },
    {
     "name": "stdout",
     "output_type": "stream",
     "text": [
      " Val_Loss: 0.5541 , Val_Accuracy: 83.60% , Learning_rate: 0.0001\n"
     ]
    },
    {
     "name": "stderr",
     "output_type": "stream",
     "text": [
      "\n",
      "Epoch 5: 100%|\u001b[34m██████████████████████████████████████████████████\u001b[0m| 192/192 [01:32<00:00]"
     ]
    },
    {
     "name": "stdout",
     "output_type": "stream",
     "text": [
      " Loss: 0.2490 , Accuracy: 91.26%\n"
     ]
    },
    {
     "name": "stderr",
     "output_type": "stream",
     "text": [
      "\n",
      "         100%|\u001b[32m██████████████████████████████\u001b[0m| 48/48 [00:07<00:00]"
     ]
    },
    {
     "name": "stdout",
     "output_type": "stream",
     "text": [
      " Val_Loss: 0.6689 , Val_Accuracy: 80.53% , Learning_rate: 0.0001\n"
     ]
    },
    {
     "name": "stderr",
     "output_type": "stream",
     "text": [
      "\n",
      "Epoch 6: 100%|\u001b[34m██████████████████████████████████████████████████\u001b[0m| 192/192 [01:32<00:00]"
     ]
    },
    {
     "name": "stdout",
     "output_type": "stream",
     "text": [
      " Loss: 0.2155 , Accuracy: 92.39%\n"
     ]
    },
    {
     "name": "stderr",
     "output_type": "stream",
     "text": [
      "\n",
      "         100%|\u001b[32m██████████████████████████████\u001b[0m| 48/48 [00:07<00:00]\n"
     ]
    },
    {
     "name": "stdout",
     "output_type": "stream",
     "text": [
      " Val_Loss: 0.5048 , Val_Accuracy: 85.46% , Learning_rate: 0.0001\n",
      "Weight was updated because val_accuracy get highest(=85.46440982818604)\n"
     ]
    },
    {
     "name": "stderr",
     "output_type": "stream",
     "text": [
      "Epoch 7: 100%|\u001b[34m██████████████████████████████████████████████████\u001b[0m| 192/192 [01:32<00:00]"
     ]
    },
    {
     "name": "stdout",
     "output_type": "stream",
     "text": [
      " Loss: 0.2097 , Accuracy: 92.82%\n"
     ]
    },
    {
     "name": "stderr",
     "output_type": "stream",
     "text": [
      "\n",
      "         100%|\u001b[32m██████████████████████████████\u001b[0m| 48/48 [00:07<00:00]\n"
     ]
    },
    {
     "name": "stdout",
     "output_type": "stream",
     "text": [
      " Val_Loss: 0.4926 , Val_Accuracy: 85.55% , Learning_rate: 0.0001\n",
      "Weight was updated because val_accuracy get highest(=85.5490452448527)\n"
     ]
    },
    {
     "name": "stderr",
     "output_type": "stream",
     "text": [
      "Epoch 8: 100%|\u001b[34m██████████████████████████████████████████████████\u001b[0m| 192/192 [01:32<00:00]"
     ]
    },
    {
     "name": "stdout",
     "output_type": "stream",
     "text": [
      " Loss: 0.1906 , Accuracy: 93.48%\n"
     ]
    },
    {
     "name": "stderr",
     "output_type": "stream",
     "text": [
      "\n",
      "         100%|\u001b[32m██████████████████████████████\u001b[0m| 48/48 [00:07<00:00]\n"
     ]
    },
    {
     "name": "stdout",
     "output_type": "stream",
     "text": [
      " Val_Loss: 0.5079 , Val_Accuracy: 85.67% , Learning_rate: 0.0001\n",
      "Weight was updated because val_accuracy get highest(=85.67057291666667)\n"
     ]
    },
    {
     "name": "stderr",
     "output_type": "stream",
     "text": [
      "Epoch 9: 100%|\u001b[34m██████████████████████████████████████████████████\u001b[0m| 192/192 [01:32<00:00]"
     ]
    },
    {
     "name": "stdout",
     "output_type": "stream",
     "text": [
      " Loss: 0.1594 , Accuracy: 94.53%\n"
     ]
    },
    {
     "name": "stderr",
     "output_type": "stream",
     "text": [
      "\n",
      "         100%|\u001b[32m██████████████████████████████\u001b[0m| 48/48 [00:07<00:00]"
     ]
    },
    {
     "name": "stdout",
     "output_type": "stream",
     "text": [
      " Val_Loss: 0.7009 , Val_Accuracy: 80.01% , Learning_rate: 0.0001\n"
     ]
    },
    {
     "name": "stderr",
     "output_type": "stream",
     "text": [
      "\n",
      "Epoch 10: 100%|\u001b[34m██████████████████████████████████████████████████\u001b[0m| 192/192 [01:32<00:00]"
     ]
    },
    {
     "name": "stdout",
     "output_type": "stream",
     "text": [
      " Loss: 0.1679 , Accuracy: 94.17%\n"
     ]
    },
    {
     "name": "stderr",
     "output_type": "stream",
     "text": [
      "\n",
      "         100%|\u001b[32m██████████████████████████████\u001b[0m| 48/48 [00:07<00:00]\n"
     ]
    },
    {
     "name": "stdout",
     "output_type": "stream",
     "text": [
      " Val_Loss: 0.5034 , Val_Accuracy: 86.12% , Learning_rate: 0.0001\n",
      "Weight was updated because val_accuracy get highest(=86.1154514948527)\n"
     ]
    },
    {
     "name": "stderr",
     "output_type": "stream",
     "text": [
      "Epoch 11: 100%|\u001b[34m██████████████████████████████████████████████████\u001b[0m| 192/192 [01:32<00:00]"
     ]
    },
    {
     "name": "stdout",
     "output_type": "stream",
     "text": [
      " Loss: 0.1538 , Accuracy: 94.68%\n"
     ]
    },
    {
     "name": "stderr",
     "output_type": "stream",
     "text": [
      "\n",
      "         100%|\u001b[32m██████████████████████████████\u001b[0m| 48/48 [00:07<00:00]"
     ]
    },
    {
     "name": "stdout",
     "output_type": "stream",
     "text": [
      " Val_Loss: 0.5043 , Val_Accuracy: 86.00% , Learning_rate: 0.0001\n"
     ]
    },
    {
     "name": "stderr",
     "output_type": "stream",
     "text": [
      "\n",
      "Epoch 12: 100%|\u001b[34m██████████████████████████████████████████████████\u001b[0m| 192/192 [01:32<00:00]"
     ]
    },
    {
     "name": "stdout",
     "output_type": "stream",
     "text": [
      " Loss: 0.1489 , Accuracy: 94.80%\n"
     ]
    },
    {
     "name": "stderr",
     "output_type": "stream",
     "text": [
      "\n",
      "         100%|\u001b[32m██████████████████████████████\u001b[0m| 48/48 [00:07<00:00]"
     ]
    },
    {
     "name": "stdout",
     "output_type": "stream",
     "text": [
      " Val_Loss: 0.7146 , Val_Accuracy: 80.15% , Learning_rate: 0.0001\n"
     ]
    },
    {
     "name": "stderr",
     "output_type": "stream",
     "text": [
      "\n",
      "Epoch 13: 100%|\u001b[34m██████████████████████████████████████████████████\u001b[0m| 192/192 [01:32<00:00]"
     ]
    },
    {
     "name": "stdout",
     "output_type": "stream",
     "text": [
      " Loss: 0.1409 , Accuracy: 95.04%\n"
     ]
    },
    {
     "name": "stderr",
     "output_type": "stream",
     "text": [
      "\n",
      "         100%|\u001b[32m██████████████████████████████\u001b[0m| 48/48 [00:07<00:00]\n"
     ]
    },
    {
     "name": "stdout",
     "output_type": "stream",
     "text": [
      " Val_Loss: 0.5401 , Val_Accuracy: 86.25% , Learning_rate: 0.0001\n",
      "Weight was updated because val_accuracy get highest(=86.25000015894572)\n"
     ]
    },
    {
     "name": "stderr",
     "output_type": "stream",
     "text": [
      "Epoch 14: 100%|\u001b[34m██████████████████████████████████████████████████\u001b[0m| 192/192 [01:32<00:00]"
     ]
    },
    {
     "name": "stdout",
     "output_type": "stream",
     "text": [
      " Loss: 0.1246 , Accuracy: 95.87%\n"
     ]
    },
    {
     "name": "stderr",
     "output_type": "stream",
     "text": [
      "\n",
      "         100%|\u001b[32m██████████████████████████████\u001b[0m| 48/48 [00:07<00:00]\n"
     ]
    },
    {
     "name": "stdout",
     "output_type": "stream",
     "text": [
      " Val_Loss: 0.4886 , Val_Accuracy: 86.86% , Learning_rate: 0.0001\n",
      "Weight was updated because val_accuracy get highest(=86.86414941151936)\n"
     ]
    },
    {
     "name": "stderr",
     "output_type": "stream",
     "text": [
      "Epoch 15: 100%|\u001b[34m██████████████████████████████████████████████████\u001b[0m| 192/192 [01:32<00:00]"
     ]
    },
    {
     "name": "stdout",
     "output_type": "stream",
     "text": [
      " Loss: 0.1341 , Accuracy: 95.20%\n"
     ]
    },
    {
     "name": "stderr",
     "output_type": "stream",
     "text": [
      "\n",
      "         100%|\u001b[32m██████████████████████████████\u001b[0m| 48/48 [00:07<00:00]"
     ]
    },
    {
     "name": "stdout",
     "output_type": "stream",
     "text": [
      " Val_Loss: 0.6349 , Val_Accuracy: 83.54% , Learning_rate: 0.0001\n"
     ]
    },
    {
     "name": "stderr",
     "output_type": "stream",
     "text": [
      "\n",
      "Epoch 16: 100%|\u001b[34m██████████████████████████████████████████████████\u001b[0m| 192/192 [01:32<00:00]"
     ]
    },
    {
     "name": "stdout",
     "output_type": "stream",
     "text": [
      " Loss: 0.1233 , Accuracy: 95.76%\n"
     ]
    },
    {
     "name": "stderr",
     "output_type": "stream",
     "text": [
      "\n",
      "         100%|\u001b[32m██████████████████████████████\u001b[0m| 48/48 [00:07<00:00]"
     ]
    },
    {
     "name": "stdout",
     "output_type": "stream",
     "text": [
      " Val_Loss: 0.5114 , Val_Accuracy: 85.88% , Learning_rate: 0.0001\n"
     ]
    },
    {
     "name": "stderr",
     "output_type": "stream",
     "text": [
      "\n",
      "Epoch 17: 100%|\u001b[34m██████████████████████████████████████████████████\u001b[0m| 192/192 [01:32<00:00]"
     ]
    },
    {
     "name": "stdout",
     "output_type": "stream",
     "text": [
      " Loss: 0.1140 , Accuracy: 95.98%\n"
     ]
    },
    {
     "name": "stderr",
     "output_type": "stream",
     "text": [
      "\n",
      "         100%|\u001b[32m██████████████████████████████\u001b[0m| 48/48 [00:07<00:00]"
     ]
    },
    {
     "name": "stdout",
     "output_type": "stream",
     "text": [
      " Val_Loss: 0.6854 , Val_Accuracy: 83.98% , Learning_rate: 0.0001\n"
     ]
    },
    {
     "name": "stderr",
     "output_type": "stream",
     "text": [
      "\n",
      "Epoch 18: 100%|\u001b[34m██████████████████████████████████████████████████\u001b[0m| 192/192 [01:32<00:00]"
     ]
    },
    {
     "name": "stdout",
     "output_type": "stream",
     "text": [
      " Loss: 0.1082 , Accuracy: 96.27%\n"
     ]
    },
    {
     "name": "stderr",
     "output_type": "stream",
     "text": [
      "\n",
      "         100%|\u001b[32m██████████████████████████████\u001b[0m| 48/48 [00:07<00:00]"
     ]
    },
    {
     "name": "stdout",
     "output_type": "stream",
     "text": [
      " Val_Loss: 0.5549 , Val_Accuracy: 85.89% , Learning_rate: 0.0001\n"
     ]
    },
    {
     "name": "stderr",
     "output_type": "stream",
     "text": [
      "\n",
      "Epoch 19: 100%|\u001b[34m██████████████████████████████████████████████████\u001b[0m| 192/192 [01:32<00:00]"
     ]
    },
    {
     "name": "stdout",
     "output_type": "stream",
     "text": [
      " Loss: 0.1149 , Accuracy: 96.08%\n"
     ]
    },
    {
     "name": "stderr",
     "output_type": "stream",
     "text": [
      "\n",
      "         100%|\u001b[32m██████████████████████████████\u001b[0m| 48/48 [00:07<00:00]"
     ]
    },
    {
     "name": "stdout",
     "output_type": "stream",
     "text": [
      " Val_Loss: 0.6048 , Val_Accuracy: 85.48% , Learning_rate: 0.0001\n"
     ]
    },
    {
     "name": "stderr",
     "output_type": "stream",
     "text": [
      "\n",
      "Epoch 20: 100%|\u001b[34m██████████████████████████████████████████████████\u001b[0m| 192/192 [01:32<00:00]"
     ]
    },
    {
     "name": "stdout",
     "output_type": "stream",
     "text": [
      " Loss: 0.1108 , Accuracy: 96.10%\n"
     ]
    },
    {
     "name": "stderr",
     "output_type": "stream",
     "text": [
      "\n",
      "         100%|\u001b[32m██████████████████████████████\u001b[0m| 48/48 [00:07<00:00]"
     ]
    },
    {
     "name": "stdout",
     "output_type": "stream",
     "text": [
      " Val_Loss: 0.5535 , Val_Accuracy: 85.58% , Learning_rate: 0.0001\n"
     ]
    },
    {
     "name": "stderr",
     "output_type": "stream",
     "text": [
      "\n",
      "Epoch 21: 100%|\u001b[34m██████████████████████████████████████████████████\u001b[0m| 192/192 [01:32<00:00]"
     ]
    },
    {
     "name": "stdout",
     "output_type": "stream",
     "text": [
      " Loss: 0.0635 , Accuracy: 97.87%\n"
     ]
    },
    {
     "name": "stderr",
     "output_type": "stream",
     "text": [
      "\n",
      "         100%|\u001b[32m██████████████████████████████\u001b[0m| 48/48 [00:07<00:00]\n"
     ]
    },
    {
     "name": "stdout",
     "output_type": "stream",
     "text": [
      " Val_Loss: 0.4547 , Val_Accuracy: 88.36% , Learning_rate: 5e-05\n",
      "Weight was updated because val_accuracy get highest(=88.35937515894572)\n"
     ]
    },
    {
     "name": "stderr",
     "output_type": "stream",
     "text": [
      "Epoch 22: 100%|\u001b[34m██████████████████████████████████████████████████\u001b[0m| 192/192 [01:32<00:00]"
     ]
    },
    {
     "name": "stdout",
     "output_type": "stream",
     "text": [
      " Loss: 0.0438 , Accuracy: 98.52%\n"
     ]
    },
    {
     "name": "stderr",
     "output_type": "stream",
     "text": [
      "\n",
      "         100%|\u001b[32m██████████████████████████████\u001b[0m| 48/48 [00:07<00:00]\n"
     ]
    },
    {
     "name": "stdout",
     "output_type": "stream",
     "text": [
      " Val_Loss: 0.4888 , Val_Accuracy: 88.58% , Learning_rate: 5e-05\n",
      "Weight was updated because val_accuracy get highest(=88.58289941151936)\n"
     ]
    },
    {
     "name": "stderr",
     "output_type": "stream",
     "text": [
      "Epoch 23: 100%|\u001b[34m██████████████████████████████████████████████████\u001b[0m| 192/192 [01:32<00:00]"
     ]
    },
    {
     "name": "stdout",
     "output_type": "stream",
     "text": [
      " Loss: 0.0351 , Accuracy: 98.78%\n"
     ]
    },
    {
     "name": "stderr",
     "output_type": "stream",
     "text": [
      "\n",
      "         100%|\u001b[32m██████████████████████████████\u001b[0m| 48/48 [00:07<00:00]"
     ]
    },
    {
     "name": "stdout",
     "output_type": "stream",
     "text": [
      " Val_Loss: 0.5089 , Val_Accuracy: 88.35% , Learning_rate: 5e-05\n"
     ]
    },
    {
     "name": "stderr",
     "output_type": "stream",
     "text": [
      "\n",
      "Epoch 24: 100%|\u001b[34m██████████████████████████████████████████████████\u001b[0m| 192/192 [01:32<00:00]"
     ]
    },
    {
     "name": "stdout",
     "output_type": "stream",
     "text": [
      " Loss: 0.0401 , Accuracy: 98.67%\n"
     ]
    },
    {
     "name": "stderr",
     "output_type": "stream",
     "text": [
      "\n",
      "         100%|\u001b[32m██████████████████████████████\u001b[0m| 48/48 [00:07<00:00]"
     ]
    },
    {
     "name": "stdout",
     "output_type": "stream",
     "text": [
      " Val_Loss: 0.5608 , Val_Accuracy: 86.82% , Learning_rate: 5e-05\n"
     ]
    },
    {
     "name": "stderr",
     "output_type": "stream",
     "text": [
      "\n",
      "Epoch 25: 100%|\u001b[34m██████████████████████████████████████████████████\u001b[0m| 192/192 [01:32<00:00]"
     ]
    },
    {
     "name": "stdout",
     "output_type": "stream",
     "text": [
      " Loss: 0.0343 , Accuracy: 98.87%\n"
     ]
    },
    {
     "name": "stderr",
     "output_type": "stream",
     "text": [
      "\n",
      "         100%|\u001b[32m██████████████████████████████\u001b[0m| 48/48 [00:07<00:00]"
     ]
    },
    {
     "name": "stdout",
     "output_type": "stream",
     "text": [
      " Val_Loss: 0.5291 , Val_Accuracy: 87.83% , Learning_rate: 5e-05\n"
     ]
    },
    {
     "name": "stderr",
     "output_type": "stream",
     "text": [
      "\n",
      "Epoch 26: 100%|\u001b[34m██████████████████████████████████████████████████\u001b[0m| 192/192 [01:32<00:00]"
     ]
    },
    {
     "name": "stdout",
     "output_type": "stream",
     "text": [
      " Loss: 0.0349 , Accuracy: 98.81%\n"
     ]
    },
    {
     "name": "stderr",
     "output_type": "stream",
     "text": [
      "\n",
      "         100%|\u001b[32m██████████████████████████████\u001b[0m| 48/48 [00:07<00:00]"
     ]
    },
    {
     "name": "stdout",
     "output_type": "stream",
     "text": [
      " Val_Loss: 0.5715 , Val_Accuracy: 86.70% , Learning_rate: 5e-05\n"
     ]
    },
    {
     "name": "stderr",
     "output_type": "stream",
     "text": [
      "\n",
      "Epoch 27: 100%|\u001b[34m██████████████████████████████████████████████████\u001b[0m| 192/192 [01:32<00:00]"
     ]
    },
    {
     "name": "stdout",
     "output_type": "stream",
     "text": [
      " Loss: 0.0380 , Accuracy: 98.67%\n"
     ]
    },
    {
     "name": "stderr",
     "output_type": "stream",
     "text": [
      "\n",
      "         100%|\u001b[32m██████████████████████████████\u001b[0m| 48/48 [00:07<00:00]"
     ]
    },
    {
     "name": "stdout",
     "output_type": "stream",
     "text": [
      " Val_Loss: 0.6040 , Val_Accuracy: 87.26% , Learning_rate: 5e-05\n"
     ]
    },
    {
     "name": "stderr",
     "output_type": "stream",
     "text": [
      "\n",
      "Epoch 28: 100%|\u001b[34m██████████████████████████████████████████████████\u001b[0m| 192/192 [01:32<00:00]"
     ]
    },
    {
     "name": "stdout",
     "output_type": "stream",
     "text": [
      " Loss: 0.0362 , Accuracy: 98.89%\n"
     ]
    },
    {
     "name": "stderr",
     "output_type": "stream",
     "text": [
      "\n",
      "         100%|\u001b[32m██████████████████████████████\u001b[0m| 48/48 [00:07<00:00]"
     ]
    },
    {
     "name": "stdout",
     "output_type": "stream",
     "text": [
      " Val_Loss: 0.5584 , Val_Accuracy: 86.43% , Learning_rate: 5e-05\n"
     ]
    },
    {
     "name": "stderr",
     "output_type": "stream",
     "text": [
      "\n",
      "Epoch 29: 100%|\u001b[34m██████████████████████████████████████████████████\u001b[0m| 192/192 [01:32<00:00]"
     ]
    },
    {
     "name": "stdout",
     "output_type": "stream",
     "text": [
      " Loss: 0.0366 , Accuracy: 98.69%\n"
     ]
    },
    {
     "name": "stderr",
     "output_type": "stream",
     "text": [
      "\n",
      "         100%|\u001b[32m██████████████████████████████\u001b[0m| 48/48 [00:07<00:00]"
     ]
    },
    {
     "name": "stdout",
     "output_type": "stream",
     "text": [
      " Val_Loss: 0.5784 , Val_Accuracy: 87.59% , Learning_rate: 5e-05\n"
     ]
    },
    {
     "name": "stderr",
     "output_type": "stream",
     "text": [
      "\n",
      "Epoch 30: 100%|\u001b[34m██████████████████████████████████████████████████\u001b[0m| 192/192 [01:32<00:00]"
     ]
    },
    {
     "name": "stdout",
     "output_type": "stream",
     "text": [
      " Loss: 0.0357 , Accuracy: 98.74%\n"
     ]
    },
    {
     "name": "stderr",
     "output_type": "stream",
     "text": [
      "\n",
      "         100%|\u001b[32m██████████████████████████████\u001b[0m| 48/48 [00:07<00:00]"
     ]
    },
    {
     "name": "stdout",
     "output_type": "stream",
     "text": [
      " Val_Loss: 0.5571 , Val_Accuracy: 87.42% , Learning_rate: 5e-05\n"
     ]
    },
    {
     "name": "stderr",
     "output_type": "stream",
     "text": [
      "\n",
      "Epoch 31: 100%|\u001b[34m██████████████████████████████████████████████████\u001b[0m| 192/192 [01:32<00:00]"
     ]
    },
    {
     "name": "stdout",
     "output_type": "stream",
     "text": [
      " Loss: 0.0286 , Accuracy: 99.08%\n"
     ]
    },
    {
     "name": "stderr",
     "output_type": "stream",
     "text": [
      "\n",
      "         100%|\u001b[32m██████████████████████████████\u001b[0m| 48/48 [00:07<00:00]"
     ]
    },
    {
     "name": "stdout",
     "output_type": "stream",
     "text": [
      " Val_Loss: 0.5999 , Val_Accuracy: 86.42% , Learning_rate: 5e-05\n"
     ]
    },
    {
     "name": "stderr",
     "output_type": "stream",
     "text": [
      "\n",
      "Epoch 32: 100%|\u001b[34m██████████████████████████████████████████████████\u001b[0m| 192/192 [01:32<00:00]"
     ]
    },
    {
     "name": "stdout",
     "output_type": "stream",
     "text": [
      " Loss: 0.0264 , Accuracy: 99.04%\n"
     ]
    },
    {
     "name": "stderr",
     "output_type": "stream",
     "text": [
      "\n",
      "         100%|\u001b[32m██████████████████████████████\u001b[0m| 48/48 [00:07<00:00]"
     ]
    },
    {
     "name": "stdout",
     "output_type": "stream",
     "text": [
      " Val_Loss: 0.5347 , Val_Accuracy: 87.70% , Learning_rate: 2.5e-05\n"
     ]
    },
    {
     "name": "stderr",
     "output_type": "stream",
     "text": [
      "\n",
      "Epoch 33: 100%|\u001b[34m██████████████████████████████████████████████████\u001b[0m| 192/192 [01:32<00:00]"
     ]
    },
    {
     "name": "stdout",
     "output_type": "stream",
     "text": [
      " Loss: 0.0154 , Accuracy: 99.52%\n"
     ]
    },
    {
     "name": "stderr",
     "output_type": "stream",
     "text": [
      "\n",
      "         100%|\u001b[32m██████████████████████████████\u001b[0m| 48/48 [00:07<00:00]\n"
     ]
    },
    {
     "name": "stdout",
     "output_type": "stream",
     "text": [
      " Val_Loss: 0.5355 , Val_Accuracy: 89.24% , Learning_rate: 2.5e-05\n",
      "Weight was updated because val_accuracy get highest(=89.24262158075969)\n"
     ]
    },
    {
     "name": "stderr",
     "output_type": "stream",
     "text": [
      "Epoch 34: 100%|\u001b[34m██████████████████████████████████████████████████\u001b[0m| 192/192 [01:32<00:00]"
     ]
    },
    {
     "name": "stdout",
     "output_type": "stream",
     "text": [
      " Loss: 0.0110 , Accuracy: 99.66%\n"
     ]
    },
    {
     "name": "stderr",
     "output_type": "stream",
     "text": [
      "\n",
      "         100%|\u001b[32m██████████████████████████████\u001b[0m| 48/48 [00:07<00:00]"
     ]
    },
    {
     "name": "stdout",
     "output_type": "stream",
     "text": [
      " Val_Loss: 0.5669 , Val_Accuracy: 88.55% , Learning_rate: 2.5e-05\n"
     ]
    },
    {
     "name": "stderr",
     "output_type": "stream",
     "text": [
      "\n",
      "Epoch 35: 100%|\u001b[34m██████████████████████████████████████████████████\u001b[0m| 192/192 [01:32<00:00]"
     ]
    },
    {
     "name": "stdout",
     "output_type": "stream",
     "text": [
      " Loss: 0.0113 , Accuracy: 99.69%\n"
     ]
    },
    {
     "name": "stderr",
     "output_type": "stream",
     "text": [
      "\n",
      "         100%|\u001b[32m██████████████████████████████\u001b[0m| 48/48 [00:07<00:00]"
     ]
    },
    {
     "name": "stdout",
     "output_type": "stream",
     "text": [
      " Val_Loss: 0.5607 , Val_Accuracy: 88.36% , Learning_rate: 2.5e-05\n"
     ]
    },
    {
     "name": "stderr",
     "output_type": "stream",
     "text": [
      "\n",
      "Epoch 36: 100%|\u001b[34m██████████████████████████████████████████████████\u001b[0m| 192/192 [01:32<00:00]"
     ]
    },
    {
     "name": "stdout",
     "output_type": "stream",
     "text": [
      " Loss: 0.0144 , Accuracy: 99.44%\n"
     ]
    },
    {
     "name": "stderr",
     "output_type": "stream",
     "text": [
      "\n",
      "         100%|\u001b[32m██████████████████████████████\u001b[0m| 48/48 [00:07<00:00]"
     ]
    },
    {
     "name": "stdout",
     "output_type": "stream",
     "text": [
      " Val_Loss: 0.6187 , Val_Accuracy: 87.77% , Learning_rate: 2.5e-05\n"
     ]
    },
    {
     "name": "stderr",
     "output_type": "stream",
     "text": [
      "\n",
      "Epoch 37: 100%|\u001b[34m██████████████████████████████████████████████████\u001b[0m| 192/192 [01:32<00:00]"
     ]
    },
    {
     "name": "stdout",
     "output_type": "stream",
     "text": [
      " Loss: 0.0140 , Accuracy: 99.60%\n"
     ]
    },
    {
     "name": "stderr",
     "output_type": "stream",
     "text": [
      "\n",
      "         100%|\u001b[32m██████████████████████████████\u001b[0m| 48/48 [00:07<00:00]"
     ]
    },
    {
     "name": "stdout",
     "output_type": "stream",
     "text": [
      " Val_Loss: 0.5583 , Val_Accuracy: 88.78% , Learning_rate: 2.5e-05\n"
     ]
    },
    {
     "name": "stderr",
     "output_type": "stream",
     "text": [
      "\n",
      "Epoch 38: 100%|\u001b[34m██████████████████████████████████████████████████\u001b[0m| 192/192 [01:32<00:00]"
     ]
    },
    {
     "name": "stdout",
     "output_type": "stream",
     "text": [
      " Loss: 0.0154 , Accuracy: 99.47%\n"
     ]
    },
    {
     "name": "stderr",
     "output_type": "stream",
     "text": [
      "\n",
      "         100%|\u001b[32m██████████████████████████████\u001b[0m| 48/48 [00:07<00:00]"
     ]
    },
    {
     "name": "stdout",
     "output_type": "stream",
     "text": [
      " Val_Loss: 0.6200 , Val_Accuracy: 88.16% , Learning_rate: 2.5e-05\n"
     ]
    },
    {
     "name": "stderr",
     "output_type": "stream",
     "text": [
      "\n",
      "Epoch 39: 100%|\u001b[34m██████████████████████████████████████████████████\u001b[0m| 192/192 [01:32<00:00]"
     ]
    },
    {
     "name": "stdout",
     "output_type": "stream",
     "text": [
      " Loss: 0.0118 , Accuracy: 99.58%\n"
     ]
    },
    {
     "name": "stderr",
     "output_type": "stream",
     "text": [
      "\n",
      "         100%|\u001b[32m██████████████████████████████\u001b[0m| 48/48 [00:07<00:00]"
     ]
    },
    {
     "name": "stdout",
     "output_type": "stream",
     "text": [
      " Val_Loss: 0.5900 , Val_Accuracy: 88.29% , Learning_rate: 2.5e-05\n"
     ]
    },
    {
     "name": "stderr",
     "output_type": "stream",
     "text": [
      "\n",
      "Epoch 40: 100%|\u001b[34m██████████████████████████████████████████████████\u001b[0m| 192/192 [01:32<00:00]"
     ]
    },
    {
     "name": "stdout",
     "output_type": "stream",
     "text": [
      " Loss: 0.0105 , Accuracy: 99.65%\n"
     ]
    },
    {
     "name": "stderr",
     "output_type": "stream",
     "text": [
      "\n",
      "         100%|\u001b[32m██████████████████████████████\u001b[0m| 48/48 [00:07<00:00]"
     ]
    },
    {
     "name": "stdout",
     "output_type": "stream",
     "text": [
      " Val_Loss: 0.6182 , Val_Accuracy: 88.23% , Learning_rate: 2.5e-05\n"
     ]
    },
    {
     "name": "stderr",
     "output_type": "stream",
     "text": [
      "\n",
      "Epoch 41: 100%|\u001b[34m██████████████████████████████████████████████████\u001b[0m| 192/192 [01:32<00:00]"
     ]
    },
    {
     "name": "stdout",
     "output_type": "stream",
     "text": [
      " Loss: 0.0099 , Accuracy: 99.69%\n"
     ]
    },
    {
     "name": "stderr",
     "output_type": "stream",
     "text": [
      "\n",
      "         100%|\u001b[32m██████████████████████████████\u001b[0m| 48/48 [00:07<00:00]\n"
     ]
    },
    {
     "name": "stdout",
     "output_type": "stream",
     "text": [
      " Val_Loss: 0.6512 , Val_Accuracy: 88.11% , Learning_rate: 2.5e-05\n"
     ]
    },
    {
     "name": "stderr",
     "output_type": "stream",
     "text": [
      "Epoch 42: 100%|\u001b[34m██████████████████████████████████████████████████\u001b[0m| 192/192 [01:32<00:00]"
     ]
    },
    {
     "name": "stdout",
     "output_type": "stream",
     "text": [
      " Loss: 0.0133 , Accuracy: 99.51%\n"
     ]
    },
    {
     "name": "stderr",
     "output_type": "stream",
     "text": [
      "\n",
      "         100%|\u001b[32m██████████████████████████████\u001b[0m| 48/48 [00:07<00:00]"
     ]
    },
    {
     "name": "stdout",
     "output_type": "stream",
     "text": [
      " Val_Loss: 0.6368 , Val_Accuracy: 87.44% , Learning_rate: 2.5e-05\n"
     ]
    },
    {
     "name": "stderr",
     "output_type": "stream",
     "text": [
      "\n",
      "Epoch 43: 100%|\u001b[34m██████████████████████████████████████████████████\u001b[0m| 192/192 [01:32<00:00]"
     ]
    },
    {
     "name": "stdout",
     "output_type": "stream",
     "text": [
      " Loss: 0.0089 , Accuracy: 99.70%\n"
     ]
    },
    {
     "name": "stderr",
     "output_type": "stream",
     "text": [
      "\n",
      "         100%|\u001b[32m██████████████████████████████\u001b[0m| 48/48 [00:07<00:00]"
     ]
    },
    {
     "name": "stdout",
     "output_type": "stream",
     "text": [
      " Val_Loss: 0.5924 , Val_Accuracy: 88.78% , Learning_rate: 1.25e-05\n"
     ]
    },
    {
     "name": "stderr",
     "output_type": "stream",
     "text": [
      "\n",
      "Epoch 44: 100%|\u001b[34m██████████████████████████████████████████████████\u001b[0m| 192/192 [01:32<00:00]"
     ]
    },
    {
     "name": "stdout",
     "output_type": "stream",
     "text": [
      " Loss: 0.0082 , Accuracy: 99.78%\n"
     ]
    },
    {
     "name": "stderr",
     "output_type": "stream",
     "text": [
      "\n",
      "         100%|\u001b[32m██████████████████████████████\u001b[0m| 48/48 [00:07<00:00]"
     ]
    },
    {
     "name": "stdout",
     "output_type": "stream",
     "text": [
      " Val_Loss: 0.5826 , Val_Accuracy: 88.68% , Learning_rate: 1.25e-05\n"
     ]
    },
    {
     "name": "stderr",
     "output_type": "stream",
     "text": [
      "\n",
      "Epoch 45: 100%|\u001b[34m██████████████████████████████████████████████████\u001b[0m| 192/192 [01:32<00:00]"
     ]
    },
    {
     "name": "stdout",
     "output_type": "stream",
     "text": [
      " Loss: 0.0056 , Accuracy: 99.80%\n"
     ]
    },
    {
     "name": "stderr",
     "output_type": "stream",
     "text": [
      "\n",
      "         100%|\u001b[32m██████████████████████████████\u001b[0m| 48/48 [00:07<00:00]"
     ]
    },
    {
     "name": "stdout",
     "output_type": "stream",
     "text": [
      " Val_Loss: 0.6001 , Val_Accuracy: 88.98% , Learning_rate: 1.25e-05\n"
     ]
    },
    {
     "name": "stderr",
     "output_type": "stream",
     "text": [
      "\n",
      "Epoch 46: 100%|\u001b[34m██████████████████████████████████████████████████\u001b[0m| 192/192 [01:32<00:00]"
     ]
    },
    {
     "name": "stdout",
     "output_type": "stream",
     "text": [
      " Loss: 0.0045 , Accuracy: 99.90%\n"
     ]
    },
    {
     "name": "stderr",
     "output_type": "stream",
     "text": [
      "\n",
      "         100%|\u001b[32m██████████████████████████████\u001b[0m| 48/48 [00:07<00:00]"
     ]
    },
    {
     "name": "stdout",
     "output_type": "stream",
     "text": [
      " Val_Loss: 0.6062 , Val_Accuracy: 88.95% , Learning_rate: 1.25e-05\n"
     ]
    },
    {
     "name": "stderr",
     "output_type": "stream",
     "text": [
      "\n",
      "Epoch 47: 100%|\u001b[34m██████████████████████████████████████████████████\u001b[0m| 192/192 [01:32<00:00]"
     ]
    },
    {
     "name": "stdout",
     "output_type": "stream",
     "text": [
      " Loss: 0.0051 , Accuracy: 99.85%\n"
     ]
    },
    {
     "name": "stderr",
     "output_type": "stream",
     "text": [
      "\n",
      "         100%|\u001b[32m██████████████████████████████\u001b[0m| 48/48 [00:07<00:00]"
     ]
    },
    {
     "name": "stdout",
     "output_type": "stream",
     "text": [
      " Val_Loss: 0.6400 , Val_Accuracy: 88.81% , Learning_rate: 1.25e-05\n"
     ]
    },
    {
     "name": "stderr",
     "output_type": "stream",
     "text": [
      "\n",
      "Epoch 48: 100%|\u001b[34m██████████████████████████████████████████████████\u001b[0m| 192/192 [01:32<00:00]"
     ]
    },
    {
     "name": "stdout",
     "output_type": "stream",
     "text": [
      " Loss: 0.0043 , Accuracy: 99.85%\n"
     ]
    },
    {
     "name": "stderr",
     "output_type": "stream",
     "text": [
      "\n",
      "         100%|\u001b[32m██████████████████████████████\u001b[0m| 48/48 [00:07<00:00]"
     ]
    },
    {
     "name": "stdout",
     "output_type": "stream",
     "text": [
      " Val_Loss: 0.6493 , Val_Accuracy: 88.61% , Learning_rate: 1.25e-05\n"
     ]
    },
    {
     "name": "stderr",
     "output_type": "stream",
     "text": [
      "\n",
      "Epoch 49: 100%|\u001b[34m██████████████████████████████████████████████████\u001b[0m| 192/192 [01:32<00:00]"
     ]
    },
    {
     "name": "stdout",
     "output_type": "stream",
     "text": [
      " Loss: 0.0041 , Accuracy: 99.85%\n"
     ]
    },
    {
     "name": "stderr",
     "output_type": "stream",
     "text": [
      "\n",
      "         100%|\u001b[32m██████████████████████████████\u001b[0m| 48/48 [00:07<00:00]"
     ]
    },
    {
     "name": "stdout",
     "output_type": "stream",
     "text": [
      " Val_Loss: 0.6339 , Val_Accuracy: 88.87% , Learning_rate: 1.25e-05\n"
     ]
    },
    {
     "name": "stderr",
     "output_type": "stream",
     "text": [
      "\n",
      "Epoch 50: 100%|\u001b[34m██████████████████████████████████████████████████\u001b[0m| 192/192 [01:32<00:00]"
     ]
    },
    {
     "name": "stdout",
     "output_type": "stream",
     "text": [
      " Loss: 0.0062 , Accuracy: 99.78%\n"
     ]
    },
    {
     "name": "stderr",
     "output_type": "stream",
     "text": [
      "\n",
      "         100%|\u001b[32m██████████████████████████████\u001b[0m| 48/48 [00:07<00:00]"
     ]
    },
    {
     "name": "stdout",
     "output_type": "stream",
     "text": [
      " Val_Loss: 0.6497 , Val_Accuracy: 88.39% , Learning_rate: 1.25e-05\n"
     ]
    },
    {
     "name": "stderr",
     "output_type": "stream",
     "text": [
      "\n",
      "Epoch 51: 100%|\u001b[34m██████████████████████████████████████████████████\u001b[0m| 192/192 [01:32<00:00]"
     ]
    },
    {
     "name": "stdout",
     "output_type": "stream",
     "text": [
      " Loss: 0.0047 , Accuracy: 99.85%\n"
     ]
    },
    {
     "name": "stderr",
     "output_type": "stream",
     "text": [
      "\n",
      "         100%|\u001b[32m██████████████████████████████\u001b[0m| 48/48 [00:07<00:00]"
     ]
    },
    {
     "name": "stdout",
     "output_type": "stream",
     "text": [
      " Val_Loss: 0.6392 , Val_Accuracy: 88.55% , Learning_rate: 1.25e-05\n"
     ]
    },
    {
     "name": "stderr",
     "output_type": "stream",
     "text": [
      "\n",
      "Epoch 52: 100%|\u001b[34m██████████████████████████████████████████████████\u001b[0m| 192/192 [01:32<00:00]"
     ]
    },
    {
     "name": "stdout",
     "output_type": "stream",
     "text": [
      " Loss: 0.0066 , Accuracy: 99.77%\n"
     ]
    },
    {
     "name": "stderr",
     "output_type": "stream",
     "text": [
      "\n",
      "         100%|\u001b[32m██████████████████████████████\u001b[0m| 48/48 [00:07<00:00]"
     ]
    },
    {
     "name": "stdout",
     "output_type": "stream",
     "text": [
      " Val_Loss: 0.6265 , Val_Accuracy: 88.55% , Learning_rate: 1.25e-05\n"
     ]
    },
    {
     "name": "stderr",
     "output_type": "stream",
     "text": [
      "\n",
      "Epoch 53: 100%|\u001b[34m██████████████████████████████████████████████████\u001b[0m| 192/192 [01:32<00:00]"
     ]
    },
    {
     "name": "stdout",
     "output_type": "stream",
     "text": [
      " Loss: 0.0049 , Accuracy: 99.86%\n"
     ]
    },
    {
     "name": "stderr",
     "output_type": "stream",
     "text": [
      "\n",
      "         100%|\u001b[32m██████████████████████████████\u001b[0m| 48/48 [00:07<00:00]"
     ]
    },
    {
     "name": "stdout",
     "output_type": "stream",
     "text": [
      " Val_Loss: 0.6167 , Val_Accuracy: 88.28% , Learning_rate: 1.25e-05\n"
     ]
    },
    {
     "name": "stderr",
     "output_type": "stream",
     "text": [
      "\n",
      "Epoch 54: 100%|\u001b[34m██████████████████████████████████████████████████\u001b[0m| 192/192 [01:32<00:00]"
     ]
    },
    {
     "name": "stdout",
     "output_type": "stream",
     "text": [
      " Loss: 0.0045 , Accuracy: 99.87%\n"
     ]
    },
    {
     "name": "stderr",
     "output_type": "stream",
     "text": [
      "\n",
      "         100%|\u001b[32m██████████████████████████████\u001b[0m| 48/48 [00:07<00:00]"
     ]
    },
    {
     "name": "stdout",
     "output_type": "stream",
     "text": [
      " Val_Loss: 0.6212 , Val_Accuracy: 88.78% , Learning_rate: 6.25e-06\n"
     ]
    },
    {
     "name": "stderr",
     "output_type": "stream",
     "text": [
      "\n",
      "Epoch 55: 100%|\u001b[34m██████████████████████████████████████████████████\u001b[0m| 192/192 [01:32<00:00]"
     ]
    },
    {
     "name": "stdout",
     "output_type": "stream",
     "text": [
      " Loss: 0.0028 , Accuracy: 99.92%\n"
     ]
    },
    {
     "name": "stderr",
     "output_type": "stream",
     "text": [
      "\n",
      "         100%|\u001b[32m██████████████████████████████\u001b[0m| 48/48 [00:07<00:00]"
     ]
    },
    {
     "name": "stdout",
     "output_type": "stream",
     "text": [
      " Val_Loss: 0.6293 , Val_Accuracy: 88.54% , Learning_rate: 6.25e-06\n"
     ]
    },
    {
     "name": "stderr",
     "output_type": "stream",
     "text": [
      "\n",
      "Epoch 56: 100%|\u001b[34m██████████████████████████████████████████████████\u001b[0m| 192/192 [01:32<00:00]"
     ]
    },
    {
     "name": "stdout",
     "output_type": "stream",
     "text": [
      " Loss: 0.0033 , Accuracy: 99.89%\n"
     ]
    },
    {
     "name": "stderr",
     "output_type": "stream",
     "text": [
      "\n",
      "         100%|\u001b[32m██████████████████████████████\u001b[0m| 48/48 [00:07<00:00]"
     ]
    },
    {
     "name": "stdout",
     "output_type": "stream",
     "text": [
      " Val_Loss: 0.6218 , Val_Accuracy: 88.98% , Learning_rate: 6.25e-06\n"
     ]
    },
    {
     "name": "stderr",
     "output_type": "stream",
     "text": [
      "\n",
      "Epoch 57: 100%|\u001b[34m██████████████████████████████████████████████████\u001b[0m| 192/192 [01:32<00:00]"
     ]
    },
    {
     "name": "stdout",
     "output_type": "stream",
     "text": [
      " Loss: 0.0030 , Accuracy: 99.92%\n"
     ]
    },
    {
     "name": "stderr",
     "output_type": "stream",
     "text": [
      "\n",
      "         100%|\u001b[32m██████████████████████████████\u001b[0m| 48/48 [00:07<00:00]"
     ]
    },
    {
     "name": "stdout",
     "output_type": "stream",
     "text": [
      " Val_Loss: 0.6192 , Val_Accuracy: 89.14% , Learning_rate: 6.25e-06\n"
     ]
    },
    {
     "name": "stderr",
     "output_type": "stream",
     "text": [
      "\n",
      "Epoch 58: 100%|\u001b[34m██████████████████████████████████████████████████\u001b[0m| 192/192 [01:32<00:00]"
     ]
    },
    {
     "name": "stdout",
     "output_type": "stream",
     "text": [
      " Loss: 0.0027 , Accuracy: 99.94%\n"
     ]
    },
    {
     "name": "stderr",
     "output_type": "stream",
     "text": [
      "\n",
      "         100%|\u001b[32m██████████████████████████████\u001b[0m| 48/48 [00:07<00:00]\n"
     ]
    },
    {
     "name": "stdout",
     "output_type": "stream",
     "text": [
      " Val_Loss: 0.6284 , Val_Accuracy: 89.37% , Learning_rate: 6.25e-06\n",
      "Weight was updated because val_accuracy get highest(=89.37282991409302)\n"
     ]
    },
    {
     "name": "stderr",
     "output_type": "stream",
     "text": [
      "Epoch 59: 100%|\u001b[34m██████████████████████████████████████████████████\u001b[0m| 192/192 [01:32<00:00]"
     ]
    },
    {
     "name": "stdout",
     "output_type": "stream",
     "text": [
      " Loss: 0.0026 , Accuracy: 99.93%\n"
     ]
    },
    {
     "name": "stderr",
     "output_type": "stream",
     "text": [
      "\n",
      "         100%|\u001b[32m██████████████████████████████\u001b[0m| 48/48 [00:07<00:00]"
     ]
    },
    {
     "name": "stdout",
     "output_type": "stream",
     "text": [
      " Val_Loss: 0.6299 , Val_Accuracy: 89.31% , Learning_rate: 6.25e-06\n"
     ]
    },
    {
     "name": "stderr",
     "output_type": "stream",
     "text": [
      "\n",
      "Epoch 60: 100%|\u001b[34m██████████████████████████████████████████████████\u001b[0m| 192/192 [01:32<00:00]"
     ]
    },
    {
     "name": "stdout",
     "output_type": "stream",
     "text": [
      " Loss: 0.0021 , Accuracy: 99.93%\n"
     ]
    },
    {
     "name": "stderr",
     "output_type": "stream",
     "text": [
      "\n",
      "         100%|\u001b[32m██████████████████████████████\u001b[0m| 48/48 [00:07<00:00]"
     ]
    },
    {
     "name": "stdout",
     "output_type": "stream",
     "text": [
      " Val_Loss: 0.6313 , Val_Accuracy: 88.91% , Learning_rate: 6.25e-06\n"
     ]
    },
    {
     "name": "stderr",
     "output_type": "stream",
     "text": [
      "\n",
      "Epoch 61: 100%|\u001b[34m██████████████████████████████████████████████████\u001b[0m| 192/192 [01:32<00:00]"
     ]
    },
    {
     "name": "stdout",
     "output_type": "stream",
     "text": [
      " Loss: 0.0026 , Accuracy: 99.95%\n"
     ]
    },
    {
     "name": "stderr",
     "output_type": "stream",
     "text": [
      "\n",
      "         100%|\u001b[32m██████████████████████████████\u001b[0m| 48/48 [00:07<00:00]"
     ]
    },
    {
     "name": "stdout",
     "output_type": "stream",
     "text": [
      " Val_Loss: 0.6407 , Val_Accuracy: 89.04% , Learning_rate: 6.25e-06\n"
     ]
    },
    {
     "name": "stderr",
     "output_type": "stream",
     "text": [
      "\n",
      "Epoch 62: 100%|\u001b[34m██████████████████████████████████████████████████\u001b[0m| 192/192 [01:32<00:00]"
     ]
    },
    {
     "name": "stdout",
     "output_type": "stream",
     "text": [
      " Loss: 0.0023 , Accuracy: 99.93%\n"
     ]
    },
    {
     "name": "stderr",
     "output_type": "stream",
     "text": [
      "\n",
      "         100%|\u001b[32m██████████████████████████████\u001b[0m| 48/48 [00:07<00:00]"
     ]
    },
    {
     "name": "stdout",
     "output_type": "stream",
     "text": [
      " Val_Loss: 0.6329 , Val_Accuracy: 88.94% , Learning_rate: 6.25e-06\n"
     ]
    },
    {
     "name": "stderr",
     "output_type": "stream",
     "text": [
      "\n",
      "Epoch 63: 100%|\u001b[34m██████████████████████████████████████████████████\u001b[0m| 192/192 [01:32<00:00]"
     ]
    },
    {
     "name": "stdout",
     "output_type": "stream",
     "text": [
      " Loss: 0.0017 , Accuracy: 99.95%\n"
     ]
    },
    {
     "name": "stderr",
     "output_type": "stream",
     "text": [
      "\n",
      "         100%|\u001b[32m██████████████████████████████\u001b[0m| 48/48 [00:07<00:00]"
     ]
    },
    {
     "name": "stdout",
     "output_type": "stream",
     "text": [
      " Val_Loss: 0.6391 , Val_Accuracy: 89.08% , Learning_rate: 6.25e-06\n"
     ]
    },
    {
     "name": "stderr",
     "output_type": "stream",
     "text": [
      "\n",
      "Epoch 64: 100%|\u001b[34m██████████████████████████████████████████████████\u001b[0m| 192/192 [01:32<00:00]"
     ]
    },
    {
     "name": "stdout",
     "output_type": "stream",
     "text": [
      " Loss: 0.0024 , Accuracy: 99.94%\n"
     ]
    },
    {
     "name": "stderr",
     "output_type": "stream",
     "text": [
      "\n",
      "         100%|\u001b[32m██████████████████████████████\u001b[0m| 48/48 [00:07<00:00]"
     ]
    },
    {
     "name": "stdout",
     "output_type": "stream",
     "text": [
      " Val_Loss: 0.6588 , Val_Accuracy: 88.39% , Learning_rate: 6.25e-06\n"
     ]
    },
    {
     "name": "stderr",
     "output_type": "stream",
     "text": [
      "\n",
      "Epoch 65: 100%|\u001b[34m██████████████████████████████████████████████████\u001b[0m| 192/192 [01:32<00:00]"
     ]
    },
    {
     "name": "stdout",
     "output_type": "stream",
     "text": [
      " Loss: 0.0016 , Accuracy: 99.96%\n"
     ]
    },
    {
     "name": "stderr",
     "output_type": "stream",
     "text": [
      "\n",
      "         100%|\u001b[32m██████████████████████████████\u001b[0m| 48/48 [00:07<00:00]"
     ]
    },
    {
     "name": "stdout",
     "output_type": "stream",
     "text": [
      " Val_Loss: 0.6498 , Val_Accuracy: 88.88% , Learning_rate: 3.125e-06\n"
     ]
    },
    {
     "name": "stderr",
     "output_type": "stream",
     "text": [
      "\n",
      "Epoch 66: 100%|\u001b[34m██████████████████████████████████████████████████\u001b[0m| 192/192 [01:32<00:00]"
     ]
    },
    {
     "name": "stdout",
     "output_type": "stream",
     "text": [
      " Loss: 0.0022 , Accuracy: 99.93%\n"
     ]
    },
    {
     "name": "stderr",
     "output_type": "stream",
     "text": [
      "\n",
      "         100%|\u001b[32m██████████████████████████████\u001b[0m| 48/48 [00:07<00:00]"
     ]
    },
    {
     "name": "stdout",
     "output_type": "stream",
     "text": [
      " Val_Loss: 0.6413 , Val_Accuracy: 89.08% , Learning_rate: 3.125e-06\n"
     ]
    },
    {
     "name": "stderr",
     "output_type": "stream",
     "text": [
      "\n",
      "Epoch 67: 100%|\u001b[34m██████████████████████████████████████████████████\u001b[0m| 192/192 [01:32<00:00]"
     ]
    },
    {
     "name": "stdout",
     "output_type": "stream",
     "text": [
      " Loss: 0.0012 , Accuracy: 99.98%\n"
     ]
    },
    {
     "name": "stderr",
     "output_type": "stream",
     "text": [
      "\n",
      "         100%|\u001b[32m██████████████████████████████\u001b[0m| 48/48 [00:07<00:00]"
     ]
    },
    {
     "name": "stdout",
     "output_type": "stream",
     "text": [
      " Val_Loss: 0.6541 , Val_Accuracy: 88.69% , Learning_rate: 3.125e-06\n"
     ]
    },
    {
     "name": "stderr",
     "output_type": "stream",
     "text": [
      "\n",
      "Epoch 68: 100%|\u001b[34m██████████████████████████████████████████████████\u001b[0m| 192/192 [01:32<00:00]"
     ]
    },
    {
     "name": "stdout",
     "output_type": "stream",
     "text": [
      " Loss: 0.0019 , Accuracy: 99.94%\n"
     ]
    },
    {
     "name": "stderr",
     "output_type": "stream",
     "text": [
      "\n",
      "         100%|\u001b[32m██████████████████████████████\u001b[0m| 48/48 [00:07<00:00]"
     ]
    },
    {
     "name": "stdout",
     "output_type": "stream",
     "text": [
      " Val_Loss: 0.6528 , Val_Accuracy: 89.05% , Learning_rate: 3.125e-06\n"
     ]
    },
    {
     "name": "stderr",
     "output_type": "stream",
     "text": [
      "\n",
      "Epoch 69: 100%|\u001b[34m██████████████████████████████████████████████████\u001b[0m| 192/192 [01:32<00:00]"
     ]
    },
    {
     "name": "stdout",
     "output_type": "stream",
     "text": [
      " Loss: 0.0010 , Accuracy: 99.99%\n"
     ]
    },
    {
     "name": "stderr",
     "output_type": "stream",
     "text": [
      "\n",
      "         100%|\u001b[32m██████████████████████████████\u001b[0m| 48/48 [00:07<00:00]"
     ]
    },
    {
     "name": "stdout",
     "output_type": "stream",
     "text": [
      " Val_Loss: 0.6497 , Val_Accuracy: 88.92% , Learning_rate: 3.125e-06\n"
     ]
    },
    {
     "name": "stderr",
     "output_type": "stream",
     "text": [
      "\n",
      "Epoch 70: 100%|\u001b[34m██████████████████████████████████████████████████\u001b[0m| 192/192 [01:32<00:00]"
     ]
    },
    {
     "name": "stdout",
     "output_type": "stream",
     "text": [
      " Loss: 0.0015 , Accuracy: 99.97%\n"
     ]
    },
    {
     "name": "stderr",
     "output_type": "stream",
     "text": [
      "\n",
      "         100%|\u001b[32m██████████████████████████████\u001b[0m| 48/48 [00:07<00:00]\n"
     ]
    },
    {
     "name": "stdout",
     "output_type": "stream",
     "text": [
      " Val_Loss: 0.6589 , Val_Accuracy: 89.41% , Learning_rate: 3.125e-06\n",
      "Weight was updated because val_accuracy get highest(=89.40755224227905)\n"
     ]
    },
    {
     "name": "stderr",
     "output_type": "stream",
     "text": [
      "Epoch 71: 100%|\u001b[34m██████████████████████████████████████████████████\u001b[0m| 192/192 [01:32<00:00]"
     ]
    },
    {
     "name": "stdout",
     "output_type": "stream",
     "text": [
      " Loss: 0.0010 , Accuracy: 99.97%\n"
     ]
    },
    {
     "name": "stderr",
     "output_type": "stream",
     "text": [
      "\n",
      "         100%|\u001b[32m██████████████████████████████\u001b[0m| 48/48 [00:07<00:00]"
     ]
    },
    {
     "name": "stdout",
     "output_type": "stream",
     "text": [
      " Val_Loss: 0.6695 , Val_Accuracy: 88.75% , Learning_rate: 3.125e-06\n"
     ]
    },
    {
     "name": "stderr",
     "output_type": "stream",
     "text": [
      "\n",
      "Epoch 72: 100%|\u001b[34m██████████████████████████████████████████████████\u001b[0m| 192/192 [01:32<00:00]"
     ]
    },
    {
     "name": "stdout",
     "output_type": "stream",
     "text": [
      " Loss: 0.0014 , Accuracy: 99.93%\n"
     ]
    },
    {
     "name": "stderr",
     "output_type": "stream",
     "text": [
      "\n",
      "         100%|\u001b[32m██████████████████████████████\u001b[0m| 48/48 [00:07<00:00]"
     ]
    },
    {
     "name": "stdout",
     "output_type": "stream",
     "text": [
      " Val_Loss: 0.6783 , Val_Accuracy: 89.00% , Learning_rate: 3.125e-06\n"
     ]
    },
    {
     "name": "stderr",
     "output_type": "stream",
     "text": [
      "\n",
      "Epoch 73: 100%|\u001b[34m██████████████████████████████████████████████████\u001b[0m| 192/192 [01:32<00:00]"
     ]
    },
    {
     "name": "stdout",
     "output_type": "stream",
     "text": [
      " Loss: 0.0013 , Accuracy: 99.96%\n"
     ]
    },
    {
     "name": "stderr",
     "output_type": "stream",
     "text": [
      "\n",
      "         100%|\u001b[32m██████████████████████████████\u001b[0m| 48/48 [00:07<00:00]"
     ]
    },
    {
     "name": "stdout",
     "output_type": "stream",
     "text": [
      " Val_Loss: 0.6766 , Val_Accuracy: 88.84% , Learning_rate: 3.125e-06\n"
     ]
    },
    {
     "name": "stderr",
     "output_type": "stream",
     "text": [
      "\n",
      "Epoch 74: 100%|\u001b[34m██████████████████████████████████████████████████\u001b[0m| 192/192 [01:32<00:00]"
     ]
    },
    {
     "name": "stdout",
     "output_type": "stream",
     "text": [
      " Loss: 0.0017 , Accuracy: 99.95%\n"
     ]
    },
    {
     "name": "stderr",
     "output_type": "stream",
     "text": [
      "\n",
      "         100%|\u001b[32m██████████████████████████████\u001b[0m| 48/48 [00:07<00:00]"
     ]
    },
    {
     "name": "stdout",
     "output_type": "stream",
     "text": [
      " Val_Loss: 0.6691 , Val_Accuracy: 89.08% , Learning_rate: 3.125e-06\n"
     ]
    },
    {
     "name": "stderr",
     "output_type": "stream",
     "text": [
      "\n",
      "Epoch 75: 100%|\u001b[34m██████████████████████████████████████████████████\u001b[0m| 192/192 [01:32<00:00]"
     ]
    },
    {
     "name": "stdout",
     "output_type": "stream",
     "text": [
      " Loss: 0.0010 , Accuracy: 99.99%\n"
     ]
    },
    {
     "name": "stderr",
     "output_type": "stream",
     "text": [
      "\n",
      "         100%|\u001b[32m██████████████████████████████\u001b[0m| 48/48 [00:07<00:00]"
     ]
    },
    {
     "name": "stdout",
     "output_type": "stream",
     "text": [
      " Val_Loss: 0.6729 , Val_Accuracy: 89.23% , Learning_rate: 3.125e-06\n"
     ]
    },
    {
     "name": "stderr",
     "output_type": "stream",
     "text": [
      "\n",
      "Epoch 76: 100%|\u001b[34m██████████████████████████████████████████████████\u001b[0m| 192/192 [01:32<00:00]"
     ]
    },
    {
     "name": "stdout",
     "output_type": "stream",
     "text": [
      " Loss: 0.0009 , Accuracy: 99.98%\n"
     ]
    },
    {
     "name": "stderr",
     "output_type": "stream",
     "text": [
      "\n",
      "         100%|\u001b[32m██████████████████████████████\u001b[0m| 48/48 [00:07<00:00]"
     ]
    },
    {
     "name": "stdout",
     "output_type": "stream",
     "text": [
      " Val_Loss: 0.6733 , Val_Accuracy: 89.26% , Learning_rate: 1.5625e-06\n"
     ]
    },
    {
     "name": "stderr",
     "output_type": "stream",
     "text": [
      "\n",
      "Epoch 77: 100%|\u001b[34m██████████████████████████████████████████████████\u001b[0m| 192/192 [01:32<00:00]"
     ]
    },
    {
     "name": "stdout",
     "output_type": "stream",
     "text": [
      " Loss: 0.0013 , Accuracy: 99.98%\n"
     ]
    },
    {
     "name": "stderr",
     "output_type": "stream",
     "text": [
      "\n",
      "         100%|\u001b[32m██████████████████████████████\u001b[0m| 48/48 [00:07<00:00]"
     ]
    },
    {
     "name": "stdout",
     "output_type": "stream",
     "text": [
      " Val_Loss: 0.6689 , Val_Accuracy: 89.07% , Learning_rate: 1.5625e-06\n"
     ]
    },
    {
     "name": "stderr",
     "output_type": "stream",
     "text": [
      "\n",
      "Epoch 78: 100%|\u001b[34m██████████████████████████████████████████████████\u001b[0m| 192/192 [01:32<00:00]"
     ]
    },
    {
     "name": "stdout",
     "output_type": "stream",
     "text": [
      " Loss: 0.0012 , Accuracy: 99.96%\n"
     ]
    },
    {
     "name": "stderr",
     "output_type": "stream",
     "text": [
      "\n",
      "         100%|\u001b[32m██████████████████████████████\u001b[0m| 48/48 [00:07<00:00]"
     ]
    },
    {
     "name": "stdout",
     "output_type": "stream",
     "text": [
      " Val_Loss: 0.6664 , Val_Accuracy: 89.01% , Learning_rate: 1.5625e-06\n"
     ]
    },
    {
     "name": "stderr",
     "output_type": "stream",
     "text": [
      "\n",
      "Epoch 79: 100%|\u001b[34m██████████████████████████████████████████████████\u001b[0m| 192/192 [01:32<00:00]"
     ]
    },
    {
     "name": "stdout",
     "output_type": "stream",
     "text": [
      " Loss: 0.0010 , Accuracy: 99.97%\n"
     ]
    },
    {
     "name": "stderr",
     "output_type": "stream",
     "text": [
      "\n",
      "         100%|\u001b[32m██████████████████████████████\u001b[0m| 48/48 [00:07<00:00]"
     ]
    },
    {
     "name": "stdout",
     "output_type": "stream",
     "text": [
      " Val_Loss: 0.6676 , Val_Accuracy: 89.01% , Learning_rate: 1.5625e-06\n"
     ]
    },
    {
     "name": "stderr",
     "output_type": "stream",
     "text": [
      "\n",
      "Epoch 80: 100%|\u001b[34m██████████████████████████████████████████████████\u001b[0m| 192/192 [01:32<00:00]"
     ]
    },
    {
     "name": "stdout",
     "output_type": "stream",
     "text": [
      " Loss: 0.0010 , Accuracy: 99.99%\n"
     ]
    },
    {
     "name": "stderr",
     "output_type": "stream",
     "text": [
      "\n",
      "         100%|\u001b[32m██████████████████████████████\u001b[0m| 48/48 [00:07<00:00]"
     ]
    },
    {
     "name": "stdout",
     "output_type": "stream",
     "text": [
      " Val_Loss: 0.6803 , Val_Accuracy: 88.68% , Learning_rate: 1.5625e-06\n"
     ]
    },
    {
     "name": "stderr",
     "output_type": "stream",
     "text": [
      "\n",
      "Epoch 81: 100%|\u001b[34m██████████████████████████████████████████████████\u001b[0m| 192/192 [01:32<00:00]"
     ]
    },
    {
     "name": "stdout",
     "output_type": "stream",
     "text": [
      " Loss: 0.0015 , Accuracy: 99.96%\n"
     ]
    },
    {
     "name": "stderr",
     "output_type": "stream",
     "text": [
      "\n",
      "         100%|\u001b[32m██████████████████████████████\u001b[0m| 48/48 [00:07<00:00]"
     ]
    },
    {
     "name": "stdout",
     "output_type": "stream",
     "text": [
      " Val_Loss: 0.6788 , Val_Accuracy: 88.94% , Learning_rate: 1.5625e-06\n"
     ]
    },
    {
     "name": "stderr",
     "output_type": "stream",
     "text": [
      "\n",
      "Epoch 82: 100%|\u001b[34m██████████████████████████████████████████████████\u001b[0m| 192/192 [01:32<00:00]"
     ]
    },
    {
     "name": "stdout",
     "output_type": "stream",
     "text": [
      " Loss: 0.0008 , Accuracy: 99.99%\n"
     ]
    },
    {
     "name": "stderr",
     "output_type": "stream",
     "text": [
      "\n",
      "         100%|\u001b[32m██████████████████████████████\u001b[0m| 48/48 [00:07<00:00]"
     ]
    },
    {
     "name": "stdout",
     "output_type": "stream",
     "text": [
      " Val_Loss: 0.6694 , Val_Accuracy: 89.14% , Learning_rate: 1.5625e-06\n"
     ]
    },
    {
     "name": "stderr",
     "output_type": "stream",
     "text": [
      "\n",
      "Epoch 83: 100%|\u001b[34m██████████████████████████████████████████████████\u001b[0m| 192/192 [01:32<00:00]"
     ]
    },
    {
     "name": "stdout",
     "output_type": "stream",
     "text": [
      " Loss: 0.0007 , Accuracy: 100.00%\n"
     ]
    },
    {
     "name": "stderr",
     "output_type": "stream",
     "text": [
      "\n",
      "         100%|\u001b[32m██████████████████████████████\u001b[0m| 48/48 [00:07<00:00]"
     ]
    },
    {
     "name": "stdout",
     "output_type": "stream",
     "text": [
      " Val_Loss: 0.6723 , Val_Accuracy: 89.18% , Learning_rate: 1.5625e-06\n"
     ]
    },
    {
     "name": "stderr",
     "output_type": "stream",
     "text": [
      "\n",
      "Epoch 84: 100%|\u001b[34m██████████████████████████████████████████████████\u001b[0m| 192/192 [01:32<00:00]"
     ]
    },
    {
     "name": "stdout",
     "output_type": "stream",
     "text": [
      " Loss: 0.0006 , Accuracy: 99.98%\n"
     ]
    },
    {
     "name": "stderr",
     "output_type": "stream",
     "text": [
      "\n",
      "         100%|\u001b[32m██████████████████████████████\u001b[0m| 48/48 [00:07<00:00]"
     ]
    },
    {
     "name": "stdout",
     "output_type": "stream",
     "text": [
      " Val_Loss: 0.6702 , Val_Accuracy: 89.21% , Learning_rate: 1.5625e-06\n"
     ]
    },
    {
     "name": "stderr",
     "output_type": "stream",
     "text": [
      "\n",
      "Epoch 85: 100%|\u001b[34m██████████████████████████████████████████████████\u001b[0m| 192/192 [01:32<00:00]"
     ]
    },
    {
     "name": "stdout",
     "output_type": "stream",
     "text": [
      " Loss: 0.0011 , Accuracy: 99.96%\n"
     ]
    },
    {
     "name": "stderr",
     "output_type": "stream",
     "text": [
      "\n",
      "         100%|\u001b[32m██████████████████████████████\u001b[0m| 48/48 [00:07<00:00]"
     ]
    },
    {
     "name": "stdout",
     "output_type": "stream",
     "text": [
      " Val_Loss: 0.6772 , Val_Accuracy: 89.41% , Learning_rate: 1.5625e-06\n"
     ]
    },
    {
     "name": "stderr",
     "output_type": "stream",
     "text": [
      "\n",
      "Epoch 86: 100%|\u001b[34m██████████████████████████████████████████████████\u001b[0m| 192/192 [01:32<00:00]"
     ]
    },
    {
     "name": "stdout",
     "output_type": "stream",
     "text": [
      " Loss: 0.0007 , Accuracy: 99.99%\n"
     ]
    },
    {
     "name": "stderr",
     "output_type": "stream",
     "text": [
      "\n",
      "         100%|\u001b[32m██████████████████████████████\u001b[0m| 48/48 [00:07<00:00]"
     ]
    },
    {
     "name": "stdout",
     "output_type": "stream",
     "text": [
      " Val_Loss: 0.6771 , Val_Accuracy: 89.27% , Learning_rate: 1.5625e-06\n"
     ]
    },
    {
     "name": "stderr",
     "output_type": "stream",
     "text": [
      "\n",
      "Epoch 87: 100%|\u001b[34m██████████████████████████████████████████████████\u001b[0m| 192/192 [01:32<00:00]"
     ]
    },
    {
     "name": "stdout",
     "output_type": "stream",
     "text": [
      " Loss: 0.0008 , Accuracy: 99.98%\n"
     ]
    },
    {
     "name": "stderr",
     "output_type": "stream",
     "text": [
      "\n",
      "         100%|\u001b[32m██████████████████████████████\u001b[0m| 48/48 [00:07<00:00]"
     ]
    },
    {
     "name": "stdout",
     "output_type": "stream",
     "text": [
      " Val_Loss: 0.6756 , Val_Accuracy: 89.21% , Learning_rate: 7.8125e-07\n"
     ]
    },
    {
     "name": "stderr",
     "output_type": "stream",
     "text": [
      "\n",
      "Epoch 88: 100%|\u001b[34m██████████████████████████████████████████████████\u001b[0m| 192/192 [01:32<00:00]"
     ]
    },
    {
     "name": "stdout",
     "output_type": "stream",
     "text": [
      " Loss: 0.0008 , Accuracy: 99.98%\n"
     ]
    },
    {
     "name": "stderr",
     "output_type": "stream",
     "text": [
      "\n",
      "         100%|\u001b[32m██████████████████████████████\u001b[0m| 48/48 [00:07<00:00]"
     ]
    },
    {
     "name": "stdout",
     "output_type": "stream",
     "text": [
      " Val_Loss: 0.6746 , Val_Accuracy: 89.37% , Learning_rate: 7.8125e-07\n"
     ]
    },
    {
     "name": "stderr",
     "output_type": "stream",
     "text": [
      "\n",
      "Epoch 89: 100%|\u001b[34m██████████████████████████████████████████████████\u001b[0m| 192/192 [01:32<00:00]"
     ]
    },
    {
     "name": "stdout",
     "output_type": "stream",
     "text": [
      " Loss: 0.0007 , Accuracy: 99.98%\n"
     ]
    },
    {
     "name": "stderr",
     "output_type": "stream",
     "text": [
      "\n",
      "         100%|\u001b[32m██████████████████████████████\u001b[0m| 48/48 [00:07<00:00]\n"
     ]
    },
    {
     "name": "stdout",
     "output_type": "stream",
     "text": [
      " Val_Loss: 0.6680 , Val_Accuracy: 89.54% , Learning_rate: 7.8125e-07\n",
      "Weight was updated because val_accuracy get highest(=89.53559033075969)\n"
     ]
    },
    {
     "name": "stderr",
     "output_type": "stream",
     "text": [
      "Epoch 90: 100%|\u001b[34m██████████████████████████████████████████████████\u001b[0m| 192/192 [01:32<00:00]"
     ]
    },
    {
     "name": "stdout",
     "output_type": "stream",
     "text": [
      " Loss: 0.0005 , Accuracy: 99.99%\n"
     ]
    },
    {
     "name": "stderr",
     "output_type": "stream",
     "text": [
      "\n",
      "         100%|\u001b[32m██████████████████████████████\u001b[0m| 48/48 [00:07<00:00]"
     ]
    },
    {
     "name": "stdout",
     "output_type": "stream",
     "text": [
      " Val_Loss: 0.6765 , Val_Accuracy: 89.40% , Learning_rate: 7.8125e-07\n"
     ]
    },
    {
     "name": "stderr",
     "output_type": "stream",
     "text": [
      "\n",
      "Epoch 91: 100%|\u001b[34m██████████████████████████████████████████████████\u001b[0m| 192/192 [01:32<00:00]"
     ]
    },
    {
     "name": "stdout",
     "output_type": "stream",
     "text": [
      " Loss: 0.0013 , Accuracy: 99.97%\n"
     ]
    },
    {
     "name": "stderr",
     "output_type": "stream",
     "text": [
      "\n",
      "         100%|\u001b[32m██████████████████████████████\u001b[0m| 48/48 [00:07<00:00]"
     ]
    },
    {
     "name": "stdout",
     "output_type": "stream",
     "text": [
      " Val_Loss: 0.6778 , Val_Accuracy: 89.11% , Learning_rate: 7.8125e-07\n"
     ]
    },
    {
     "name": "stderr",
     "output_type": "stream",
     "text": [
      "\n",
      "Epoch 92: 100%|\u001b[34m██████████████████████████████████████████████████\u001b[0m| 192/192 [01:32<00:00]"
     ]
    },
    {
     "name": "stdout",
     "output_type": "stream",
     "text": [
      " Loss: 0.0004 , Accuracy: 100.00%\n"
     ]
    },
    {
     "name": "stderr",
     "output_type": "stream",
     "text": [
      "\n",
      "         100%|\u001b[32m██████████████████████████████\u001b[0m| 48/48 [00:07<00:00]"
     ]
    },
    {
     "name": "stdout",
     "output_type": "stream",
     "text": [
      " Val_Loss: 0.6799 , Val_Accuracy: 89.24% , Learning_rate: 7.8125e-07\n"
     ]
    },
    {
     "name": "stderr",
     "output_type": "stream",
     "text": [
      "\n",
      "Epoch 93: 100%|\u001b[34m██████████████████████████████████████████████████\u001b[0m| 192/192 [01:32<00:00]"
     ]
    },
    {
     "name": "stdout",
     "output_type": "stream",
     "text": [
      " Loss: 0.0006 , Accuracy: 99.98%\n"
     ]
    },
    {
     "name": "stderr",
     "output_type": "stream",
     "text": [
      "\n",
      "         100%|\u001b[32m██████████████████████████████\u001b[0m| 48/48 [00:07<00:00]"
     ]
    },
    {
     "name": "stdout",
     "output_type": "stream",
     "text": [
      " Val_Loss: 0.6828 , Val_Accuracy: 88.98% , Learning_rate: 7.8125e-07\n"
     ]
    },
    {
     "name": "stderr",
     "output_type": "stream",
     "text": [
      "\n",
      "Epoch 94: 100%|\u001b[34m██████████████████████████████████████████████████\u001b[0m| 192/192 [01:32<00:00]"
     ]
    },
    {
     "name": "stdout",
     "output_type": "stream",
     "text": [
      " Loss: 0.0009 , Accuracy: 99.98%\n"
     ]
    },
    {
     "name": "stderr",
     "output_type": "stream",
     "text": [
      "\n",
      "         100%|\u001b[32m██████████████████████████████\u001b[0m| 48/48 [00:07<00:00]"
     ]
    },
    {
     "name": "stdout",
     "output_type": "stream",
     "text": [
      " Val_Loss: 0.6862 , Val_Accuracy: 89.30% , Learning_rate: 7.8125e-07\n"
     ]
    },
    {
     "name": "stderr",
     "output_type": "stream",
     "text": [
      "\n",
      "Epoch 95: 100%|\u001b[34m██████████████████████████████████████████████████\u001b[0m| 192/192 [01:32<00:00]"
     ]
    },
    {
     "name": "stdout",
     "output_type": "stream",
     "text": [
      " Loss: 0.0008 , Accuracy: 99.99%\n"
     ]
    },
    {
     "name": "stderr",
     "output_type": "stream",
     "text": [
      "\n",
      "         100%|\u001b[32m██████████████████████████████\u001b[0m| 48/48 [00:07<00:00]"
     ]
    },
    {
     "name": "stdout",
     "output_type": "stream",
     "text": [
      " Val_Loss: 0.6854 , Val_Accuracy: 89.07% , Learning_rate: 7.8125e-07\n"
     ]
    },
    {
     "name": "stderr",
     "output_type": "stream",
     "text": [
      "\n",
      "Epoch 96: 100%|\u001b[34m██████████████████████████████████████████████████\u001b[0m| 192/192 [01:32<00:00]"
     ]
    },
    {
     "name": "stdout",
     "output_type": "stream",
     "text": [
      " Loss: 0.0004 , Accuracy: 99.99%\n"
     ]
    },
    {
     "name": "stderr",
     "output_type": "stream",
     "text": [
      "\n",
      "         100%|\u001b[32m██████████████████████████████\u001b[0m| 48/48 [00:07<00:00]"
     ]
    },
    {
     "name": "stdout",
     "output_type": "stream",
     "text": [
      " Val_Loss: 0.6844 , Val_Accuracy: 89.07% , Learning_rate: 7.8125e-07\n"
     ]
    },
    {
     "name": "stderr",
     "output_type": "stream",
     "text": [
      "\n",
      "Epoch 97: 100%|\u001b[34m██████████████████████████████████████████████████\u001b[0m| 192/192 [01:32<00:00]"
     ]
    },
    {
     "name": "stdout",
     "output_type": "stream",
     "text": [
      " Loss: 0.0004 , Accuracy: 100.00%\n"
     ]
    },
    {
     "name": "stderr",
     "output_type": "stream",
     "text": [
      "\n",
      "         100%|\u001b[32m██████████████████████████████\u001b[0m| 48/48 [00:07<00:00]"
     ]
    },
    {
     "name": "stdout",
     "output_type": "stream",
     "text": [
      " Val_Loss: 0.6806 , Val_Accuracy: 89.36% , Learning_rate: 7.8125e-07\n"
     ]
    },
    {
     "name": "stderr",
     "output_type": "stream",
     "text": [
      "\n",
      "Epoch 98: 100%|\u001b[34m██████████████████████████████████████████████████\u001b[0m| 192/192 [01:32<00:00]"
     ]
    },
    {
     "name": "stdout",
     "output_type": "stream",
     "text": [
      " Loss: 0.0006 , Accuracy: 99.98%\n"
     ]
    },
    {
     "name": "stderr",
     "output_type": "stream",
     "text": [
      "\n",
      "         100%|\u001b[32m██████████████████████████████\u001b[0m| 48/48 [00:07<00:00]"
     ]
    },
    {
     "name": "stdout",
     "output_type": "stream",
     "text": [
      " Val_Loss: 0.6844 , Val_Accuracy: 89.46% , Learning_rate: 3.90625e-07\n"
     ]
    },
    {
     "name": "stderr",
     "output_type": "stream",
     "text": [
      "\n",
      "Epoch 99: 100%|\u001b[34m██████████████████████████████████████████████████\u001b[0m| 192/192 [01:32<00:00]"
     ]
    },
    {
     "name": "stdout",
     "output_type": "stream",
     "text": [
      " Loss: 0.0004 , Accuracy: 100.00%\n"
     ]
    },
    {
     "name": "stderr",
     "output_type": "stream",
     "text": [
      "\n",
      "         100%|\u001b[32m██████████████████████████████\u001b[0m| 48/48 [00:07<00:00]"
     ]
    },
    {
     "name": "stdout",
     "output_type": "stream",
     "text": [
      " Val_Loss: 0.6829 , Val_Accuracy: 89.43% , Learning_rate: 3.90625e-07\n"
     ]
    },
    {
     "name": "stderr",
     "output_type": "stream",
     "text": [
      "\n",
      "Epoch 100: 100%|\u001b[34m██████████████████████████████████████████████████\u001b[0m| 192/192 [01:32<00:00]"
     ]
    },
    {
     "name": "stdout",
     "output_type": "stream",
     "text": [
      " Loss: 0.0009 , Accuracy: 99.98%\n"
     ]
    },
    {
     "name": "stderr",
     "output_type": "stream",
     "text": [
      "\n",
      "         100%|\u001b[32m██████████████████████████████\u001b[0m| 48/48 [00:07<00:00]"
     ]
    },
    {
     "name": "stdout",
     "output_type": "stream",
     "text": [
      " Val_Loss: 0.6828 , Val_Accuracy: 89.20% , Learning_rate: 3.90625e-07\n"
     ]
    },
    {
     "name": "stderr",
     "output_type": "stream",
     "text": [
      "\n",
      "Epoch 101: 100%|\u001b[34m██████████████████████████████████████████████████\u001b[0m| 192/192 [01:32<00:00]"
     ]
    },
    {
     "name": "stdout",
     "output_type": "stream",
     "text": [
      " Loss: 0.0006 , Accuracy: 99.99%\n"
     ]
    },
    {
     "name": "stderr",
     "output_type": "stream",
     "text": [
      "\n",
      "         100%|\u001b[32m██████████████████████████████\u001b[0m| 48/48 [00:07<00:00]"
     ]
    },
    {
     "name": "stdout",
     "output_type": "stream",
     "text": [
      " Val_Loss: 0.6995 , Val_Accuracy: 89.27% , Learning_rate: 3.90625e-07\n"
     ]
    },
    {
     "name": "stderr",
     "output_type": "stream",
     "text": [
      "\n",
      "Epoch 102: 100%|\u001b[34m██████████████████████████████████████████████████\u001b[0m| 192/192 [01:32<00:00]"
     ]
    },
    {
     "name": "stdout",
     "output_type": "stream",
     "text": [
      " Loss: 0.0006 , Accuracy: 99.98%\n"
     ]
    },
    {
     "name": "stderr",
     "output_type": "stream",
     "text": [
      "\n",
      "         100%|\u001b[32m██████████████████████████████\u001b[0m| 48/48 [00:07<00:00]"
     ]
    },
    {
     "name": "stdout",
     "output_type": "stream",
     "text": [
      " Val_Loss: 0.6907 , Val_Accuracy: 89.20% , Learning_rate: 3.90625e-07\n"
     ]
    },
    {
     "name": "stderr",
     "output_type": "stream",
     "text": [
      "\n",
      "Epoch 103: 100%|\u001b[34m██████████████████████████████████████████████████\u001b[0m| 192/192 [01:32<00:00]"
     ]
    },
    {
     "name": "stdout",
     "output_type": "stream",
     "text": [
      " Loss: 0.0008 , Accuracy: 99.97%\n"
     ]
    },
    {
     "name": "stderr",
     "output_type": "stream",
     "text": [
      "\n",
      "         100%|\u001b[32m██████████████████████████████\u001b[0m| 48/48 [00:07<00:00]"
     ]
    },
    {
     "name": "stdout",
     "output_type": "stream",
     "text": [
      " Val_Loss: 0.6916 , Val_Accuracy: 89.37% , Learning_rate: 3.90625e-07\n"
     ]
    },
    {
     "name": "stderr",
     "output_type": "stream",
     "text": [
      "\n",
      "Epoch 104: 100%|\u001b[34m██████████████████████████████████████████████████\u001b[0m| 192/192 [01:32<00:00]"
     ]
    },
    {
     "name": "stdout",
     "output_type": "stream",
     "text": [
      " Loss: 0.0010 , Accuracy: 99.97%\n"
     ]
    },
    {
     "name": "stderr",
     "output_type": "stream",
     "text": [
      "\n",
      "         100%|\u001b[32m██████████████████████████████\u001b[0m| 48/48 [00:07<00:00]"
     ]
    },
    {
     "name": "stdout",
     "output_type": "stream",
     "text": [
      " Val_Loss: 0.6907 , Val_Accuracy: 88.94% , Learning_rate: 3.90625e-07\n"
     ]
    },
    {
     "name": "stderr",
     "output_type": "stream",
     "text": [
      "\n",
      "Epoch 105: 100%|\u001b[34m██████████████████████████████████████████████████\u001b[0m| 192/192 [01:32<00:00]"
     ]
    },
    {
     "name": "stdout",
     "output_type": "stream",
     "text": [
      " Loss: 0.0006 , Accuracy: 99.98%\n"
     ]
    },
    {
     "name": "stderr",
     "output_type": "stream",
     "text": [
      "\n",
      "         100%|\u001b[32m██████████████████████████████\u001b[0m| 48/48 [00:07<00:00]"
     ]
    },
    {
     "name": "stdout",
     "output_type": "stream",
     "text": [
      " Val_Loss: 0.6845 , Val_Accuracy: 89.44% , Learning_rate: 3.90625e-07\n"
     ]
    },
    {
     "name": "stderr",
     "output_type": "stream",
     "text": [
      "\n",
      "Epoch 106: 100%|\u001b[34m██████████████████████████████████████████████████\u001b[0m| 192/192 [01:32<00:00]"
     ]
    },
    {
     "name": "stdout",
     "output_type": "stream",
     "text": [
      " Loss: 0.0009 , Accuracy: 99.98%\n"
     ]
    },
    {
     "name": "stderr",
     "output_type": "stream",
     "text": [
      "\n",
      "         100%|\u001b[32m██████████████████████████████\u001b[0m| 48/48 [00:07<00:00]"
     ]
    },
    {
     "name": "stdout",
     "output_type": "stream",
     "text": [
      " Val_Loss: 0.6832 , Val_Accuracy: 89.33% , Learning_rate: 3.90625e-07\n"
     ]
    },
    {
     "name": "stderr",
     "output_type": "stream",
     "text": [
      "\n",
      "Epoch 107: 100%|\u001b[34m██████████████████████████████████████████████████\u001b[0m| 192/192 [01:32<00:00]"
     ]
    },
    {
     "name": "stdout",
     "output_type": "stream",
     "text": [
      " Loss: 0.0004 , Accuracy: 100.00%\n"
     ]
    },
    {
     "name": "stderr",
     "output_type": "stream",
     "text": [
      "\n",
      "         100%|\u001b[32m██████████████████████████████\u001b[0m| 48/48 [00:07<00:00]"
     ]
    },
    {
     "name": "stdout",
     "output_type": "stream",
     "text": [
      " Val_Loss: 0.6869 , Val_Accuracy: 89.16% , Learning_rate: 3.90625e-07\n"
     ]
    },
    {
     "name": "stderr",
     "output_type": "stream",
     "text": [
      "\n",
      "Epoch 108: 100%|\u001b[34m██████████████████████████████████████████████████\u001b[0m| 192/192 [01:32<00:00]"
     ]
    },
    {
     "name": "stdout",
     "output_type": "stream",
     "text": [
      " Loss: 0.0005 , Accuracy: 99.99%\n"
     ]
    },
    {
     "name": "stderr",
     "output_type": "stream",
     "text": [
      "\n",
      "         100%|\u001b[32m██████████████████████████████\u001b[0m| 48/48 [00:07<00:00]"
     ]
    },
    {
     "name": "stdout",
     "output_type": "stream",
     "text": [
      " Val_Loss: 0.6906 , Val_Accuracy: 89.20% , Learning_rate: 3.90625e-07\n"
     ]
    },
    {
     "name": "stderr",
     "output_type": "stream",
     "text": [
      "\n",
      "Epoch 109: 100%|\u001b[34m██████████████████████████████████████████████████\u001b[0m| 192/192 [01:32<00:00]"
     ]
    },
    {
     "name": "stdout",
     "output_type": "stream",
     "text": [
      " Loss: 0.0010 , Accuracy: 99.98%\n"
     ]
    },
    {
     "name": "stderr",
     "output_type": "stream",
     "text": [
      "\n",
      "         100%|\u001b[32m██████████████████████████████\u001b[0m| 48/48 [00:07<00:00]"
     ]
    },
    {
     "name": "stdout",
     "output_type": "stream",
     "text": [
      " Val_Loss: 0.6876 , Val_Accuracy: 89.20% , Learning_rate: 1.953125e-07\n"
     ]
    },
    {
     "name": "stderr",
     "output_type": "stream",
     "text": [
      "\n",
      "Epoch 110: 100%|\u001b[34m██████████████████████████████████████████████████\u001b[0m| 192/192 [01:32<00:00]"
     ]
    },
    {
     "name": "stdout",
     "output_type": "stream",
     "text": [
      " Loss: 0.0006 , Accuracy: 99.99%\n"
     ]
    },
    {
     "name": "stderr",
     "output_type": "stream",
     "text": [
      "\n",
      "         100%|\u001b[32m██████████████████████████████\u001b[0m| 48/48 [00:07<00:00]"
     ]
    },
    {
     "name": "stdout",
     "output_type": "stream",
     "text": [
      " Val_Loss: 0.6893 , Val_Accuracy: 89.14% , Learning_rate: 1.953125e-07\n"
     ]
    },
    {
     "name": "stderr",
     "output_type": "stream",
     "text": [
      "\n",
      "Epoch 111: 100%|\u001b[34m██████████████████████████████████████████████████\u001b[0m| 192/192 [01:32<00:00]"
     ]
    },
    {
     "name": "stdout",
     "output_type": "stream",
     "text": [
      " Loss: 0.0005 , Accuracy: 99.99%\n"
     ]
    },
    {
     "name": "stderr",
     "output_type": "stream",
     "text": [
      "\n",
      "         100%|\u001b[32m██████████████████████████████\u001b[0m| 48/48 [00:07<00:00]"
     ]
    },
    {
     "name": "stdout",
     "output_type": "stream",
     "text": [
      " Val_Loss: 0.6864 , Val_Accuracy: 89.23% , Learning_rate: 1.953125e-07\n"
     ]
    },
    {
     "name": "stderr",
     "output_type": "stream",
     "text": [
      "\n",
      "Epoch 112: 100%|\u001b[34m██████████████████████████████████████████████████\u001b[0m| 192/192 [01:32<00:00]"
     ]
    },
    {
     "name": "stdout",
     "output_type": "stream",
     "text": [
      " Loss: 0.0005 , Accuracy: 99.99%\n"
     ]
    },
    {
     "name": "stderr",
     "output_type": "stream",
     "text": [
      "\n",
      "         100%|\u001b[32m██████████████████████████████\u001b[0m| 48/48 [00:07<00:00]"
     ]
    },
    {
     "name": "stdout",
     "output_type": "stream",
     "text": [
      " Val_Loss: 0.6905 , Val_Accuracy: 89.34% , Learning_rate: 1.953125e-07\n"
     ]
    },
    {
     "name": "stderr",
     "output_type": "stream",
     "text": [
      "\n",
      "Epoch 113: 100%|\u001b[34m██████████████████████████████████████████████████\u001b[0m| 192/192 [01:32<00:00]"
     ]
    },
    {
     "name": "stdout",
     "output_type": "stream",
     "text": [
      " Loss: 0.0007 , Accuracy: 99.98%\n"
     ]
    },
    {
     "name": "stderr",
     "output_type": "stream",
     "text": [
      "\n",
      "         100%|\u001b[32m██████████████████████████████\u001b[0m| 48/48 [00:07<00:00]"
     ]
    },
    {
     "name": "stdout",
     "output_type": "stream",
     "text": [
      " Val_Loss: 0.6883 , Val_Accuracy: 89.26% , Learning_rate: 1.953125e-07\n"
     ]
    },
    {
     "name": "stderr",
     "output_type": "stream",
     "text": [
      "\n",
      "Epoch 114: 100%|\u001b[34m██████████████████████████████████████████████████\u001b[0m| 192/192 [01:32<00:00]"
     ]
    },
    {
     "name": "stdout",
     "output_type": "stream",
     "text": [
      " Loss: 0.0006 , Accuracy: 99.98%\n"
     ]
    },
    {
     "name": "stderr",
     "output_type": "stream",
     "text": [
      "\n",
      "         100%|\u001b[32m██████████████████████████████\u001b[0m| 48/48 [00:07<00:00]"
     ]
    },
    {
     "name": "stdout",
     "output_type": "stream",
     "text": [
      " Val_Loss: 0.6923 , Val_Accuracy: 89.23% , Learning_rate: 1.953125e-07\n"
     ]
    },
    {
     "name": "stderr",
     "output_type": "stream",
     "text": [
      "\n",
      "Epoch 115: 100%|\u001b[34m██████████████████████████████████████████████████\u001b[0m| 192/192 [01:32<00:00]"
     ]
    },
    {
     "name": "stdout",
     "output_type": "stream",
     "text": [
      " Loss: 0.0006 , Accuracy: 99.98%\n"
     ]
    },
    {
     "name": "stderr",
     "output_type": "stream",
     "text": [
      "\n",
      "         100%|\u001b[32m██████████████████████████████\u001b[0m| 48/48 [00:07<00:00]"
     ]
    },
    {
     "name": "stdout",
     "output_type": "stream",
     "text": [
      " Val_Loss: 0.6916 , Val_Accuracy: 89.30% , Learning_rate: 1.953125e-07\n"
     ]
    },
    {
     "name": "stderr",
     "output_type": "stream",
     "text": [
      "\n",
      "Epoch 116: 100%|\u001b[34m██████████████████████████████████████████████████\u001b[0m| 192/192 [01:32<00:00]"
     ]
    },
    {
     "name": "stdout",
     "output_type": "stream",
     "text": [
      " Loss: 0.0006 , Accuracy: 99.98%\n"
     ]
    },
    {
     "name": "stderr",
     "output_type": "stream",
     "text": [
      "\n",
      "         100%|\u001b[32m██████████████████████████████\u001b[0m| 48/48 [00:07<00:00]"
     ]
    },
    {
     "name": "stdout",
     "output_type": "stream",
     "text": [
      " Val_Loss: 0.6866 , Val_Accuracy: 89.04% , Learning_rate: 1.953125e-07\n"
     ]
    },
    {
     "name": "stderr",
     "output_type": "stream",
     "text": [
      "\n",
      "Epoch 117: 100%|\u001b[34m██████████████████████████████████████████████████\u001b[0m| 192/192 [01:32<00:00]"
     ]
    },
    {
     "name": "stdout",
     "output_type": "stream",
     "text": [
      " Loss: 0.0004 , Accuracy: 100.00%\n"
     ]
    },
    {
     "name": "stderr",
     "output_type": "stream",
     "text": [
      "\n",
      "         100%|\u001b[32m██████████████████████████████\u001b[0m| 48/48 [00:07<00:00]"
     ]
    },
    {
     "name": "stdout",
     "output_type": "stream",
     "text": [
      " Val_Loss: 0.6862 , Val_Accuracy: 89.13% , Learning_rate: 1.953125e-07\n"
     ]
    },
    {
     "name": "stderr",
     "output_type": "stream",
     "text": [
      "\n",
      "Epoch 118: 100%|\u001b[34m██████████████████████████████████████████████████\u001b[0m| 192/192 [01:32<00:00]"
     ]
    },
    {
     "name": "stdout",
     "output_type": "stream",
     "text": [
      " Loss: 0.0007 , Accuracy: 99.98%\n"
     ]
    },
    {
     "name": "stderr",
     "output_type": "stream",
     "text": [
      "\n",
      "         100%|\u001b[32m██████████████████████████████\u001b[0m| 48/48 [00:07<00:00]"
     ]
    },
    {
     "name": "stdout",
     "output_type": "stream",
     "text": [
      " Val_Loss: 0.6914 , Val_Accuracy: 89.37% , Learning_rate: 1.953125e-07\n"
     ]
    },
    {
     "name": "stderr",
     "output_type": "stream",
     "text": [
      "\n",
      "Epoch 119: 100%|\u001b[34m██████████████████████████████████████████████████\u001b[0m| 192/192 [01:32<00:00]"
     ]
    },
    {
     "name": "stdout",
     "output_type": "stream",
     "text": [
      " Loss: 0.0006 , Accuracy: 99.99%\n"
     ]
    },
    {
     "name": "stderr",
     "output_type": "stream",
     "text": [
      "\n",
      "         100%|\u001b[32m██████████████████████████████\u001b[0m| 48/48 [00:07<00:00]"
     ]
    },
    {
     "name": "stdout",
     "output_type": "stream",
     "text": [
      " Val_Loss: 0.6890 , Val_Accuracy: 89.07% , Learning_rate: 1.953125e-07\n"
     ]
    },
    {
     "name": "stderr",
     "output_type": "stream",
     "text": [
      "\n",
      "Epoch 120: 100%|\u001b[34m██████████████████████████████████████████████████\u001b[0m| 192/192 [01:32<00:00]"
     ]
    },
    {
     "name": "stdout",
     "output_type": "stream",
     "text": [
      " Loss: 0.0004 , Accuracy: 99.99%\n"
     ]
    },
    {
     "name": "stderr",
     "output_type": "stream",
     "text": [
      "\n",
      "         100%|\u001b[32m██████████████████████████████\u001b[0m| 48/48 [00:07<00:00]"
     ]
    },
    {
     "name": "stdout",
     "output_type": "stream",
     "text": [
      " Val_Loss: 0.6783 , Val_Accuracy: 89.01% , Learning_rate: 1e-07\n"
     ]
    },
    {
     "name": "stderr",
     "output_type": "stream",
     "text": [
      "\n",
      "Epoch 121: 100%|\u001b[34m██████████████████████████████████████████████████\u001b[0m| 192/192 [01:32<00:00]"
     ]
    },
    {
     "name": "stdout",
     "output_type": "stream",
     "text": [
      " Loss: 0.0006 , Accuracy: 99.99%\n"
     ]
    },
    {
     "name": "stderr",
     "output_type": "stream",
     "text": [
      "\n",
      "         100%|\u001b[32m██████████████████████████████\u001b[0m| 48/48 [00:07<00:00]"
     ]
    },
    {
     "name": "stdout",
     "output_type": "stream",
     "text": [
      " Val_Loss: 0.6853 , Val_Accuracy: 89.27% , Learning_rate: 1e-07\n"
     ]
    },
    {
     "name": "stderr",
     "output_type": "stream",
     "text": [
      "\n",
      "Epoch 122: 100%|\u001b[34m██████████████████████████████████████████████████\u001b[0m| 192/192 [01:32<00:00]"
     ]
    },
    {
     "name": "stdout",
     "output_type": "stream",
     "text": [
      " Loss: 0.0006 , Accuracy: 99.99%\n"
     ]
    },
    {
     "name": "stderr",
     "output_type": "stream",
     "text": [
      "\n",
      "         100%|\u001b[32m██████████████████████████████\u001b[0m| 48/48 [00:07<00:00]"
     ]
    },
    {
     "name": "stdout",
     "output_type": "stream",
     "text": [
      " Val_Loss: 0.6915 , Val_Accuracy: 89.13% , Learning_rate: 1e-07\n"
     ]
    },
    {
     "name": "stderr",
     "output_type": "stream",
     "text": [
      "\n",
      "Epoch 123: 100%|\u001b[34m██████████████████████████████████████████████████\u001b[0m| 192/192 [01:32<00:00]"
     ]
    },
    {
     "name": "stdout",
     "output_type": "stream",
     "text": [
      " Loss: 0.0003 , Accuracy: 99.99%\n"
     ]
    },
    {
     "name": "stderr",
     "output_type": "stream",
     "text": [
      "\n",
      "         100%|\u001b[32m██████████████████████████████\u001b[0m| 48/48 [00:07<00:00]"
     ]
    },
    {
     "name": "stdout",
     "output_type": "stream",
     "text": [
      " Val_Loss: 0.6913 , Val_Accuracy: 89.10% , Learning_rate: 1e-07\n"
     ]
    },
    {
     "name": "stderr",
     "output_type": "stream",
     "text": [
      "\n",
      "Epoch 124: 100%|\u001b[34m██████████████████████████████████████████████████\u001b[0m| 192/192 [01:32<00:00]"
     ]
    },
    {
     "name": "stdout",
     "output_type": "stream",
     "text": [
      " Loss: 0.0005 , Accuracy: 100.00%\n"
     ]
    },
    {
     "name": "stderr",
     "output_type": "stream",
     "text": [
      "\n",
      "         100%|\u001b[32m██████████████████████████████\u001b[0m| 48/48 [00:07<00:00]"
     ]
    },
    {
     "name": "stdout",
     "output_type": "stream",
     "text": [
      " Val_Loss: 0.6824 , Val_Accuracy: 89.47% , Learning_rate: 1e-07\n"
     ]
    },
    {
     "name": "stderr",
     "output_type": "stream",
     "text": [
      "\n",
      "Epoch 125: 100%|\u001b[34m██████████████████████████████████████████████████\u001b[0m| 192/192 [01:32<00:00]"
     ]
    },
    {
     "name": "stdout",
     "output_type": "stream",
     "text": [
      " Loss: 0.0003 , Accuracy: 100.00%\n"
     ]
    },
    {
     "name": "stderr",
     "output_type": "stream",
     "text": [
      "\n",
      "         100%|\u001b[32m██████████████████████████████\u001b[0m| 48/48 [00:07<00:00]"
     ]
    },
    {
     "name": "stdout",
     "output_type": "stream",
     "text": [
      " Val_Loss: 0.6867 , Val_Accuracy: 89.03% , Learning_rate: 1e-07\n"
     ]
    },
    {
     "name": "stderr",
     "output_type": "stream",
     "text": [
      "\n",
      "Epoch 126: 100%|\u001b[34m██████████████████████████████████████████████████\u001b[0m| 192/192 [01:32<00:00]"
     ]
    },
    {
     "name": "stdout",
     "output_type": "stream",
     "text": [
      " Loss: 0.0005 , Accuracy: 99.99%\n"
     ]
    },
    {
     "name": "stderr",
     "output_type": "stream",
     "text": [
      "\n",
      "         100%|\u001b[32m██████████████████████████████\u001b[0m| 48/48 [00:07<00:00]"
     ]
    },
    {
     "name": "stdout",
     "output_type": "stream",
     "text": [
      " Val_Loss: 0.6950 , Val_Accuracy: 89.27% , Learning_rate: 1e-07\n"
     ]
    },
    {
     "name": "stderr",
     "output_type": "stream",
     "text": [
      "\n",
      "Epoch 127: 100%|\u001b[34m██████████████████████████████████████████████████\u001b[0m| 192/192 [01:32<00:00]"
     ]
    },
    {
     "name": "stdout",
     "output_type": "stream",
     "text": [
      " Loss: 0.0004 , Accuracy: 99.99%\n"
     ]
    },
    {
     "name": "stderr",
     "output_type": "stream",
     "text": [
      "\n",
      "         100%|\u001b[32m██████████████████████████████\u001b[0m| 48/48 [00:07<00:00]"
     ]
    },
    {
     "name": "stdout",
     "output_type": "stream",
     "text": [
      " Val_Loss: 0.6860 , Val_Accuracy: 89.13% , Learning_rate: 1e-07\n"
     ]
    },
    {
     "name": "stderr",
     "output_type": "stream",
     "text": [
      "\n",
      "Epoch 128: 100%|\u001b[34m██████████████████████████████████████████████████\u001b[0m| 192/192 [01:32<00:00]"
     ]
    },
    {
     "name": "stdout",
     "output_type": "stream",
     "text": [
      " Loss: 0.0005 , Accuracy: 99.99%\n"
     ]
    },
    {
     "name": "stderr",
     "output_type": "stream",
     "text": [
      "\n",
      "         100%|\u001b[32m██████████████████████████████\u001b[0m| 48/48 [00:07<00:00]"
     ]
    },
    {
     "name": "stdout",
     "output_type": "stream",
     "text": [
      " Val_Loss: 0.6860 , Val_Accuracy: 89.23% , Learning_rate: 1e-07\n"
     ]
    },
    {
     "name": "stderr",
     "output_type": "stream",
     "text": [
      "\n",
      "Epoch 129: 100%|\u001b[34m██████████████████████████████████████████████████\u001b[0m| 192/192 [01:32<00:00]"
     ]
    },
    {
     "name": "stdout",
     "output_type": "stream",
     "text": [
      " Loss: 0.0006 , Accuracy: 99.98%\n"
     ]
    },
    {
     "name": "stderr",
     "output_type": "stream",
     "text": [
      "\n",
      "         100%|\u001b[32m██████████████████████████████\u001b[0m| 48/48 [00:07<00:00]\n"
     ]
    },
    {
     "name": "stdout",
     "output_type": "stream",
     "text": [
      " Val_Loss: 0.6862 , Val_Accuracy: 89.59% , Learning_rate: 1e-07\n",
      "Weight was updated because val_accuracy get highest(=89.59418408075969)\n"
     ]
    },
    {
     "name": "stderr",
     "output_type": "stream",
     "text": [
      "Epoch 130: 100%|\u001b[34m██████████████████████████████████████████████████\u001b[0m| 192/192 [01:32<00:00]"
     ]
    },
    {
     "name": "stdout",
     "output_type": "stream",
     "text": [
      " Loss: 0.0014 , Accuracy: 99.94%\n"
     ]
    },
    {
     "name": "stderr",
     "output_type": "stream",
     "text": [
      "\n",
      "         100%|\u001b[32m██████████████████████████████\u001b[0m| 48/48 [00:07<00:00]"
     ]
    },
    {
     "name": "stdout",
     "output_type": "stream",
     "text": [
      " Val_Loss: 0.6866 , Val_Accuracy: 89.23% , Learning_rate: 1e-07\n"
     ]
    },
    {
     "name": "stderr",
     "output_type": "stream",
     "text": [
      "\n",
      "Epoch 131: 100%|\u001b[34m██████████████████████████████████████████████████\u001b[0m| 192/192 [01:32<00:00]"
     ]
    },
    {
     "name": "stdout",
     "output_type": "stream",
     "text": [
      " Loss: 0.0005 , Accuracy: 100.00%\n"
     ]
    },
    {
     "name": "stderr",
     "output_type": "stream",
     "text": [
      "\n",
      "         100%|\u001b[32m██████████████████████████████\u001b[0m| 48/48 [00:07<00:00]"
     ]
    },
    {
     "name": "stdout",
     "output_type": "stream",
     "text": [
      " Val_Loss: 0.6832 , Val_Accuracy: 89.13% , Learning_rate: 1e-07\n"
     ]
    },
    {
     "name": "stderr",
     "output_type": "stream",
     "text": [
      "\n",
      "Epoch 132: 100%|\u001b[34m██████████████████████████████████████████████████\u001b[0m| 192/192 [01:32<00:00]"
     ]
    },
    {
     "name": "stdout",
     "output_type": "stream",
     "text": [
      " Loss: 0.0004 , Accuracy: 99.99%\n"
     ]
    },
    {
     "name": "stderr",
     "output_type": "stream",
     "text": [
      "\n",
      "         100%|\u001b[32m██████████████████████████████\u001b[0m| 48/48 [00:07<00:00]"
     ]
    },
    {
     "name": "stdout",
     "output_type": "stream",
     "text": [
      " Val_Loss: 0.6896 , Val_Accuracy: 89.16% , Learning_rate: 1e-07\n"
     ]
    },
    {
     "name": "stderr",
     "output_type": "stream",
     "text": [
      "\n",
      "Epoch 133: 100%|\u001b[34m██████████████████████████████████████████████████\u001b[0m| 192/192 [01:32<00:00]"
     ]
    },
    {
     "name": "stdout",
     "output_type": "stream",
     "text": [
      " Loss: 0.0005 , Accuracy: 99.98%\n"
     ]
    },
    {
     "name": "stderr",
     "output_type": "stream",
     "text": [
      "\n",
      "         100%|\u001b[32m██████████████████████████████\u001b[0m| 48/48 [00:07<00:00]"
     ]
    },
    {
     "name": "stdout",
     "output_type": "stream",
     "text": [
      " Val_Loss: 0.6819 , Val_Accuracy: 89.43% , Learning_rate: 1e-07\n"
     ]
    },
    {
     "name": "stderr",
     "output_type": "stream",
     "text": [
      "\n",
      "Epoch 134: 100%|\u001b[34m██████████████████████████████████████████████████\u001b[0m| 192/192 [01:32<00:00]"
     ]
    },
    {
     "name": "stdout",
     "output_type": "stream",
     "text": [
      " Loss: 0.0006 , Accuracy: 99.99%\n"
     ]
    },
    {
     "name": "stderr",
     "output_type": "stream",
     "text": [
      "\n",
      "         100%|\u001b[32m██████████████████████████████\u001b[0m| 48/48 [00:07<00:00]"
     ]
    },
    {
     "name": "stdout",
     "output_type": "stream",
     "text": [
      " Val_Loss: 0.6803 , Val_Accuracy: 89.30% , Learning_rate: 1e-07\n"
     ]
    },
    {
     "name": "stderr",
     "output_type": "stream",
     "text": [
      "\n",
      "Epoch 135: 100%|\u001b[34m██████████████████████████████████████████████████\u001b[0m| 192/192 [01:32<00:00]"
     ]
    },
    {
     "name": "stdout",
     "output_type": "stream",
     "text": [
      " Loss: 0.0005 , Accuracy: 100.00%\n"
     ]
    },
    {
     "name": "stderr",
     "output_type": "stream",
     "text": [
      "\n",
      "         100%|\u001b[32m██████████████████████████████\u001b[0m| 48/48 [00:07<00:00]"
     ]
    },
    {
     "name": "stdout",
     "output_type": "stream",
     "text": [
      " Val_Loss: 0.6853 , Val_Accuracy: 89.20% , Learning_rate: 1e-07\n"
     ]
    },
    {
     "name": "stderr",
     "output_type": "stream",
     "text": [
      "\n",
      "Epoch 136: 100%|\u001b[34m██████████████████████████████████████████████████\u001b[0m| 192/192 [01:32<00:00]"
     ]
    },
    {
     "name": "stdout",
     "output_type": "stream",
     "text": [
      " Loss: 0.0004 , Accuracy: 99.98%\n"
     ]
    },
    {
     "name": "stderr",
     "output_type": "stream",
     "text": [
      "\n",
      "         100%|\u001b[32m██████████████████████████████\u001b[0m| 48/48 [00:07<00:00]"
     ]
    },
    {
     "name": "stdout",
     "output_type": "stream",
     "text": [
      " Val_Loss: 0.6861 , Val_Accuracy: 89.13% , Learning_rate: 1e-07\n"
     ]
    },
    {
     "name": "stderr",
     "output_type": "stream",
     "text": [
      "\n",
      "Epoch 137: 100%|\u001b[34m██████████████████████████████████████████████████\u001b[0m| 192/192 [01:32<00:00]"
     ]
    },
    {
     "name": "stdout",
     "output_type": "stream",
     "text": [
      " Loss: 0.0005 , Accuracy: 99.99%\n"
     ]
    },
    {
     "name": "stderr",
     "output_type": "stream",
     "text": [
      "\n",
      "         100%|\u001b[32m██████████████████████████████\u001b[0m| 48/48 [00:07<00:00]"
     ]
    },
    {
     "name": "stdout",
     "output_type": "stream",
     "text": [
      " Val_Loss: 0.6886 , Val_Accuracy: 88.94% , Learning_rate: 1e-07\n"
     ]
    },
    {
     "name": "stderr",
     "output_type": "stream",
     "text": [
      "\n",
      "Epoch 138: 100%|\u001b[34m██████████████████████████████████████████████████\u001b[0m| 192/192 [01:32<00:00]"
     ]
    },
    {
     "name": "stdout",
     "output_type": "stream",
     "text": [
      " Loss: 0.0005 , Accuracy: 99.98%\n"
     ]
    },
    {
     "name": "stderr",
     "output_type": "stream",
     "text": [
      "\n",
      "         100%|\u001b[32m██████████████████████████████\u001b[0m| 48/48 [00:07<00:00]"
     ]
    },
    {
     "name": "stdout",
     "output_type": "stream",
     "text": [
      " Val_Loss: 0.6834 , Val_Accuracy: 89.07% , Learning_rate: 1e-07\n"
     ]
    },
    {
     "name": "stderr",
     "output_type": "stream",
     "text": [
      "\n",
      "Epoch 139: 100%|\u001b[34m██████████████████████████████████████████████████\u001b[0m| 192/192 [01:32<00:00]"
     ]
    },
    {
     "name": "stdout",
     "output_type": "stream",
     "text": [
      " Loss: 0.0005 , Accuracy: 99.98%\n"
     ]
    },
    {
     "name": "stderr",
     "output_type": "stream",
     "text": [
      "\n",
      "         100%|\u001b[32m██████████████████████████████\u001b[0m| 48/48 [00:07<00:00]"
     ]
    },
    {
     "name": "stdout",
     "output_type": "stream",
     "text": [
      " Val_Loss: 0.6918 , Val_Accuracy: 89.17% , Learning_rate: 1e-07\n"
     ]
    },
    {
     "name": "stderr",
     "output_type": "stream",
     "text": [
      "\n",
      "Epoch 140: 100%|\u001b[34m██████████████████████████████████████████████████\u001b[0m| 192/192 [01:32<00:00]"
     ]
    },
    {
     "name": "stdout",
     "output_type": "stream",
     "text": [
      " Loss: 0.0004 , Accuracy: 99.99%\n"
     ]
    },
    {
     "name": "stderr",
     "output_type": "stream",
     "text": [
      "\n",
      "         100%|\u001b[32m██████████████████████████████\u001b[0m| 48/48 [00:07<00:00]"
     ]
    },
    {
     "name": "stdout",
     "output_type": "stream",
     "text": [
      " Val_Loss: 0.6881 , Val_Accuracy: 89.34% , Learning_rate: 1e-07\n"
     ]
    },
    {
     "name": "stderr",
     "output_type": "stream",
     "text": [
      "\n",
      "Epoch 141: 100%|\u001b[34m██████████████████████████████████████████████████\u001b[0m| 192/192 [01:32<00:00]"
     ]
    },
    {
     "name": "stdout",
     "output_type": "stream",
     "text": [
      " Loss: 0.0005 , Accuracy: 99.99%\n"
     ]
    },
    {
     "name": "stderr",
     "output_type": "stream",
     "text": [
      "\n",
      "         100%|\u001b[32m██████████████████████████████\u001b[0m| 48/48 [00:07<00:00]"
     ]
    },
    {
     "name": "stdout",
     "output_type": "stream",
     "text": [
      " Val_Loss: 0.6848 , Val_Accuracy: 89.17% , Learning_rate: 1e-07\n"
     ]
    },
    {
     "name": "stderr",
     "output_type": "stream",
     "text": [
      "\n",
      "Epoch 142: 100%|\u001b[34m██████████████████████████████████████████████████\u001b[0m| 192/192 [01:32<00:00]"
     ]
    },
    {
     "name": "stdout",
     "output_type": "stream",
     "text": [
      " Loss: 0.0004 , Accuracy: 99.99%\n"
     ]
    },
    {
     "name": "stderr",
     "output_type": "stream",
     "text": [
      "\n",
      "         100%|\u001b[32m██████████████████████████████\u001b[0m| 48/48 [00:07<00:00]"
     ]
    },
    {
     "name": "stdout",
     "output_type": "stream",
     "text": [
      " Val_Loss: 0.6853 , Val_Accuracy: 89.43% , Learning_rate: 1e-07\n"
     ]
    },
    {
     "name": "stderr",
     "output_type": "stream",
     "text": [
      "\n",
      "Epoch 143: 100%|\u001b[34m██████████████████████████████████████████████████\u001b[0m| 192/192 [01:32<00:00]"
     ]
    },
    {
     "name": "stdout",
     "output_type": "stream",
     "text": [
      " Loss: 0.0006 , Accuracy: 99.98%\n"
     ]
    },
    {
     "name": "stderr",
     "output_type": "stream",
     "text": [
      "\n",
      "         100%|\u001b[32m██████████████████████████████\u001b[0m| 48/48 [00:07<00:00]"
     ]
    },
    {
     "name": "stdout",
     "output_type": "stream",
     "text": [
      " Val_Loss: 0.6919 , Val_Accuracy: 89.23% , Learning_rate: 1e-07\n"
     ]
    },
    {
     "name": "stderr",
     "output_type": "stream",
     "text": [
      "\n",
      "Epoch 144: 100%|\u001b[34m██████████████████████████████████████████████████\u001b[0m| 192/192 [01:32<00:00]"
     ]
    },
    {
     "name": "stdout",
     "output_type": "stream",
     "text": [
      " Loss: 0.0002 , Accuracy: 100.00%\n"
     ]
    },
    {
     "name": "stderr",
     "output_type": "stream",
     "text": [
      "\n",
      "         100%|\u001b[32m██████████████████████████████\u001b[0m| 48/48 [00:07<00:00]"
     ]
    },
    {
     "name": "stdout",
     "output_type": "stream",
     "text": [
      " Val_Loss: 0.6896 , Val_Accuracy: 89.14% , Learning_rate: 1e-07\n"
     ]
    },
    {
     "name": "stderr",
     "output_type": "stream",
     "text": [
      "\n",
      "Epoch 145: 100%|\u001b[34m██████████████████████████████████████████████████\u001b[0m| 192/192 [01:32<00:00]"
     ]
    },
    {
     "name": "stdout",
     "output_type": "stream",
     "text": [
      " Loss: 0.0005 , Accuracy: 99.98%\n"
     ]
    },
    {
     "name": "stderr",
     "output_type": "stream",
     "text": [
      "\n",
      "         100%|\u001b[32m██████████████████████████████\u001b[0m| 48/48 [00:07<00:00]"
     ]
    },
    {
     "name": "stdout",
     "output_type": "stream",
     "text": [
      " Val_Loss: 0.6922 , Val_Accuracy: 89.23% , Learning_rate: 1e-07\n"
     ]
    },
    {
     "name": "stderr",
     "output_type": "stream",
     "text": [
      "\n",
      "Epoch 146: 100%|\u001b[34m██████████████████████████████████████████████████\u001b[0m| 192/192 [01:32<00:00]"
     ]
    },
    {
     "name": "stdout",
     "output_type": "stream",
     "text": [
      " Loss: 0.0004 , Accuracy: 99.99%\n"
     ]
    },
    {
     "name": "stderr",
     "output_type": "stream",
     "text": [
      "\n",
      "         100%|\u001b[32m██████████████████████████████\u001b[0m| 48/48 [00:07<00:00]"
     ]
    },
    {
     "name": "stdout",
     "output_type": "stream",
     "text": [
      " Val_Loss: 0.6942 , Val_Accuracy: 89.17% , Learning_rate: 1e-07\n"
     ]
    },
    {
     "name": "stderr",
     "output_type": "stream",
     "text": [
      "\n",
      "Epoch 147: 100%|\u001b[34m██████████████████████████████████████████████████\u001b[0m| 192/192 [01:32<00:00]"
     ]
    },
    {
     "name": "stdout",
     "output_type": "stream",
     "text": [
      " Loss: 0.0005 , Accuracy: 100.00%\n"
     ]
    },
    {
     "name": "stderr",
     "output_type": "stream",
     "text": [
      "\n",
      "         100%|\u001b[32m██████████████████████████████\u001b[0m| 48/48 [00:07<00:00]"
     ]
    },
    {
     "name": "stdout",
     "output_type": "stream",
     "text": [
      " Val_Loss: 0.6908 , Val_Accuracy: 89.30% , Learning_rate: 1e-07\n"
     ]
    },
    {
     "name": "stderr",
     "output_type": "stream",
     "text": [
      "\n",
      "Epoch 148: 100%|\u001b[34m██████████████████████████████████████████████████\u001b[0m| 192/192 [01:32<00:00]"
     ]
    },
    {
     "name": "stdout",
     "output_type": "stream",
     "text": [
      " Loss: 0.0005 , Accuracy: 99.98%\n"
     ]
    },
    {
     "name": "stderr",
     "output_type": "stream",
     "text": [
      "\n",
      "         100%|\u001b[32m██████████████████████████████\u001b[0m| 48/48 [00:07<00:00]"
     ]
    },
    {
     "name": "stdout",
     "output_type": "stream",
     "text": [
      " Val_Loss: 0.6844 , Val_Accuracy: 89.36% , Learning_rate: 1e-07\n"
     ]
    },
    {
     "name": "stderr",
     "output_type": "stream",
     "text": [
      "\n",
      "Epoch 149: 100%|\u001b[34m██████████████████████████████████████████████████\u001b[0m| 192/192 [01:32<00:00]"
     ]
    },
    {
     "name": "stdout",
     "output_type": "stream",
     "text": [
      " Loss: 0.0003 , Accuracy: 100.00%\n"
     ]
    },
    {
     "name": "stderr",
     "output_type": "stream",
     "text": [
      "\n",
      "         100%|\u001b[32m██████████████████████████████\u001b[0m| 48/48 [00:07<00:00]"
     ]
    },
    {
     "name": "stdout",
     "output_type": "stream",
     "text": [
      " Val_Loss: 0.6866 , Val_Accuracy: 89.43% , Learning_rate: 1e-07\n"
     ]
    },
    {
     "name": "stderr",
     "output_type": "stream",
     "text": [
      "\n",
      "Epoch 150: 100%|\u001b[34m██████████████████████████████████████████████████\u001b[0m| 192/192 [01:32<00:00]"
     ]
    },
    {
     "name": "stdout",
     "output_type": "stream",
     "text": [
      " Loss: 0.0006 , Accuracy: 99.98%\n"
     ]
    },
    {
     "name": "stderr",
     "output_type": "stream",
     "text": [
      "\n",
      "         100%|\u001b[32m██████████████████████████████\u001b[0m| 48/48 [00:07<00:00]"
     ]
    },
    {
     "name": "stdout",
     "output_type": "stream",
     "text": [
      " Val_Loss: 0.6903 , Val_Accuracy: 89.53% , Learning_rate: 1e-07\n"
     ]
    },
    {
     "name": "stderr",
     "output_type": "stream",
     "text": [
      "\n",
      "Epoch 151: 100%|\u001b[34m██████████████████████████████████████████████████\u001b[0m| 192/192 [01:32<00:00]"
     ]
    },
    {
     "name": "stdout",
     "output_type": "stream",
     "text": [
      " Loss: 0.0004 , Accuracy: 100.00%\n"
     ]
    },
    {
     "name": "stderr",
     "output_type": "stream",
     "text": [
      "\n",
      "         100%|\u001b[32m██████████████████████████████\u001b[0m| 48/48 [00:07<00:00]\n"
     ]
    },
    {
     "name": "stdout",
     "output_type": "stream",
     "text": [
      " Val_Loss: 0.6883 , Val_Accuracy: 89.70% , Learning_rate: 1e-07\n",
      "Weight was updated because val_accuracy get highest(=89.69618066151936)\n"
     ]
    },
    {
     "name": "stderr",
     "output_type": "stream",
     "text": [
      "Epoch 152: 100%|\u001b[34m██████████████████████████████████████████████████\u001b[0m| 192/192 [01:32<00:00]"
     ]
    },
    {
     "name": "stdout",
     "output_type": "stream",
     "text": [
      " Loss: 0.0005 , Accuracy: 99.99%\n"
     ]
    },
    {
     "name": "stderr",
     "output_type": "stream",
     "text": [
      "\n",
      "         100%|\u001b[32m██████████████████████████████\u001b[0m| 48/48 [00:07<00:00]"
     ]
    },
    {
     "name": "stdout",
     "output_type": "stream",
     "text": [
      " Val_Loss: 0.6876 , Val_Accuracy: 89.07% , Learning_rate: 1e-07\n"
     ]
    },
    {
     "name": "stderr",
     "output_type": "stream",
     "text": [
      "\n",
      "Epoch 153: 100%|\u001b[34m██████████████████████████████████████████████████\u001b[0m| 192/192 [01:32<00:00]"
     ]
    },
    {
     "name": "stdout",
     "output_type": "stream",
     "text": [
      " Loss: 0.0007 , Accuracy: 99.98%\n"
     ]
    },
    {
     "name": "stderr",
     "output_type": "stream",
     "text": [
      "\n",
      "         100%|\u001b[32m██████████████████████████████\u001b[0m| 48/48 [00:07<00:00]"
     ]
    },
    {
     "name": "stdout",
     "output_type": "stream",
     "text": [
      " Val_Loss: 0.6908 , Val_Accuracy: 89.24% , Learning_rate: 1e-07\n"
     ]
    },
    {
     "name": "stderr",
     "output_type": "stream",
     "text": [
      "\n",
      "Epoch 154: 100%|\u001b[34m██████████████████████████████████████████████████\u001b[0m| 192/192 [01:32<00:00]"
     ]
    },
    {
     "name": "stdout",
     "output_type": "stream",
     "text": [
      " Loss: 0.0004 , Accuracy: 99.99%\n"
     ]
    },
    {
     "name": "stderr",
     "output_type": "stream",
     "text": [
      "\n",
      "         100%|\u001b[32m██████████████████████████████\u001b[0m| 48/48 [00:07<00:00]"
     ]
    },
    {
     "name": "stdout",
     "output_type": "stream",
     "text": [
      " Val_Loss: 0.6861 , Val_Accuracy: 88.97% , Learning_rate: 1e-07\n"
     ]
    },
    {
     "name": "stderr",
     "output_type": "stream",
     "text": [
      "\n",
      "Epoch 155: 100%|\u001b[34m██████████████████████████████████████████████████\u001b[0m| 192/192 [01:32<00:00]"
     ]
    },
    {
     "name": "stdout",
     "output_type": "stream",
     "text": [
      " Loss: 0.0003 , Accuracy: 100.00%\n"
     ]
    },
    {
     "name": "stderr",
     "output_type": "stream",
     "text": [
      "\n",
      "         100%|\u001b[32m██████████████████████████████\u001b[0m| 48/48 [00:07<00:00]"
     ]
    },
    {
     "name": "stdout",
     "output_type": "stream",
     "text": [
      " Val_Loss: 0.6871 , Val_Accuracy: 89.36% , Learning_rate: 1e-07\n"
     ]
    },
    {
     "name": "stderr",
     "output_type": "stream",
     "text": [
      "\n",
      "Epoch 156: 100%|\u001b[34m██████████████████████████████████████████████████\u001b[0m| 192/192 [01:32<00:00]"
     ]
    },
    {
     "name": "stdout",
     "output_type": "stream",
     "text": [
      " Loss: 0.0007 , Accuracy: 99.97%\n"
     ]
    },
    {
     "name": "stderr",
     "output_type": "stream",
     "text": [
      "\n",
      "         100%|\u001b[32m██████████████████████████████\u001b[0m| 48/48 [00:07<00:00]"
     ]
    },
    {
     "name": "stdout",
     "output_type": "stream",
     "text": [
      " Val_Loss: 0.6838 , Val_Accuracy: 89.33% , Learning_rate: 1e-07\n"
     ]
    },
    {
     "name": "stderr",
     "output_type": "stream",
     "text": [
      "\n",
      "Epoch 157: 100%|\u001b[34m██████████████████████████████████████████████████\u001b[0m| 192/192 [01:32<00:00]"
     ]
    },
    {
     "name": "stdout",
     "output_type": "stream",
     "text": [
      " Loss: 0.0004 , Accuracy: 100.00%\n"
     ]
    },
    {
     "name": "stderr",
     "output_type": "stream",
     "text": [
      "\n",
      "         100%|\u001b[32m██████████████████████████████\u001b[0m| 48/48 [00:07<00:00]"
     ]
    },
    {
     "name": "stdout",
     "output_type": "stream",
     "text": [
      " Val_Loss: 0.6939 , Val_Accuracy: 89.30% , Learning_rate: 1e-07\n"
     ]
    },
    {
     "name": "stderr",
     "output_type": "stream",
     "text": [
      "\n",
      "Epoch 158: 100%|\u001b[34m██████████████████████████████████████████████████\u001b[0m| 192/192 [01:32<00:00]"
     ]
    },
    {
     "name": "stdout",
     "output_type": "stream",
     "text": [
      " Loss: 0.0005 , Accuracy: 99.99%\n"
     ]
    },
    {
     "name": "stderr",
     "output_type": "stream",
     "text": [
      "\n",
      "         100%|\u001b[32m██████████████████████████████\u001b[0m| 48/48 [00:07<00:00]"
     ]
    },
    {
     "name": "stdout",
     "output_type": "stream",
     "text": [
      " Val_Loss: 0.6832 , Val_Accuracy: 89.13% , Learning_rate: 1e-07\n"
     ]
    },
    {
     "name": "stderr",
     "output_type": "stream",
     "text": [
      "\n",
      "Epoch 159: 100%|\u001b[34m██████████████████████████████████████████████████\u001b[0m| 192/192 [01:32<00:00]"
     ]
    },
    {
     "name": "stdout",
     "output_type": "stream",
     "text": [
      " Loss: 0.0004 , Accuracy: 100.00%\n"
     ]
    },
    {
     "name": "stderr",
     "output_type": "stream",
     "text": [
      "\n",
      "         100%|\u001b[32m██████████████████████████████\u001b[0m| 48/48 [00:07<00:00]"
     ]
    },
    {
     "name": "stdout",
     "output_type": "stream",
     "text": [
      " Val_Loss: 0.6877 , Val_Accuracy: 89.23% , Learning_rate: 1e-07\n"
     ]
    },
    {
     "name": "stderr",
     "output_type": "stream",
     "text": [
      "\n",
      "Epoch 160: 100%|\u001b[34m██████████████████████████████████████████████████\u001b[0m| 192/192 [01:32<00:00]"
     ]
    },
    {
     "name": "stdout",
     "output_type": "stream",
     "text": [
      " Loss: 0.0003 , Accuracy: 100.00%\n"
     ]
    },
    {
     "name": "stderr",
     "output_type": "stream",
     "text": [
      "\n",
      "         100%|\u001b[32m██████████████████████████████\u001b[0m| 48/48 [00:07<00:00]"
     ]
    },
    {
     "name": "stdout",
     "output_type": "stream",
     "text": [
      " Val_Loss: 0.6860 , Val_Accuracy: 89.04% , Learning_rate: 1e-07\n"
     ]
    },
    {
     "name": "stderr",
     "output_type": "stream",
     "text": [
      "\n",
      "Epoch 161: 100%|\u001b[34m██████████████████████████████████████████████████\u001b[0m| 192/192 [01:32<00:00]"
     ]
    },
    {
     "name": "stdout",
     "output_type": "stream",
     "text": [
      " Loss: 0.0009 , Accuracy: 99.98%\n"
     ]
    },
    {
     "name": "stderr",
     "output_type": "stream",
     "text": [
      "\n",
      "         100%|\u001b[32m██████████████████████████████\u001b[0m| 48/48 [00:07<00:00]"
     ]
    },
    {
     "name": "stdout",
     "output_type": "stream",
     "text": [
      " Val_Loss: 0.6889 , Val_Accuracy: 89.10% , Learning_rate: 1e-07\n"
     ]
    },
    {
     "name": "stderr",
     "output_type": "stream",
     "text": [
      "\n",
      "Epoch 162: 100%|\u001b[34m██████████████████████████████████████████████████\u001b[0m| 192/192 [01:32<00:00]"
     ]
    },
    {
     "name": "stdout",
     "output_type": "stream",
     "text": [
      " Loss: 0.0003 , Accuracy: 99.99%\n"
     ]
    },
    {
     "name": "stderr",
     "output_type": "stream",
     "text": [
      "\n",
      "         100%|\u001b[32m██████████████████████████████\u001b[0m| 48/48 [00:07<00:00]"
     ]
    },
    {
     "name": "stdout",
     "output_type": "stream",
     "text": [
      " Val_Loss: 0.6808 , Val_Accuracy: 89.30% , Learning_rate: 1e-07\n"
     ]
    },
    {
     "name": "stderr",
     "output_type": "stream",
     "text": [
      "\n",
      "Epoch 163: 100%|\u001b[34m██████████████████████████████████████████████████\u001b[0m| 192/192 [01:32<00:00]"
     ]
    },
    {
     "name": "stdout",
     "output_type": "stream",
     "text": [
      " Loss: 0.0004 , Accuracy: 99.99%\n"
     ]
    },
    {
     "name": "stderr",
     "output_type": "stream",
     "text": [
      "\n",
      "         100%|\u001b[32m██████████████████████████████\u001b[0m| 48/48 [00:07<00:00]"
     ]
    },
    {
     "name": "stdout",
     "output_type": "stream",
     "text": [
      " Val_Loss: 0.6848 , Val_Accuracy: 89.14% , Learning_rate: 1e-07\n"
     ]
    },
    {
     "name": "stderr",
     "output_type": "stream",
     "text": [
      "\n",
      "Epoch 164: 100%|\u001b[34m██████████████████████████████████████████████████\u001b[0m| 192/192 [01:32<00:00]"
     ]
    },
    {
     "name": "stdout",
     "output_type": "stream",
     "text": [
      " Loss: 0.0005 , Accuracy: 99.98%\n"
     ]
    },
    {
     "name": "stderr",
     "output_type": "stream",
     "text": [
      "\n",
      "         100%|\u001b[32m██████████████████████████████\u001b[0m| 48/48 [00:07<00:00]"
     ]
    },
    {
     "name": "stdout",
     "output_type": "stream",
     "text": [
      " Val_Loss: 0.6840 , Val_Accuracy: 89.17% , Learning_rate: 1e-07\n"
     ]
    },
    {
     "name": "stderr",
     "output_type": "stream",
     "text": [
      "\n",
      "Epoch 165: 100%|\u001b[34m██████████████████████████████████████████████████\u001b[0m| 192/192 [01:32<00:00]"
     ]
    },
    {
     "name": "stdout",
     "output_type": "stream",
     "text": [
      " Loss: 0.0007 , Accuracy: 99.98%\n"
     ]
    },
    {
     "name": "stderr",
     "output_type": "stream",
     "text": [
      "\n",
      "         100%|\u001b[32m██████████████████████████████\u001b[0m| 48/48 [00:07<00:00]"
     ]
    },
    {
     "name": "stdout",
     "output_type": "stream",
     "text": [
      " Val_Loss: 0.6891 , Val_Accuracy: 89.30% , Learning_rate: 1e-07\n"
     ]
    },
    {
     "name": "stderr",
     "output_type": "stream",
     "text": [
      "\n",
      "Epoch 166: 100%|\u001b[34m██████████████████████████████████████████████████\u001b[0m| 192/192 [01:32<00:00]"
     ]
    },
    {
     "name": "stdout",
     "output_type": "stream",
     "text": [
      " Loss: 0.0007 , Accuracy: 99.98%\n"
     ]
    },
    {
     "name": "stderr",
     "output_type": "stream",
     "text": [
      "\n",
      "         100%|\u001b[32m██████████████████████████████\u001b[0m| 48/48 [00:07<00:00]"
     ]
    },
    {
     "name": "stdout",
     "output_type": "stream",
     "text": [
      " Val_Loss: 0.6866 , Val_Accuracy: 89.37% , Learning_rate: 1e-07\n"
     ]
    },
    {
     "name": "stderr",
     "output_type": "stream",
     "text": [
      "\n",
      "Epoch 167: 100%|\u001b[34m██████████████████████████████████████████████████\u001b[0m| 192/192 [01:32<00:00]"
     ]
    },
    {
     "name": "stdout",
     "output_type": "stream",
     "text": [
      " Loss: 0.0005 , Accuracy: 100.00%\n"
     ]
    },
    {
     "name": "stderr",
     "output_type": "stream",
     "text": [
      "\n",
      "         100%|\u001b[32m██████████████████████████████\u001b[0m| 48/48 [00:07<00:00]"
     ]
    },
    {
     "name": "stdout",
     "output_type": "stream",
     "text": [
      " Val_Loss: 0.6917 , Val_Accuracy: 89.46% , Learning_rate: 1e-07\n"
     ]
    },
    {
     "name": "stderr",
     "output_type": "stream",
     "text": [
      "\n",
      "Epoch 168: 100%|\u001b[34m██████████████████████████████████████████████████\u001b[0m| 192/192 [01:32<00:00]"
     ]
    },
    {
     "name": "stdout",
     "output_type": "stream",
     "text": [
      " Loss: 0.0004 , Accuracy: 100.00%\n"
     ]
    },
    {
     "name": "stderr",
     "output_type": "stream",
     "text": [
      "\n",
      "         100%|\u001b[32m██████████████████████████████\u001b[0m| 48/48 [00:07<00:00]"
     ]
    },
    {
     "name": "stdout",
     "output_type": "stream",
     "text": [
      " Val_Loss: 0.6904 , Val_Accuracy: 89.47% , Learning_rate: 1e-07\n"
     ]
    },
    {
     "name": "stderr",
     "output_type": "stream",
     "text": [
      "\n",
      "Epoch 169: 100%|\u001b[34m██████████████████████████████████████████████████\u001b[0m| 192/192 [01:32<00:00]"
     ]
    },
    {
     "name": "stdout",
     "output_type": "stream",
     "text": [
      " Loss: 0.0003 , Accuracy: 100.00%\n"
     ]
    },
    {
     "name": "stderr",
     "output_type": "stream",
     "text": [
      "\n",
      "         100%|\u001b[32m██████████████████████████████\u001b[0m| 48/48 [00:07<00:00]"
     ]
    },
    {
     "name": "stdout",
     "output_type": "stream",
     "text": [
      " Val_Loss: 0.6878 , Val_Accuracy: 89.31% , Learning_rate: 1e-07\n"
     ]
    },
    {
     "name": "stderr",
     "output_type": "stream",
     "text": [
      "\n",
      "Epoch 170: 100%|\u001b[34m██████████████████████████████████████████████████\u001b[0m| 192/192 [01:32<00:00]"
     ]
    },
    {
     "name": "stdout",
     "output_type": "stream",
     "text": [
      " Loss: 0.0009 , Accuracy: 99.96%\n"
     ]
    },
    {
     "name": "stderr",
     "output_type": "stream",
     "text": [
      "\n",
      "         100%|\u001b[32m██████████████████████████████\u001b[0m| 48/48 [00:07<00:00]"
     ]
    },
    {
     "name": "stdout",
     "output_type": "stream",
     "text": [
      " Val_Loss: 0.6900 , Val_Accuracy: 88.97% , Learning_rate: 1e-07\n"
     ]
    },
    {
     "name": "stderr",
     "output_type": "stream",
     "text": [
      "\n",
      "Epoch 171: 100%|\u001b[34m██████████████████████████████████████████████████\u001b[0m| 192/192 [01:32<00:00]"
     ]
    },
    {
     "name": "stdout",
     "output_type": "stream",
     "text": [
      " Loss: 0.0003 , Accuracy: 100.00%\n"
     ]
    },
    {
     "name": "stderr",
     "output_type": "stream",
     "text": [
      "\n",
      "         100%|\u001b[32m██████████████████████████████\u001b[0m| 48/48 [00:07<00:00]"
     ]
    },
    {
     "name": "stdout",
     "output_type": "stream",
     "text": [
      " Val_Loss: 0.6849 , Val_Accuracy: 89.40% , Learning_rate: 1e-07\n"
     ]
    },
    {
     "name": "stderr",
     "output_type": "stream",
     "text": [
      "\n",
      "Epoch 172: 100%|\u001b[34m██████████████████████████████████████████████████\u001b[0m| 192/192 [01:32<00:00]"
     ]
    },
    {
     "name": "stdout",
     "output_type": "stream",
     "text": [
      " Loss: 0.0004 , Accuracy: 100.00%\n"
     ]
    },
    {
     "name": "stderr",
     "output_type": "stream",
     "text": [
      "\n",
      "         100%|\u001b[32m██████████████████████████████\u001b[0m| 48/48 [00:07<00:00]"
     ]
    },
    {
     "name": "stdout",
     "output_type": "stream",
     "text": [
      " Val_Loss: 0.6885 , Val_Accuracy: 89.53% , Learning_rate: 1e-07\n"
     ]
    },
    {
     "name": "stderr",
     "output_type": "stream",
     "text": [
      "\n",
      "Epoch 173: 100%|\u001b[34m██████████████████████████████████████████████████\u001b[0m| 192/192 [01:32<00:00]"
     ]
    },
    {
     "name": "stdout",
     "output_type": "stream",
     "text": [
      " Loss: 0.0007 , Accuracy: 99.98%\n"
     ]
    },
    {
     "name": "stderr",
     "output_type": "stream",
     "text": [
      "\n",
      "         100%|\u001b[32m██████████████████████████████\u001b[0m| 48/48 [00:07<00:00]"
     ]
    },
    {
     "name": "stdout",
     "output_type": "stream",
     "text": [
      " Val_Loss: 0.6892 , Val_Accuracy: 89.40% , Learning_rate: 1e-07\n"
     ]
    },
    {
     "name": "stderr",
     "output_type": "stream",
     "text": [
      "\n",
      "Epoch 174: 100%|\u001b[34m██████████████████████████████████████████████████\u001b[0m| 192/192 [01:32<00:00]"
     ]
    },
    {
     "name": "stdout",
     "output_type": "stream",
     "text": [
      " Loss: 0.0003 , Accuracy: 99.99%\n"
     ]
    },
    {
     "name": "stderr",
     "output_type": "stream",
     "text": [
      "\n",
      "         100%|\u001b[32m██████████████████████████████\u001b[0m| 48/48 [00:07<00:00]"
     ]
    },
    {
     "name": "stdout",
     "output_type": "stream",
     "text": [
      " Val_Loss: 0.6884 , Val_Accuracy: 89.47% , Learning_rate: 1e-07\n"
     ]
    },
    {
     "name": "stderr",
     "output_type": "stream",
     "text": [
      "\n",
      "Epoch 175: 100%|\u001b[34m██████████████████████████████████████████████████\u001b[0m| 192/192 [01:32<00:00]"
     ]
    },
    {
     "name": "stdout",
     "output_type": "stream",
     "text": [
      " Loss: 0.0003 , Accuracy: 100.00%\n"
     ]
    },
    {
     "name": "stderr",
     "output_type": "stream",
     "text": [
      "\n",
      "         100%|\u001b[32m██████████████████████████████\u001b[0m| 48/48 [00:07<00:00]"
     ]
    },
    {
     "name": "stdout",
     "output_type": "stream",
     "text": [
      " Val_Loss: 0.6886 , Val_Accuracy: 89.24% , Learning_rate: 1e-07\n"
     ]
    },
    {
     "name": "stderr",
     "output_type": "stream",
     "text": [
      "\n",
      "Epoch 176: 100%|\u001b[34m██████████████████████████████████████████████████\u001b[0m| 192/192 [01:32<00:00]"
     ]
    },
    {
     "name": "stdout",
     "output_type": "stream",
     "text": [
      " Loss: 0.0007 , Accuracy: 99.98%\n"
     ]
    },
    {
     "name": "stderr",
     "output_type": "stream",
     "text": [
      "\n",
      "         100%|\u001b[32m██████████████████████████████\u001b[0m| 48/48 [00:07<00:00]"
     ]
    },
    {
     "name": "stdout",
     "output_type": "stream",
     "text": [
      " Val_Loss: 0.6933 , Val_Accuracy: 89.21% , Learning_rate: 1e-07\n"
     ]
    },
    {
     "name": "stderr",
     "output_type": "stream",
     "text": [
      "\n",
      "Epoch 177: 100%|\u001b[34m██████████████████████████████████████████████████\u001b[0m| 192/192 [01:32<00:00]"
     ]
    },
    {
     "name": "stdout",
     "output_type": "stream",
     "text": [
      " Loss: 0.0008 , Accuracy: 99.97%\n"
     ]
    },
    {
     "name": "stderr",
     "output_type": "stream",
     "text": [
      "\n",
      "         100%|\u001b[32m██████████████████████████████\u001b[0m| 48/48 [00:07<00:00]"
     ]
    },
    {
     "name": "stdout",
     "output_type": "stream",
     "text": [
      " Val_Loss: 0.6854 , Val_Accuracy: 88.97% , Learning_rate: 1e-07\n"
     ]
    },
    {
     "name": "stderr",
     "output_type": "stream",
     "text": [
      "\n",
      "Epoch 178: 100%|\u001b[34m██████████████████████████████████████████████████\u001b[0m| 192/192 [01:32<00:00]"
     ]
    },
    {
     "name": "stdout",
     "output_type": "stream",
     "text": [
      " Loss: 0.0006 , Accuracy: 99.98%\n"
     ]
    },
    {
     "name": "stderr",
     "output_type": "stream",
     "text": [
      "\n",
      "         100%|\u001b[32m██████████████████████████████\u001b[0m| 48/48 [00:07<00:00]"
     ]
    },
    {
     "name": "stdout",
     "output_type": "stream",
     "text": [
      " Val_Loss: 0.6905 , Val_Accuracy: 89.34% , Learning_rate: 1e-07\n"
     ]
    },
    {
     "name": "stderr",
     "output_type": "stream",
     "text": [
      "\n",
      "Epoch 179: 100%|\u001b[34m██████████████████████████████████████████████████\u001b[0m| 192/192 [01:32<00:00]"
     ]
    },
    {
     "name": "stdout",
     "output_type": "stream",
     "text": [
      " Loss: 0.0005 , Accuracy: 99.98%\n"
     ]
    },
    {
     "name": "stderr",
     "output_type": "stream",
     "text": [
      "\n",
      "         100%|\u001b[32m██████████████████████████████\u001b[0m| 48/48 [00:07<00:00]"
     ]
    },
    {
     "name": "stdout",
     "output_type": "stream",
     "text": [
      " Val_Loss: 0.6843 , Val_Accuracy: 89.20% , Learning_rate: 1e-07\n"
     ]
    },
    {
     "name": "stderr",
     "output_type": "stream",
     "text": [
      "\n",
      "Epoch 180: 100%|\u001b[34m██████████████████████████████████████████████████\u001b[0m| 192/192 [01:32<00:00]"
     ]
    },
    {
     "name": "stdout",
     "output_type": "stream",
     "text": [
      " Loss: 0.0004 , Accuracy: 100.00%\n"
     ]
    },
    {
     "name": "stderr",
     "output_type": "stream",
     "text": [
      "\n",
      "         100%|\u001b[32m██████████████████████████████\u001b[0m| 48/48 [00:07<00:00]"
     ]
    },
    {
     "name": "stdout",
     "output_type": "stream",
     "text": [
      " Val_Loss: 0.6832 , Val_Accuracy: 89.27% , Learning_rate: 1e-07\n"
     ]
    },
    {
     "name": "stderr",
     "output_type": "stream",
     "text": [
      "\n",
      "Epoch 181: 100%|\u001b[34m██████████████████████████████████████████████████\u001b[0m| 192/192 [01:32<00:00]"
     ]
    },
    {
     "name": "stdout",
     "output_type": "stream",
     "text": [
      " Loss: 0.0006 , Accuracy: 99.98%\n"
     ]
    },
    {
     "name": "stderr",
     "output_type": "stream",
     "text": [
      "\n",
      "         100%|\u001b[32m██████████████████████████████\u001b[0m| 48/48 [00:07<00:00]"
     ]
    },
    {
     "name": "stdout",
     "output_type": "stream",
     "text": [
      " Val_Loss: 0.6905 , Val_Accuracy: 89.43% , Learning_rate: 1e-07\n"
     ]
    },
    {
     "name": "stderr",
     "output_type": "stream",
     "text": [
      "\n",
      "Epoch 182: 100%|\u001b[34m██████████████████████████████████████████████████\u001b[0m| 192/192 [01:32<00:00]"
     ]
    },
    {
     "name": "stdout",
     "output_type": "stream",
     "text": [
      " Loss: 0.0005 , Accuracy: 99.98%\n"
     ]
    },
    {
     "name": "stderr",
     "output_type": "stream",
     "text": [
      "\n",
      "         100%|\u001b[32m██████████████████████████████\u001b[0m| 48/48 [00:07<00:00]"
     ]
    },
    {
     "name": "stdout",
     "output_type": "stream",
     "text": [
      " Val_Loss: 0.6944 , Val_Accuracy: 89.20% , Learning_rate: 1e-07\n"
     ]
    },
    {
     "name": "stderr",
     "output_type": "stream",
     "text": [
      "\n",
      "Epoch 183: 100%|\u001b[34m██████████████████████████████████████████████████\u001b[0m| 192/192 [01:32<00:00]"
     ]
    },
    {
     "name": "stdout",
     "output_type": "stream",
     "text": [
      " Loss: 0.0003 , Accuracy: 100.00%\n"
     ]
    },
    {
     "name": "stderr",
     "output_type": "stream",
     "text": [
      "\n",
      "         100%|\u001b[32m██████████████████████████████\u001b[0m| 48/48 [00:07<00:00]\n"
     ]
    },
    {
     "name": "stdout",
     "output_type": "stream",
     "text": [
      " Val_Loss: 0.6920 , Val_Accuracy: 89.07% , Learning_rate: 1e-07\n"
     ]
    },
    {
     "name": "stderr",
     "output_type": "stream",
     "text": [
      "Epoch 184: 100%|\u001b[34m██████████████████████████████████████████████████\u001b[0m| 192/192 [01:32<00:00]"
     ]
    },
    {
     "name": "stdout",
     "output_type": "stream",
     "text": [
      " Loss: 0.0006 , Accuracy: 99.98%\n"
     ]
    },
    {
     "name": "stderr",
     "output_type": "stream",
     "text": [
      "\n",
      "         100%|\u001b[32m██████████████████████████████\u001b[0m| 48/48 [00:07<00:00]"
     ]
    },
    {
     "name": "stdout",
     "output_type": "stream",
     "text": [
      " Val_Loss: 0.6938 , Val_Accuracy: 89.24% , Learning_rate: 1e-07\n"
     ]
    },
    {
     "name": "stderr",
     "output_type": "stream",
     "text": [
      "\n",
      "Epoch 185: 100%|\u001b[34m██████████████████████████████████████████████████\u001b[0m| 192/192 [01:32<00:00]"
     ]
    },
    {
     "name": "stdout",
     "output_type": "stream",
     "text": [
      " Loss: 0.0004 , Accuracy: 99.99%\n"
     ]
    },
    {
     "name": "stderr",
     "output_type": "stream",
     "text": [
      "\n",
      "         100%|\u001b[32m██████████████████████████████\u001b[0m| 48/48 [00:07<00:00]"
     ]
    },
    {
     "name": "stdout",
     "output_type": "stream",
     "text": [
      " Val_Loss: 0.6837 , Val_Accuracy: 89.27% , Learning_rate: 1e-07\n"
     ]
    },
    {
     "name": "stderr",
     "output_type": "stream",
     "text": [
      "\n",
      "Epoch 186: 100%|\u001b[34m██████████████████████████████████████████████████\u001b[0m| 192/192 [01:32<00:00]"
     ]
    },
    {
     "name": "stdout",
     "output_type": "stream",
     "text": [
      " Loss: 0.0008 , Accuracy: 99.98%\n"
     ]
    },
    {
     "name": "stderr",
     "output_type": "stream",
     "text": [
      "\n",
      "         100%|\u001b[32m██████████████████████████████\u001b[0m| 48/48 [00:07<00:00]"
     ]
    },
    {
     "name": "stdout",
     "output_type": "stream",
     "text": [
      " Val_Loss: 0.6868 , Val_Accuracy: 89.14% , Learning_rate: 1e-07\n"
     ]
    },
    {
     "name": "stderr",
     "output_type": "stream",
     "text": [
      "\n",
      "Epoch 187: 100%|\u001b[34m██████████████████████████████████████████████████\u001b[0m| 192/192 [01:32<00:00]"
     ]
    },
    {
     "name": "stdout",
     "output_type": "stream",
     "text": [
      " Loss: 0.0003 , Accuracy: 100.00%\n"
     ]
    },
    {
     "name": "stderr",
     "output_type": "stream",
     "text": [
      "\n",
      "         100%|\u001b[32m██████████████████████████████\u001b[0m| 48/48 [00:07<00:00]\n"
     ]
    },
    {
     "name": "stdout",
     "output_type": "stream",
     "text": [
      " Val_Loss: 0.6933 , Val_Accuracy: 89.04% , Learning_rate: 1e-07\n"
     ]
    },
    {
     "name": "stderr",
     "output_type": "stream",
     "text": [
      "Epoch 188: 100%|\u001b[34m██████████████████████████████████████████████████\u001b[0m| 192/192 [01:32<00:00]"
     ]
    },
    {
     "name": "stdout",
     "output_type": "stream",
     "text": [
      " Loss: 0.0003 , Accuracy: 100.00%\n"
     ]
    },
    {
     "name": "stderr",
     "output_type": "stream",
     "text": [
      "\n",
      "         100%|\u001b[32m██████████████████████████████\u001b[0m| 48/48 [00:07<00:00]"
     ]
    },
    {
     "name": "stdout",
     "output_type": "stream",
     "text": [
      " Val_Loss: 0.6874 , Val_Accuracy: 89.40% , Learning_rate: 1e-07\n"
     ]
    },
    {
     "name": "stderr",
     "output_type": "stream",
     "text": [
      "\n",
      "Epoch 189: 100%|\u001b[34m██████████████████████████████████████████████████\u001b[0m| 192/192 [01:32<00:00]"
     ]
    },
    {
     "name": "stdout",
     "output_type": "stream",
     "text": [
      " Loss: 0.0003 , Accuracy: 100.00%\n"
     ]
    },
    {
     "name": "stderr",
     "output_type": "stream",
     "text": [
      "\n",
      "         100%|\u001b[32m██████████████████████████████\u001b[0m| 48/48 [00:07<00:00]"
     ]
    },
    {
     "name": "stdout",
     "output_type": "stream",
     "text": [
      " Val_Loss: 0.6906 , Val_Accuracy: 89.27% , Learning_rate: 1e-07\n"
     ]
    },
    {
     "name": "stderr",
     "output_type": "stream",
     "text": [
      "\n",
      "Epoch 190: 100%|\u001b[34m██████████████████████████████████████████████████\u001b[0m| 192/192 [01:32<00:00]"
     ]
    },
    {
     "name": "stdout",
     "output_type": "stream",
     "text": [
      " Loss: 0.0005 , Accuracy: 99.99%\n"
     ]
    },
    {
     "name": "stderr",
     "output_type": "stream",
     "text": [
      "\n",
      "         100%|\u001b[32m██████████████████████████████\u001b[0m| 48/48 [00:07<00:00]"
     ]
    },
    {
     "name": "stdout",
     "output_type": "stream",
     "text": [
      " Val_Loss: 0.6867 , Val_Accuracy: 89.13% , Learning_rate: 1e-07\n"
     ]
    },
    {
     "name": "stderr",
     "output_type": "stream",
     "text": [
      "\n",
      "Epoch 191: 100%|\u001b[34m██████████████████████████████████████████████████\u001b[0m| 192/192 [01:32<00:00]"
     ]
    },
    {
     "name": "stdout",
     "output_type": "stream",
     "text": [
      " Loss: 0.0004 , Accuracy: 99.99%\n"
     ]
    },
    {
     "name": "stderr",
     "output_type": "stream",
     "text": [
      "\n",
      "         100%|\u001b[32m██████████████████████████████\u001b[0m| 48/48 [00:07<00:00]"
     ]
    },
    {
     "name": "stdout",
     "output_type": "stream",
     "text": [
      " Val_Loss: 0.6868 , Val_Accuracy: 89.10% , Learning_rate: 1e-07\n"
     ]
    },
    {
     "name": "stderr",
     "output_type": "stream",
     "text": [
      "\n",
      "Epoch 192: 100%|\u001b[34m██████████████████████████████████████████████████\u001b[0m| 192/192 [01:32<00:00]"
     ]
    },
    {
     "name": "stdout",
     "output_type": "stream",
     "text": [
      " Loss: 0.0006 , Accuracy: 99.98%\n"
     ]
    },
    {
     "name": "stderr",
     "output_type": "stream",
     "text": [
      "\n",
      "         100%|\u001b[32m██████████████████████████████\u001b[0m| 48/48 [00:07<00:00]"
     ]
    },
    {
     "name": "stdout",
     "output_type": "stream",
     "text": [
      " Val_Loss: 0.6853 , Val_Accuracy: 89.36% , Learning_rate: 1e-07\n"
     ]
    },
    {
     "name": "stderr",
     "output_type": "stream",
     "text": [
      "\n",
      "Epoch 193: 100%|\u001b[34m██████████████████████████████████████████████████\u001b[0m| 192/192 [01:32<00:00]"
     ]
    },
    {
     "name": "stdout",
     "output_type": "stream",
     "text": [
      " Loss: 0.0003 , Accuracy: 100.00%\n"
     ]
    },
    {
     "name": "stderr",
     "output_type": "stream",
     "text": [
      "\n",
      "         100%|\u001b[32m██████████████████████████████\u001b[0m| 48/48 [00:07<00:00]"
     ]
    },
    {
     "name": "stdout",
     "output_type": "stream",
     "text": [
      " Val_Loss: 0.6869 , Val_Accuracy: 89.24% , Learning_rate: 1e-07\n"
     ]
    },
    {
     "name": "stderr",
     "output_type": "stream",
     "text": [
      "\n",
      "Epoch 194: 100%|\u001b[34m██████████████████████████████████████████████████\u001b[0m| 192/192 [01:32<00:00]"
     ]
    },
    {
     "name": "stdout",
     "output_type": "stream",
     "text": [
      " Loss: 0.0005 , Accuracy: 99.99%\n"
     ]
    },
    {
     "name": "stderr",
     "output_type": "stream",
     "text": [
      "\n",
      "         100%|\u001b[32m██████████████████████████████\u001b[0m| 48/48 [00:07<00:00]"
     ]
    },
    {
     "name": "stdout",
     "output_type": "stream",
     "text": [
      " Val_Loss: 0.6890 , Val_Accuracy: 89.17% , Learning_rate: 1e-07\n"
     ]
    },
    {
     "name": "stderr",
     "output_type": "stream",
     "text": [
      "\n",
      "Epoch 195: 100%|\u001b[34m██████████████████████████████████████████████████\u001b[0m| 192/192 [01:32<00:00]"
     ]
    },
    {
     "name": "stdout",
     "output_type": "stream",
     "text": [
      " Loss: 0.0003 , Accuracy: 100.00%\n"
     ]
    },
    {
     "name": "stderr",
     "output_type": "stream",
     "text": [
      "\n",
      "         100%|\u001b[32m██████████████████████████████\u001b[0m| 48/48 [00:07<00:00]"
     ]
    },
    {
     "name": "stdout",
     "output_type": "stream",
     "text": [
      " Val_Loss: 0.6894 , Val_Accuracy: 89.20% , Learning_rate: 1e-07\n"
     ]
    },
    {
     "name": "stderr",
     "output_type": "stream",
     "text": [
      "\n",
      "Epoch 196: 100%|\u001b[34m██████████████████████████████████████████████████\u001b[0m| 192/192 [01:32<00:00]"
     ]
    },
    {
     "name": "stdout",
     "output_type": "stream",
     "text": [
      " Loss: 0.0004 , Accuracy: 99.99%\n"
     ]
    },
    {
     "name": "stderr",
     "output_type": "stream",
     "text": [
      "\n",
      "         100%|\u001b[32m██████████████████████████████\u001b[0m| 48/48 [00:07<00:00]"
     ]
    },
    {
     "name": "stdout",
     "output_type": "stream",
     "text": [
      " Val_Loss: 0.6913 , Val_Accuracy: 89.07% , Learning_rate: 1e-07\n"
     ]
    },
    {
     "name": "stderr",
     "output_type": "stream",
     "text": [
      "\n",
      "Epoch 197: 100%|\u001b[34m██████████████████████████████████████████████████\u001b[0m| 192/192 [01:32<00:00]"
     ]
    },
    {
     "name": "stdout",
     "output_type": "stream",
     "text": [
      " Loss: 0.0006 , Accuracy: 99.97%\n"
     ]
    },
    {
     "name": "stderr",
     "output_type": "stream",
     "text": [
      "\n",
      "         100%|\u001b[32m██████████████████████████████\u001b[0m| 48/48 [00:07<00:00]"
     ]
    },
    {
     "name": "stdout",
     "output_type": "stream",
     "text": [
      " Val_Loss: 0.6864 , Val_Accuracy: 89.34% , Learning_rate: 1e-07\n"
     ]
    },
    {
     "name": "stderr",
     "output_type": "stream",
     "text": [
      "\n",
      "Epoch 198: 100%|\u001b[34m██████████████████████████████████████████████████\u001b[0m| 192/192 [01:32<00:00]"
     ]
    },
    {
     "name": "stdout",
     "output_type": "stream",
     "text": [
      " Loss: 0.0005 , Accuracy: 99.98%\n"
     ]
    },
    {
     "name": "stderr",
     "output_type": "stream",
     "text": [
      "\n",
      "         100%|\u001b[32m██████████████████████████████\u001b[0m| 48/48 [00:07<00:00]"
     ]
    },
    {
     "name": "stdout",
     "output_type": "stream",
     "text": [
      " Val_Loss: 0.6910 , Val_Accuracy: 89.50% , Learning_rate: 1e-07\n"
     ]
    },
    {
     "name": "stderr",
     "output_type": "stream",
     "text": [
      "\n",
      "Epoch 199: 100%|\u001b[34m██████████████████████████████████████████████████\u001b[0m| 192/192 [01:32<00:00]"
     ]
    },
    {
     "name": "stdout",
     "output_type": "stream",
     "text": [
      " Loss: 0.0005 , Accuracy: 99.98%\n"
     ]
    },
    {
     "name": "stderr",
     "output_type": "stream",
     "text": [
      "\n",
      "         100%|\u001b[32m██████████████████████████████\u001b[0m| 48/48 [00:07<00:00]"
     ]
    },
    {
     "name": "stdout",
     "output_type": "stream",
     "text": [
      " Val_Loss: 0.6908 , Val_Accuracy: 89.00% , Learning_rate: 1e-07\n"
     ]
    },
    {
     "name": "stderr",
     "output_type": "stream",
     "text": [
      "\n",
      "Epoch 200: 100%|\u001b[34m██████████████████████████████████████████████████\u001b[0m| 192/192 [01:32<00:00]"
     ]
    },
    {
     "name": "stdout",
     "output_type": "stream",
     "text": [
      " Loss: 0.0005 , Accuracy: 99.99%\n"
     ]
    },
    {
     "name": "stderr",
     "output_type": "stream",
     "text": [
      "\n",
      "         100%|\u001b[32m██████████████████████████████\u001b[0m| 48/48 [00:07<00:00]"
     ]
    },
    {
     "name": "stdout",
     "output_type": "stream",
     "text": [
      " Val_Loss: 0.6920 , Val_Accuracy: 89.30% , Learning_rate: 1e-07\n"
     ]
    },
    {
     "name": "stderr",
     "output_type": "stream",
     "text": [
      "\n",
      "Epoch 201: 100%|\u001b[34m██████████████████████████████████████████████████\u001b[0m| 192/192 [01:32<00:00]"
     ]
    },
    {
     "name": "stdout",
     "output_type": "stream",
     "text": [
      " Loss: 0.0004 , Accuracy: 100.00%\n"
     ]
    },
    {
     "name": "stderr",
     "output_type": "stream",
     "text": [
      "\n",
      "         100%|\u001b[32m██████████████████████████████\u001b[0m| 48/48 [00:07<00:00]"
     ]
    },
    {
     "name": "stdout",
     "output_type": "stream",
     "text": [
      " Val_Loss: 0.6918 , Val_Accuracy: 89.60% , Learning_rate: 1e-07\n"
     ]
    },
    {
     "name": "stderr",
     "output_type": "stream",
     "text": [
      "\n",
      "Epoch 202: 100%|\u001b[34m██████████████████████████████████████████████████\u001b[0m| 192/192 [01:32<00:00]"
     ]
    },
    {
     "name": "stdout",
     "output_type": "stream",
     "text": [
      " Loss: 0.0003 , Accuracy: 100.00%\n"
     ]
    },
    {
     "name": "stderr",
     "output_type": "stream",
     "text": [
      "\n",
      "         100%|\u001b[32m██████████████████████████████\u001b[0m| 48/48 [00:07<00:00]\n"
     ]
    },
    {
     "name": "stdout",
     "output_type": "stream",
     "text": [
      " Val_Loss: 0.6862 , Val_Accuracy: 89.41% , Learning_rate: 1e-07\n",
      "----------------------Cal on Test-----------------------\n"
     ]
    },
    {
     "name": "stderr",
     "output_type": "stream",
     "text": [
      "         100%|\u001b[32m██████████████████████████████\u001b[0m| 3068/3068 [00:59<00:00]\n"
     ]
    },
    {
     "name": "stdout",
     "output_type": "stream",
     "text": [
      "Accuracy on Test_ds: 89.700\n"
     ]
    },
    {
     "name": "stderr",
     "output_type": "stream",
     "text": [
      "                                                   \r"
     ]
    },
    {
     "name": "stdout",
     "output_type": "stream",
     "text": [
      "Accuracy on Test_ds with TTAU: 88.722\n",
      "----------------------SUMMARY-----------------------\n",
      " After 202 epochs and 51 plateau count, consume 5:43:56\n",
      " Best Accuracy on Train: 100.000 \n",
      " Best Accuracy on Val: 89.696 \n",
      " Best Accuracy on Test: 89.700 \n",
      " Best Accuracy on Test with tta: 88.722 \n"
     ]
    },
    {
     "data": {
      "text/plain": [
       "(ResNet(\n",
       "   (conv1): Conv2d(3, 64, kernel_size=(7, 7), stride=(2, 2), padding=(3, 3), bias=False)\n",
       "   (bn1): BatchNorm2d(64, eps=1e-05, momentum=0.1, affine=True, track_running_stats=True)\n",
       "   (relu): ReLU(inplace=True)\n",
       "   (maxpool): MaxPool2d(kernel_size=3, stride=2, padding=0, dilation=1, ceil_mode=True)\n",
       "   (layer1): Sequential(\n",
       "     (0): Bottleneck(\n",
       "       (conv1): Conv2d(64, 64, kernel_size=(1, 1), stride=(1, 1), bias=False)\n",
       "       (bn1): BatchNorm2d(64, eps=1e-05, momentum=0.1, affine=True, track_running_stats=True)\n",
       "       (conv2): Conv2d(64, 64, kernel_size=(3, 3), stride=(1, 1), padding=(1, 1), bias=False)\n",
       "       (bn2): BatchNorm2d(64, eps=1e-05, momentum=0.1, affine=True, track_running_stats=True)\n",
       "       (conv3): Conv2d(64, 256, kernel_size=(1, 1), stride=(1, 1), bias=False)\n",
       "       (bn3): BatchNorm2d(256, eps=1e-05, momentum=0.1, affine=True, track_running_stats=True)\n",
       "       (relu): ReLU(inplace=True)\n",
       "       (downsample): Sequential(\n",
       "         (0): Conv2d(64, 256, kernel_size=(1, 1), stride=(1, 1), bias=False)\n",
       "         (1): BatchNorm2d(256, eps=1e-05, momentum=0.1, affine=True, track_running_stats=True)\n",
       "       )\n",
       "       (CbamBlock): CbamBlock(\n",
       "         (ch_gate): ChannelGate(\n",
       "           (avg_pool): AdaptiveAvgPool2d(output_size=(1, 1))\n",
       "           (max_pool): AdaptiveMaxPool2d(output_size=(1, 1))\n",
       "           (mlp): MLP(\n",
       "             (fc1): Linear(in_features=256, out_features=16, bias=True)\n",
       "             (activ): ReLU(inplace=True)\n",
       "             (fc2): Linear(in_features=16, out_features=256, bias=True)\n",
       "           )\n",
       "           (sigmoid): Sigmoid()\n",
       "         )\n",
       "         (sp_gate): SpatialGate(\n",
       "           (conv): ConvBlock(\n",
       "             (conv): Conv2d(2, 1, kernel_size=(7, 7), stride=(1, 1), padding=(3, 3), bias=False)\n",
       "             (bn): BatchNorm2d(1, eps=1e-05, momentum=0.1, affine=True, track_running_stats=True)\n",
       "           )\n",
       "           (sigmoid): Sigmoid()\n",
       "         )\n",
       "       )\n",
       "     )\n",
       "     (1): Bottleneck(\n",
       "       (conv1): Conv2d(256, 64, kernel_size=(1, 1), stride=(1, 1), bias=False)\n",
       "       (bn1): BatchNorm2d(64, eps=1e-05, momentum=0.1, affine=True, track_running_stats=True)\n",
       "       (conv2): Conv2d(64, 64, kernel_size=(3, 3), stride=(1, 1), padding=(1, 1), bias=False)\n",
       "       (bn2): BatchNorm2d(64, eps=1e-05, momentum=0.1, affine=True, track_running_stats=True)\n",
       "       (conv3): Conv2d(64, 256, kernel_size=(1, 1), stride=(1, 1), bias=False)\n",
       "       (bn3): BatchNorm2d(256, eps=1e-05, momentum=0.1, affine=True, track_running_stats=True)\n",
       "       (relu): ReLU(inplace=True)\n",
       "       (CbamBlock): CbamBlock(\n",
       "         (ch_gate): ChannelGate(\n",
       "           (avg_pool): AdaptiveAvgPool2d(output_size=(1, 1))\n",
       "           (max_pool): AdaptiveMaxPool2d(output_size=(1, 1))\n",
       "           (mlp): MLP(\n",
       "             (fc1): Linear(in_features=256, out_features=16, bias=True)\n",
       "             (activ): ReLU(inplace=True)\n",
       "             (fc2): Linear(in_features=16, out_features=256, bias=True)\n",
       "           )\n",
       "           (sigmoid): Sigmoid()\n",
       "         )\n",
       "         (sp_gate): SpatialGate(\n",
       "           (conv): ConvBlock(\n",
       "             (conv): Conv2d(2, 1, kernel_size=(7, 7), stride=(1, 1), padding=(3, 3), bias=False)\n",
       "             (bn): BatchNorm2d(1, eps=1e-05, momentum=0.1, affine=True, track_running_stats=True)\n",
       "           )\n",
       "           (sigmoid): Sigmoid()\n",
       "         )\n",
       "       )\n",
       "     )\n",
       "     (2): Bottleneck(\n",
       "       (conv1): Conv2d(256, 64, kernel_size=(1, 1), stride=(1, 1), bias=False)\n",
       "       (bn1): BatchNorm2d(64, eps=1e-05, momentum=0.1, affine=True, track_running_stats=True)\n",
       "       (conv2): Conv2d(64, 64, kernel_size=(3, 3), stride=(1, 1), padding=(1, 1), bias=False)\n",
       "       (bn2): BatchNorm2d(64, eps=1e-05, momentum=0.1, affine=True, track_running_stats=True)\n",
       "       (conv3): Conv2d(64, 256, kernel_size=(1, 1), stride=(1, 1), bias=False)\n",
       "       (bn3): BatchNorm2d(256, eps=1e-05, momentum=0.1, affine=True, track_running_stats=True)\n",
       "       (relu): ReLU(inplace=True)\n",
       "       (CbamBlock): CbamBlock(\n",
       "         (ch_gate): ChannelGate(\n",
       "           (avg_pool): AdaptiveAvgPool2d(output_size=(1, 1))\n",
       "           (max_pool): AdaptiveMaxPool2d(output_size=(1, 1))\n",
       "           (mlp): MLP(\n",
       "             (fc1): Linear(in_features=256, out_features=16, bias=True)\n",
       "             (activ): ReLU(inplace=True)\n",
       "             (fc2): Linear(in_features=16, out_features=256, bias=True)\n",
       "           )\n",
       "           (sigmoid): Sigmoid()\n",
       "         )\n",
       "         (sp_gate): SpatialGate(\n",
       "           (conv): ConvBlock(\n",
       "             (conv): Conv2d(2, 1, kernel_size=(7, 7), stride=(1, 1), padding=(3, 3), bias=False)\n",
       "             (bn): BatchNorm2d(1, eps=1e-05, momentum=0.1, affine=True, track_running_stats=True)\n",
       "           )\n",
       "           (sigmoid): Sigmoid()\n",
       "         )\n",
       "       )\n",
       "     )\n",
       "   )\n",
       "   (layer2): Sequential(\n",
       "     (0): Bottleneck(\n",
       "       (conv1): Conv2d(256, 128, kernel_size=(1, 1), stride=(2, 2), bias=False)\n",
       "       (bn1): BatchNorm2d(128, eps=1e-05, momentum=0.1, affine=True, track_running_stats=True)\n",
       "       (conv2): Conv2d(128, 128, kernel_size=(3, 3), stride=(1, 1), padding=(1, 1), bias=False)\n",
       "       (bn2): BatchNorm2d(128, eps=1e-05, momentum=0.1, affine=True, track_running_stats=True)\n",
       "       (conv3): Conv2d(128, 512, kernel_size=(1, 1), stride=(1, 1), bias=False)\n",
       "       (bn3): BatchNorm2d(512, eps=1e-05, momentum=0.1, affine=True, track_running_stats=True)\n",
       "       (relu): ReLU(inplace=True)\n",
       "       (downsample): Sequential(\n",
       "         (0): Conv2d(256, 512, kernel_size=(1, 1), stride=(2, 2), bias=False)\n",
       "         (1): BatchNorm2d(512, eps=1e-05, momentum=0.1, affine=True, track_running_stats=True)\n",
       "       )\n",
       "       (CbamBlock): CbamBlock(\n",
       "         (ch_gate): ChannelGate(\n",
       "           (avg_pool): AdaptiveAvgPool2d(output_size=(1, 1))\n",
       "           (max_pool): AdaptiveMaxPool2d(output_size=(1, 1))\n",
       "           (mlp): MLP(\n",
       "             (fc1): Linear(in_features=512, out_features=32, bias=True)\n",
       "             (activ): ReLU(inplace=True)\n",
       "             (fc2): Linear(in_features=32, out_features=512, bias=True)\n",
       "           )\n",
       "           (sigmoid): Sigmoid()\n",
       "         )\n",
       "         (sp_gate): SpatialGate(\n",
       "           (conv): ConvBlock(\n",
       "             (conv): Conv2d(2, 1, kernel_size=(7, 7), stride=(1, 1), padding=(3, 3), bias=False)\n",
       "             (bn): BatchNorm2d(1, eps=1e-05, momentum=0.1, affine=True, track_running_stats=True)\n",
       "           )\n",
       "           (sigmoid): Sigmoid()\n",
       "         )\n",
       "       )\n",
       "     )\n",
       "     (1): Bottleneck(\n",
       "       (conv1): Conv2d(512, 128, kernel_size=(1, 1), stride=(1, 1), bias=False)\n",
       "       (bn1): BatchNorm2d(128, eps=1e-05, momentum=0.1, affine=True, track_running_stats=True)\n",
       "       (conv2): Conv2d(128, 128, kernel_size=(3, 3), stride=(1, 1), padding=(1, 1), bias=False)\n",
       "       (bn2): BatchNorm2d(128, eps=1e-05, momentum=0.1, affine=True, track_running_stats=True)\n",
       "       (conv3): Conv2d(128, 512, kernel_size=(1, 1), stride=(1, 1), bias=False)\n",
       "       (bn3): BatchNorm2d(512, eps=1e-05, momentum=0.1, affine=True, track_running_stats=True)\n",
       "       (relu): ReLU(inplace=True)\n",
       "       (CbamBlock): CbamBlock(\n",
       "         (ch_gate): ChannelGate(\n",
       "           (avg_pool): AdaptiveAvgPool2d(output_size=(1, 1))\n",
       "           (max_pool): AdaptiveMaxPool2d(output_size=(1, 1))\n",
       "           (mlp): MLP(\n",
       "             (fc1): Linear(in_features=512, out_features=32, bias=True)\n",
       "             (activ): ReLU(inplace=True)\n",
       "             (fc2): Linear(in_features=32, out_features=512, bias=True)\n",
       "           )\n",
       "           (sigmoid): Sigmoid()\n",
       "         )\n",
       "         (sp_gate): SpatialGate(\n",
       "           (conv): ConvBlock(\n",
       "             (conv): Conv2d(2, 1, kernel_size=(7, 7), stride=(1, 1), padding=(3, 3), bias=False)\n",
       "             (bn): BatchNorm2d(1, eps=1e-05, momentum=0.1, affine=True, track_running_stats=True)\n",
       "           )\n",
       "           (sigmoid): Sigmoid()\n",
       "         )\n",
       "       )\n",
       "     )\n",
       "     (2): Bottleneck(\n",
       "       (conv1): Conv2d(512, 128, kernel_size=(1, 1), stride=(1, 1), bias=False)\n",
       "       (bn1): BatchNorm2d(128, eps=1e-05, momentum=0.1, affine=True, track_running_stats=True)\n",
       "       (conv2): Conv2d(128, 128, kernel_size=(3, 3), stride=(1, 1), padding=(1, 1), bias=False)\n",
       "       (bn2): BatchNorm2d(128, eps=1e-05, momentum=0.1, affine=True, track_running_stats=True)\n",
       "       (conv3): Conv2d(128, 512, kernel_size=(1, 1), stride=(1, 1), bias=False)\n",
       "       (bn3): BatchNorm2d(512, eps=1e-05, momentum=0.1, affine=True, track_running_stats=True)\n",
       "       (relu): ReLU(inplace=True)\n",
       "       (CbamBlock): CbamBlock(\n",
       "         (ch_gate): ChannelGate(\n",
       "           (avg_pool): AdaptiveAvgPool2d(output_size=(1, 1))\n",
       "           (max_pool): AdaptiveMaxPool2d(output_size=(1, 1))\n",
       "           (mlp): MLP(\n",
       "             (fc1): Linear(in_features=512, out_features=32, bias=True)\n",
       "             (activ): ReLU(inplace=True)\n",
       "             (fc2): Linear(in_features=32, out_features=512, bias=True)\n",
       "           )\n",
       "           (sigmoid): Sigmoid()\n",
       "         )\n",
       "         (sp_gate): SpatialGate(\n",
       "           (conv): ConvBlock(\n",
       "             (conv): Conv2d(2, 1, kernel_size=(7, 7), stride=(1, 1), padding=(3, 3), bias=False)\n",
       "             (bn): BatchNorm2d(1, eps=1e-05, momentum=0.1, affine=True, track_running_stats=True)\n",
       "           )\n",
       "           (sigmoid): Sigmoid()\n",
       "         )\n",
       "       )\n",
       "     )\n",
       "     (3): Bottleneck(\n",
       "       (conv1): Conv2d(512, 128, kernel_size=(1, 1), stride=(1, 1), bias=False)\n",
       "       (bn1): BatchNorm2d(128, eps=1e-05, momentum=0.1, affine=True, track_running_stats=True)\n",
       "       (conv2): Conv2d(128, 128, kernel_size=(3, 3), stride=(1, 1), padding=(1, 1), bias=False)\n",
       "       (bn2): BatchNorm2d(128, eps=1e-05, momentum=0.1, affine=True, track_running_stats=True)\n",
       "       (conv3): Conv2d(128, 512, kernel_size=(1, 1), stride=(1, 1), bias=False)\n",
       "       (bn3): BatchNorm2d(512, eps=1e-05, momentum=0.1, affine=True, track_running_stats=True)\n",
       "       (relu): ReLU(inplace=True)\n",
       "       (CbamBlock): CbamBlock(\n",
       "         (ch_gate): ChannelGate(\n",
       "           (avg_pool): AdaptiveAvgPool2d(output_size=(1, 1))\n",
       "           (max_pool): AdaptiveMaxPool2d(output_size=(1, 1))\n",
       "           (mlp): MLP(\n",
       "             (fc1): Linear(in_features=512, out_features=32, bias=True)\n",
       "             (activ): ReLU(inplace=True)\n",
       "             (fc2): Linear(in_features=32, out_features=512, bias=True)\n",
       "           )\n",
       "           (sigmoid): Sigmoid()\n",
       "         )\n",
       "         (sp_gate): SpatialGate(\n",
       "           (conv): ConvBlock(\n",
       "             (conv): Conv2d(2, 1, kernel_size=(7, 7), stride=(1, 1), padding=(3, 3), bias=False)\n",
       "             (bn): BatchNorm2d(1, eps=1e-05, momentum=0.1, affine=True, track_running_stats=True)\n",
       "           )\n",
       "           (sigmoid): Sigmoid()\n",
       "         )\n",
       "       )\n",
       "     )\n",
       "   )\n",
       "   (layer3): Sequential(\n",
       "     (0): Bottleneck(\n",
       "       (conv1): Conv2d(512, 256, kernel_size=(1, 1), stride=(2, 2), bias=False)\n",
       "       (bn1): BatchNorm2d(256, eps=1e-05, momentum=0.1, affine=True, track_running_stats=True)\n",
       "       (conv2): Conv2d(256, 256, kernel_size=(3, 3), stride=(1, 1), padding=(1, 1), bias=False)\n",
       "       (bn2): BatchNorm2d(256, eps=1e-05, momentum=0.1, affine=True, track_running_stats=True)\n",
       "       (conv3): Conv2d(256, 1024, kernel_size=(1, 1), stride=(1, 1), bias=False)\n",
       "       (bn3): BatchNorm2d(1024, eps=1e-05, momentum=0.1, affine=True, track_running_stats=True)\n",
       "       (relu): ReLU(inplace=True)\n",
       "       (downsample): Sequential(\n",
       "         (0): Conv2d(512, 1024, kernel_size=(1, 1), stride=(2, 2), bias=False)\n",
       "         (1): BatchNorm2d(1024, eps=1e-05, momentum=0.1, affine=True, track_running_stats=True)\n",
       "       )\n",
       "       (CbamBlock): CbamBlock(\n",
       "         (ch_gate): ChannelGate(\n",
       "           (avg_pool): AdaptiveAvgPool2d(output_size=(1, 1))\n",
       "           (max_pool): AdaptiveMaxPool2d(output_size=(1, 1))\n",
       "           (mlp): MLP(\n",
       "             (fc1): Linear(in_features=1024, out_features=64, bias=True)\n",
       "             (activ): ReLU(inplace=True)\n",
       "             (fc2): Linear(in_features=64, out_features=1024, bias=True)\n",
       "           )\n",
       "           (sigmoid): Sigmoid()\n",
       "         )\n",
       "         (sp_gate): SpatialGate(\n",
       "           (conv): ConvBlock(\n",
       "             (conv): Conv2d(2, 1, kernel_size=(7, 7), stride=(1, 1), padding=(3, 3), bias=False)\n",
       "             (bn): BatchNorm2d(1, eps=1e-05, momentum=0.1, affine=True, track_running_stats=True)\n",
       "           )\n",
       "           (sigmoid): Sigmoid()\n",
       "         )\n",
       "       )\n",
       "     )\n",
       "     (1): Bottleneck(\n",
       "       (conv1): Conv2d(1024, 256, kernel_size=(1, 1), stride=(1, 1), bias=False)\n",
       "       (bn1): BatchNorm2d(256, eps=1e-05, momentum=0.1, affine=True, track_running_stats=True)\n",
       "       (conv2): Conv2d(256, 256, kernel_size=(3, 3), stride=(1, 1), padding=(1, 1), bias=False)\n",
       "       (bn2): BatchNorm2d(256, eps=1e-05, momentum=0.1, affine=True, track_running_stats=True)\n",
       "       (conv3): Conv2d(256, 1024, kernel_size=(1, 1), stride=(1, 1), bias=False)\n",
       "       (bn3): BatchNorm2d(1024, eps=1e-05, momentum=0.1, affine=True, track_running_stats=True)\n",
       "       (relu): ReLU(inplace=True)\n",
       "       (CbamBlock): CbamBlock(\n",
       "         (ch_gate): ChannelGate(\n",
       "           (avg_pool): AdaptiveAvgPool2d(output_size=(1, 1))\n",
       "           (max_pool): AdaptiveMaxPool2d(output_size=(1, 1))\n",
       "           (mlp): MLP(\n",
       "             (fc1): Linear(in_features=1024, out_features=64, bias=True)\n",
       "             (activ): ReLU(inplace=True)\n",
       "             (fc2): Linear(in_features=64, out_features=1024, bias=True)\n",
       "           )\n",
       "           (sigmoid): Sigmoid()\n",
       "         )\n",
       "         (sp_gate): SpatialGate(\n",
       "           (conv): ConvBlock(\n",
       "             (conv): Conv2d(2, 1, kernel_size=(7, 7), stride=(1, 1), padding=(3, 3), bias=False)\n",
       "             (bn): BatchNorm2d(1, eps=1e-05, momentum=0.1, affine=True, track_running_stats=True)\n",
       "           )\n",
       "           (sigmoid): Sigmoid()\n",
       "         )\n",
       "       )\n",
       "     )\n",
       "     (2): Bottleneck(\n",
       "       (conv1): Conv2d(1024, 256, kernel_size=(1, 1), stride=(1, 1), bias=False)\n",
       "       (bn1): BatchNorm2d(256, eps=1e-05, momentum=0.1, affine=True, track_running_stats=True)\n",
       "       (conv2): Conv2d(256, 256, kernel_size=(3, 3), stride=(1, 1), padding=(1, 1), bias=False)\n",
       "       (bn2): BatchNorm2d(256, eps=1e-05, momentum=0.1, affine=True, track_running_stats=True)\n",
       "       (conv3): Conv2d(256, 1024, kernel_size=(1, 1), stride=(1, 1), bias=False)\n",
       "       (bn3): BatchNorm2d(1024, eps=1e-05, momentum=0.1, affine=True, track_running_stats=True)\n",
       "       (relu): ReLU(inplace=True)\n",
       "       (CbamBlock): CbamBlock(\n",
       "         (ch_gate): ChannelGate(\n",
       "           (avg_pool): AdaptiveAvgPool2d(output_size=(1, 1))\n",
       "           (max_pool): AdaptiveMaxPool2d(output_size=(1, 1))\n",
       "           (mlp): MLP(\n",
       "             (fc1): Linear(in_features=1024, out_features=64, bias=True)\n",
       "             (activ): ReLU(inplace=True)\n",
       "             (fc2): Linear(in_features=64, out_features=1024, bias=True)\n",
       "           )\n",
       "           (sigmoid): Sigmoid()\n",
       "         )\n",
       "         (sp_gate): SpatialGate(\n",
       "           (conv): ConvBlock(\n",
       "             (conv): Conv2d(2, 1, kernel_size=(7, 7), stride=(1, 1), padding=(3, 3), bias=False)\n",
       "             (bn): BatchNorm2d(1, eps=1e-05, momentum=0.1, affine=True, track_running_stats=True)\n",
       "           )\n",
       "           (sigmoid): Sigmoid()\n",
       "         )\n",
       "       )\n",
       "     )\n",
       "     (3): Bottleneck(\n",
       "       (conv1): Conv2d(1024, 256, kernel_size=(1, 1), stride=(1, 1), bias=False)\n",
       "       (bn1): BatchNorm2d(256, eps=1e-05, momentum=0.1, affine=True, track_running_stats=True)\n",
       "       (conv2): Conv2d(256, 256, kernel_size=(3, 3), stride=(1, 1), padding=(1, 1), bias=False)\n",
       "       (bn2): BatchNorm2d(256, eps=1e-05, momentum=0.1, affine=True, track_running_stats=True)\n",
       "       (conv3): Conv2d(256, 1024, kernel_size=(1, 1), stride=(1, 1), bias=False)\n",
       "       (bn3): BatchNorm2d(1024, eps=1e-05, momentum=0.1, affine=True, track_running_stats=True)\n",
       "       (relu): ReLU(inplace=True)\n",
       "       (CbamBlock): CbamBlock(\n",
       "         (ch_gate): ChannelGate(\n",
       "           (avg_pool): AdaptiveAvgPool2d(output_size=(1, 1))\n",
       "           (max_pool): AdaptiveMaxPool2d(output_size=(1, 1))\n",
       "           (mlp): MLP(\n",
       "             (fc1): Linear(in_features=1024, out_features=64, bias=True)\n",
       "             (activ): ReLU(inplace=True)\n",
       "             (fc2): Linear(in_features=64, out_features=1024, bias=True)\n",
       "           )\n",
       "           (sigmoid): Sigmoid()\n",
       "         )\n",
       "         (sp_gate): SpatialGate(\n",
       "           (conv): ConvBlock(\n",
       "             (conv): Conv2d(2, 1, kernel_size=(7, 7), stride=(1, 1), padding=(3, 3), bias=False)\n",
       "             (bn): BatchNorm2d(1, eps=1e-05, momentum=0.1, affine=True, track_running_stats=True)\n",
       "           )\n",
       "           (sigmoid): Sigmoid()\n",
       "         )\n",
       "       )\n",
       "     )\n",
       "     (4): Bottleneck(\n",
       "       (conv1): Conv2d(1024, 256, kernel_size=(1, 1), stride=(1, 1), bias=False)\n",
       "       (bn1): BatchNorm2d(256, eps=1e-05, momentum=0.1, affine=True, track_running_stats=True)\n",
       "       (conv2): Conv2d(256, 256, kernel_size=(3, 3), stride=(1, 1), padding=(1, 1), bias=False)\n",
       "       (bn2): BatchNorm2d(256, eps=1e-05, momentum=0.1, affine=True, track_running_stats=True)\n",
       "       (conv3): Conv2d(256, 1024, kernel_size=(1, 1), stride=(1, 1), bias=False)\n",
       "       (bn3): BatchNorm2d(1024, eps=1e-05, momentum=0.1, affine=True, track_running_stats=True)\n",
       "       (relu): ReLU(inplace=True)\n",
       "       (CbamBlock): CbamBlock(\n",
       "         (ch_gate): ChannelGate(\n",
       "           (avg_pool): AdaptiveAvgPool2d(output_size=(1, 1))\n",
       "           (max_pool): AdaptiveMaxPool2d(output_size=(1, 1))\n",
       "           (mlp): MLP(\n",
       "             (fc1): Linear(in_features=1024, out_features=64, bias=True)\n",
       "             (activ): ReLU(inplace=True)\n",
       "             (fc2): Linear(in_features=64, out_features=1024, bias=True)\n",
       "           )\n",
       "           (sigmoid): Sigmoid()\n",
       "         )\n",
       "         (sp_gate): SpatialGate(\n",
       "           (conv): ConvBlock(\n",
       "             (conv): Conv2d(2, 1, kernel_size=(7, 7), stride=(1, 1), padding=(3, 3), bias=False)\n",
       "             (bn): BatchNorm2d(1, eps=1e-05, momentum=0.1, affine=True, track_running_stats=True)\n",
       "           )\n",
       "           (sigmoid): Sigmoid()\n",
       "         )\n",
       "       )\n",
       "     )\n",
       "     (5): Bottleneck(\n",
       "       (conv1): Conv2d(1024, 256, kernel_size=(1, 1), stride=(1, 1), bias=False)\n",
       "       (bn1): BatchNorm2d(256, eps=1e-05, momentum=0.1, affine=True, track_running_stats=True)\n",
       "       (conv2): Conv2d(256, 256, kernel_size=(3, 3), stride=(1, 1), padding=(1, 1), bias=False)\n",
       "       (bn2): BatchNorm2d(256, eps=1e-05, momentum=0.1, affine=True, track_running_stats=True)\n",
       "       (conv3): Conv2d(256, 1024, kernel_size=(1, 1), stride=(1, 1), bias=False)\n",
       "       (bn3): BatchNorm2d(1024, eps=1e-05, momentum=0.1, affine=True, track_running_stats=True)\n",
       "       (relu): ReLU(inplace=True)\n",
       "       (CbamBlock): CbamBlock(\n",
       "         (ch_gate): ChannelGate(\n",
       "           (avg_pool): AdaptiveAvgPool2d(output_size=(1, 1))\n",
       "           (max_pool): AdaptiveMaxPool2d(output_size=(1, 1))\n",
       "           (mlp): MLP(\n",
       "             (fc1): Linear(in_features=1024, out_features=64, bias=True)\n",
       "             (activ): ReLU(inplace=True)\n",
       "             (fc2): Linear(in_features=64, out_features=1024, bias=True)\n",
       "           )\n",
       "           (sigmoid): Sigmoid()\n",
       "         )\n",
       "         (sp_gate): SpatialGate(\n",
       "           (conv): ConvBlock(\n",
       "             (conv): Conv2d(2, 1, kernel_size=(7, 7), stride=(1, 1), padding=(3, 3), bias=False)\n",
       "             (bn): BatchNorm2d(1, eps=1e-05, momentum=0.1, affine=True, track_running_stats=True)\n",
       "           )\n",
       "           (sigmoid): Sigmoid()\n",
       "         )\n",
       "       )\n",
       "     )\n",
       "   )\n",
       "   (layer4): Sequential(\n",
       "     (0): Bottleneck(\n",
       "       (conv1): Conv2d(1024, 512, kernel_size=(1, 1), stride=(2, 2), bias=False)\n",
       "       (bn1): BatchNorm2d(512, eps=1e-05, momentum=0.1, affine=True, track_running_stats=True)\n",
       "       (conv2): Conv2d(512, 512, kernel_size=(3, 3), stride=(1, 1), padding=(1, 1), bias=False)\n",
       "       (bn2): BatchNorm2d(512, eps=1e-05, momentum=0.1, affine=True, track_running_stats=True)\n",
       "       (conv3): Conv2d(512, 2048, kernel_size=(1, 1), stride=(1, 1), bias=False)\n",
       "       (bn3): BatchNorm2d(2048, eps=1e-05, momentum=0.1, affine=True, track_running_stats=True)\n",
       "       (relu): ReLU(inplace=True)\n",
       "       (downsample): Sequential(\n",
       "         (0): Conv2d(1024, 2048, kernel_size=(1, 1), stride=(2, 2), bias=False)\n",
       "         (1): BatchNorm2d(2048, eps=1e-05, momentum=0.1, affine=True, track_running_stats=True)\n",
       "       )\n",
       "       (CbamBlock): CbamBlock(\n",
       "         (ch_gate): ChannelGate(\n",
       "           (avg_pool): AdaptiveAvgPool2d(output_size=(1, 1))\n",
       "           (max_pool): AdaptiveMaxPool2d(output_size=(1, 1))\n",
       "           (mlp): MLP(\n",
       "             (fc1): Linear(in_features=2048, out_features=128, bias=True)\n",
       "             (activ): ReLU(inplace=True)\n",
       "             (fc2): Linear(in_features=128, out_features=2048, bias=True)\n",
       "           )\n",
       "           (sigmoid): Sigmoid()\n",
       "         )\n",
       "         (sp_gate): SpatialGate(\n",
       "           (conv): ConvBlock(\n",
       "             (conv): Conv2d(2, 1, kernel_size=(7, 7), stride=(1, 1), padding=(3, 3), bias=False)\n",
       "             (bn): BatchNorm2d(1, eps=1e-05, momentum=0.1, affine=True, track_running_stats=True)\n",
       "           )\n",
       "           (sigmoid): Sigmoid()\n",
       "         )\n",
       "       )\n",
       "     )\n",
       "     (1): Bottleneck(\n",
       "       (conv1): Conv2d(2048, 512, kernel_size=(1, 1), stride=(1, 1), bias=False)\n",
       "       (bn1): BatchNorm2d(512, eps=1e-05, momentum=0.1, affine=True, track_running_stats=True)\n",
       "       (conv2): Conv2d(512, 512, kernel_size=(3, 3), stride=(1, 1), padding=(1, 1), bias=False)\n",
       "       (bn2): BatchNorm2d(512, eps=1e-05, momentum=0.1, affine=True, track_running_stats=True)\n",
       "       (conv3): Conv2d(512, 2048, kernel_size=(1, 1), stride=(1, 1), bias=False)\n",
       "       (bn3): BatchNorm2d(2048, eps=1e-05, momentum=0.1, affine=True, track_running_stats=True)\n",
       "       (relu): ReLU(inplace=True)\n",
       "       (CbamBlock): CbamBlock(\n",
       "         (ch_gate): ChannelGate(\n",
       "           (avg_pool): AdaptiveAvgPool2d(output_size=(1, 1))\n",
       "           (max_pool): AdaptiveMaxPool2d(output_size=(1, 1))\n",
       "           (mlp): MLP(\n",
       "             (fc1): Linear(in_features=2048, out_features=128, bias=True)\n",
       "             (activ): ReLU(inplace=True)\n",
       "             (fc2): Linear(in_features=128, out_features=2048, bias=True)\n",
       "           )\n",
       "           (sigmoid): Sigmoid()\n",
       "         )\n",
       "         (sp_gate): SpatialGate(\n",
       "           (conv): ConvBlock(\n",
       "             (conv): Conv2d(2, 1, kernel_size=(7, 7), stride=(1, 1), padding=(3, 3), bias=False)\n",
       "             (bn): BatchNorm2d(1, eps=1e-05, momentum=0.1, affine=True, track_running_stats=True)\n",
       "           )\n",
       "           (sigmoid): Sigmoid()\n",
       "         )\n",
       "       )\n",
       "     )\n",
       "     (2): Bottleneck(\n",
       "       (conv1): Conv2d(2048, 512, kernel_size=(1, 1), stride=(1, 1), bias=False)\n",
       "       (bn1): BatchNorm2d(512, eps=1e-05, momentum=0.1, affine=True, track_running_stats=True)\n",
       "       (conv2): Conv2d(512, 512, kernel_size=(3, 3), stride=(1, 1), padding=(1, 1), bias=False)\n",
       "       (bn2): BatchNorm2d(512, eps=1e-05, momentum=0.1, affine=True, track_running_stats=True)\n",
       "       (conv3): Conv2d(512, 2048, kernel_size=(1, 1), stride=(1, 1), bias=False)\n",
       "       (bn3): BatchNorm2d(2048, eps=1e-05, momentum=0.1, affine=True, track_running_stats=True)\n",
       "       (relu): ReLU(inplace=True)\n",
       "       (CbamBlock): CbamBlock(\n",
       "         (ch_gate): ChannelGate(\n",
       "           (avg_pool): AdaptiveAvgPool2d(output_size=(1, 1))\n",
       "           (max_pool): AdaptiveMaxPool2d(output_size=(1, 1))\n",
       "           (mlp): MLP(\n",
       "             (fc1): Linear(in_features=2048, out_features=128, bias=True)\n",
       "             (activ): ReLU(inplace=True)\n",
       "             (fc2): Linear(in_features=128, out_features=2048, bias=True)\n",
       "           )\n",
       "           (sigmoid): Sigmoid()\n",
       "         )\n",
       "         (sp_gate): SpatialGate(\n",
       "           (conv): ConvBlock(\n",
       "             (conv): Conv2d(2, 1, kernel_size=(7, 7), stride=(1, 1), padding=(3, 3), bias=False)\n",
       "             (bn): BatchNorm2d(1, eps=1e-05, momentum=0.1, affine=True, track_running_stats=True)\n",
       "           )\n",
       "           (sigmoid): Sigmoid()\n",
       "         )\n",
       "       )\n",
       "     )\n",
       "   )\n",
       "   (dropout): Dropout(p=0.5, inplace=False)\n",
       "   (avgpool): AvgPool2d(kernel_size=7, stride=1, padding=0)\n",
       "   (fc): Linear(in_features=2048, out_features=7, bias=True)\n",
       " ),\n",
       " 89.69618066151936)"
      ]
     },
     "execution_count": 9,
     "metadata": {},
     "output_type": "execute_result"
    }
   ],
   "source": [
    "trainer = RAFDB_Trainer(model, train_loader, test_loader, test_loader, test_loader_ttau, configs)\n",
    "trainer.Train_model()"
   ]
  },
  {
   "cell_type": "markdown",
   "id": "ab7dacf3",
   "metadata": {
    "papermill": {
     "duration": 2.658685,
     "end_time": "2025-03-01T14:58:20.426756",
     "exception": false,
     "start_time": "2025-03-01T14:58:17.768071",
     "status": "completed"
    },
    "tags": []
   },
   "source": [
    "<h1>5. Validation stage is running</h1>"
   ]
  },
  {
   "cell_type": "code",
   "execution_count": 10,
   "id": "2fd9726d",
   "metadata": {
    "execution": {
     "iopub.execute_input": "2025-03-01T14:58:25.605247Z",
     "iopub.status.busy": "2025-03-01T14:58:25.604906Z",
     "iopub.status.idle": "2025-03-01T14:58:26.823052Z",
     "shell.execute_reply": "2025-03-01T14:58:26.822155Z"
    },
    "papermill": {
     "duration": 3.816918,
     "end_time": "2025-03-01T14:58:26.824345",
     "exception": false,
     "start_time": "2025-03-01T14:58:23.007427",
     "status": "completed"
    },
    "tags": []
   },
   "outputs": [
    {
     "name": "stdout",
     "output_type": "stream",
     "text": [
      "model resnet50 with pre-train on vggface2(trained on MS1M, and then fine-tuned on VGGFace2) is done!\n",
      "actived trained_weight\n",
      "completed\n"
     ]
    }
   ],
   "source": [
    "test_loader_ttau = RafDataSet(\"test\", configs, ttau = True, len_tta = 10) \n",
    "model = get_model_resnet(name = configs['model'], pretrained = configs['use_pretrained'])\n",
    "state = torch.load(configs['rs_dir'])     \n",
    "model.load_state_dict(state[\"net\"])\n",
    "print('completed')"
   ]
  },
  {
   "cell_type": "markdown",
   "id": "940e096d",
   "metadata": {
    "papermill": {
     "duration": 2.587431,
     "end_time": "2025-03-01T14:58:32.021343",
     "exception": false,
     "start_time": "2025-03-01T14:58:29.433912",
     "status": "completed"
    },
    "tags": []
   },
   "source": [
    "<h1>5.1. Confusion Matrix</h1>"
   ]
  },
  {
   "cell_type": "code",
   "execution_count": 11,
   "id": "47c2da60",
   "metadata": {
    "execution": {
     "iopub.execute_input": "2025-03-01T14:58:37.325768Z",
     "iopub.status.busy": "2025-03-01T14:58:37.325448Z",
     "iopub.status.idle": "2025-03-01T15:04:41.551989Z",
     "shell.execute_reply": "2025-03-01T15:04:41.550943Z"
    },
    "papermill": {
     "duration": 366.838258,
     "end_time": "2025-03-01T15:04:41.553470",
     "exception": false,
     "start_time": "2025-03-01T14:58:34.715212",
     "status": "completed"
    },
    "tags": []
   },
   "outputs": [
    {
     "name": "stderr",
     "output_type": "stream",
     "text": [
      "                                                   \r"
     ]
    },
    {
     "data": {
      "image/png": "[encoded data removed]",
      "text/plain": [
       "<Figure size 800x600 with 2 Axes>"
      ]
     },
     "metadata": {},
     "output_type": "display_data"
    },
    {
     "name": "stdout",
     "output_type": "stream",
     "text": [
      "              precision    recall  f1-score   support\n",
      "\n",
      "    Surprise       0.89      0.85      0.87       329\n",
      "        Fear       0.76      0.65      0.70        74\n",
      "     Disgust       0.80      0.69      0.74       160\n",
      "       Happy       0.94      0.95      0.95      1185\n",
      "         Sad       0.88      0.86      0.87       478\n",
      "       Anger       0.84      0.83      0.83       162\n",
      "     Neutral       0.84      0.90      0.87       680\n",
      "\n",
      "    accuracy                           0.89      3068\n",
      "   macro avg       0.85      0.82      0.83      3068\n",
      "weighted avg       0.89      0.89      0.89      3068\n",
      "\n"
     ]
    }
   ],
   "source": [
    "plot_confusion_matrix(model, test_loader_ttau)"
   ]
  },
  {
   "cell_type": "markdown",
   "id": "6ed36bf4",
   "metadata": {
    "papermill": {
     "duration": 2.729611,
     "end_time": "2025-03-01T15:04:47.038607",
     "exception": false,
     "start_time": "2025-03-01T15:04:44.308996",
     "status": "completed"
    },
    "tags": []
   },
   "source": [
    "<h1>5.2. line charts for  training process</h1>"
   ]
  },
  {
   "cell_type": "code",
   "execution_count": 12,
   "id": "9bec0324",
   "metadata": {
    "execution": {
     "iopub.execute_input": "2025-03-01T15:04:52.777827Z",
     "iopub.status.busy": "2025-03-01T15:04:52.776899Z",
     "iopub.status.idle": "2025-03-01T15:04:53.604590Z",
     "shell.execute_reply": "2025-03-01T15:04:53.603757Z"
    },
    "papermill": {
     "duration": 3.612235,
     "end_time": "2025-03-01T15:04:53.606363",
     "exception": false,
     "start_time": "2025-03-01T15:04:49.994128",
     "status": "completed"
    },
    "tags": []
   },
   "outputs": [
    {
     "data": {
      "image/png": "[encoded data removed]",
      "text/plain": [
       "<Figure size 1000x800 with 6 Axes>"
      ]
     },
     "metadata": {},
     "output_type": "display_data"
    }
   ],
   "source": [
    "training_process_statistic(rs_path='/kaggle/working/out.csv')"
   ]
  },
  {
   "cell_type": "code",
   "execution_count": null,
   "id": "2910a4f6",
   "metadata": {
    "papermill": {
     "duration": 2.764281,
     "end_time": "2025-03-01T15:04:59.131714",
     "exception": false,
     "start_time": "2025-03-01T15:04:56.367433",
     "status": "completed"
    },
    "tags": []
   },
   "outputs": [],
   "source": []
  }
 ],
 "metadata": {
  "kaggle": {
   "accelerator": "gpu",
   "dataSources": [
    {
     "datasetId": 4483902,
     "sourceId": 7684589,
     "sourceType": "datasetVersion"
    },
    {
     "datasetId": 5573602,
     "sourceId": 10541347,
     "sourceType": "datasetVersion"
    },
    {
     "datasetId": 6672058,
     "sourceId": 10887679,
     "sourceType": "datasetVersion"
    }
   ],
   "dockerImageVersionId": 30919,
   "isGpuEnabled": true,
   "isInternetEnabled": true,
   "language": "python",
   "sourceType": "notebook"
  },
  "kernelspec": {
   "display_name": "Python 3",
   "language": "python",
   "name": "python3"
  },
  "language_info": {
   "codemirror_mode": {
    "name": "ipython",
    "version": 3
   },
   "file_extension": ".py",
   "mimetype": "text/x-python",
   "name": "python",
   "nbconvert_exporter": "python",
   "pygments_lexer": "ipython3",
   "version": "3.10.12"
  },
  "papermill": {
   "default_parameters": {},
   "duration": 21063.062151,
   "end_time": "2025-03-01T15:05:04.800534",
   "environment_variables": {},
   "exception": null,
   "input_path": "__notebook__.ipynb",
   "output_path": "__notebook__.ipynb",
   "parameters": {},
   "start_time": "2025-03-01T09:14:01.738383",
   "version": "2.6.0"
  }
 },
 "nbformat": 4,
 "nbformat_minor": 5
}
